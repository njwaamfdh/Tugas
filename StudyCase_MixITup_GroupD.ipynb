{
  "nbformat": 4,
  "nbformat_minor": 0,
  "metadata": {
    "colab": {
      "provenance": []
    },
    "kernelspec": {
      "name": "python3",
      "display_name": "Python 3"
    },
    "language_info": {
      "name": "python"
    }
  },
  "cells": [
    {
      "cell_type": "markdown",
      "source": [
        "**Group D**\n",
        "\n",
        "(2006463894)\tYovela Natalia Yvone\n",
        "\n",
        "(2006463931)\tNajwa Mufidah\n",
        "\n",
        "(2006521742)\tNadhila Nur Qamarina\n",
        "\n",
        "(2006522700)\tAnnisa Fairuz Zahira\n",
        "\n",
        "(2006572895)\tNatania Agustin\n",
        "\n",
        "(2006571015)\tAzizah Annurohmah\n",
        "\n",
        "(2006528982)\tYemima Kathleen Monica\n",
        "\n",
        "(2006572983)\tNi Made Lidya Anggreni"
      ],
      "metadata": {
        "id": "lujA_EO9TK2d"
      }
    },
    {
      "cell_type": "markdown",
      "source": [
        "## Preprocessing"
      ],
      "metadata": {
        "id": "xKqqgWLPb-Cz"
      }
    },
    {
      "cell_type": "code",
      "source": [
        "import warnings; warnings.simplefilter('ignore')\n",
        "\n",
        "try:\n",
        "    import google.colab; IN_COLAB = True\n",
        "    print(\"Installing the required modules\")\n",
        "    !pip install --upgrade umap-learn\n",
        "    !wget https://raw.githubusercontent.com/nataniaa/CobaAja/main/casestudy.csv\n",
        "except:\n",
        "    IN_COLAB = False\n",
        "    print(\"Running the code locally, please make sure all the python module versions agree with colab environment and all data/assets downloaded\")"
      ],
      "metadata": {
        "colab": {
          "base_uri": "https://localhost:8080/"
        },
        "id": "QAHn-sqdHNky",
        "outputId": "d78fe6e2-e0cc-49f1-bb81-5be460ecba78"
      },
      "execution_count": null,
      "outputs": [
        {
          "output_type": "stream",
          "name": "stdout",
          "text": [
            "Installing the required modules\n",
            "Looking in indexes: https://pypi.org/simple, https://us-python.pkg.dev/colab-wheels/public/simple/\n",
            "Collecting umap-learn\n",
            "  Downloading umap-learn-0.5.3.tar.gz (88 kB)\n",
            "\u001b[K     |████████████████████████████████| 88 kB 3.6 MB/s \n",
            "\u001b[?25hRequirement already satisfied: numpy>=1.17 in /usr/local/lib/python3.7/dist-packages (from umap-learn) (1.21.6)\n",
            "Requirement already satisfied: scikit-learn>=0.22 in /usr/local/lib/python3.7/dist-packages (from umap-learn) (1.0.2)\n",
            "Requirement already satisfied: scipy>=1.0 in /usr/local/lib/python3.7/dist-packages (from umap-learn) (1.7.3)\n",
            "Requirement already satisfied: numba>=0.49 in /usr/local/lib/python3.7/dist-packages (from umap-learn) (0.56.2)\n",
            "Collecting pynndescent>=0.5\n",
            "  Downloading pynndescent-0.5.7.tar.gz (1.1 MB)\n",
            "\u001b[K     |████████████████████████████████| 1.1 MB 39.1 MB/s \n",
            "\u001b[?25hRequirement already satisfied: tqdm in /usr/local/lib/python3.7/dist-packages (from umap-learn) (4.64.1)\n",
            "Requirement already satisfied: llvmlite<0.40,>=0.39.0dev0 in /usr/local/lib/python3.7/dist-packages (from numba>=0.49->umap-learn) (0.39.1)\n",
            "Requirement already satisfied: setuptools<60 in /usr/local/lib/python3.7/dist-packages (from numba>=0.49->umap-learn) (57.4.0)\n",
            "Requirement already satisfied: importlib-metadata in /usr/local/lib/python3.7/dist-packages (from numba>=0.49->umap-learn) (5.0.0)\n",
            "Requirement already satisfied: joblib>=0.11 in /usr/local/lib/python3.7/dist-packages (from pynndescent>=0.5->umap-learn) (1.2.0)\n",
            "Requirement already satisfied: threadpoolctl>=2.0.0 in /usr/local/lib/python3.7/dist-packages (from scikit-learn>=0.22->umap-learn) (3.1.0)\n",
            "Requirement already satisfied: zipp>=0.5 in /usr/local/lib/python3.7/dist-packages (from importlib-metadata->numba>=0.49->umap-learn) (3.8.1)\n",
            "Requirement already satisfied: typing-extensions>=3.6.4 in /usr/local/lib/python3.7/dist-packages (from importlib-metadata->numba>=0.49->umap-learn) (4.1.1)\n",
            "Building wheels for collected packages: umap-learn, pynndescent\n",
            "  Building wheel for umap-learn (setup.py) ... \u001b[?25l\u001b[?25hdone\n",
            "  Created wheel for umap-learn: filename=umap_learn-0.5.3-py3-none-any.whl size=82829 sha256=283bc448a445dd6ba1506dc9e343f2289c104565be3cb70902a0c1d622a0355c\n",
            "  Stored in directory: /root/.cache/pip/wheels/b3/52/a5/1fd9e3e76a7ab34f134c07469cd6f16e27ef3a37aeff1fe821\n",
            "  Building wheel for pynndescent (setup.py) ... \u001b[?25l\u001b[?25hdone\n",
            "  Created wheel for pynndescent: filename=pynndescent-0.5.7-py3-none-any.whl size=54286 sha256=6a944a66d32763c300e3b5903716587b3a2c99a45558dd3fba29fd715edce089\n",
            "  Stored in directory: /root/.cache/pip/wheels/7f/2a/f8/7bd5dcec71bd5c669f6f574db3113513696b98f3f9b51f496c\n",
            "Successfully built umap-learn pynndescent\n",
            "Installing collected packages: pynndescent, umap-learn\n",
            "Successfully installed pynndescent-0.5.7 umap-learn-0.5.3\n",
            "--2022-10-07 08:12:18--  https://raw.githubusercontent.com/nataniaa/CobaAja/main/casestudy.csv\n",
            "Resolving raw.githubusercontent.com (raw.githubusercontent.com)... 185.199.110.133, 185.199.108.133, 185.199.111.133, ...\n",
            "Connecting to raw.githubusercontent.com (raw.githubusercontent.com)|185.199.110.133|:443... connected.\n",
            "HTTP request sent, awaiting response... 200 OK\n",
            "Length: 349 [text/plain]\n",
            "Saving to: ‘casestudy.csv’\n",
            "\n",
            "casestudy.csv       100%[===================>]     349  --.-KB/s    in 0s      \n",
            "\n",
            "2022-10-07 08:12:18 (14.0 MB/s) - ‘casestudy.csv’ saved [349/349]\n",
            "\n"
          ]
        }
      ]
    },
    {
      "cell_type": "code",
      "source": [
        "# Importing Modules untuk Notebook ini\n",
        "import warnings; warnings.simplefilter('ignore')\n",
        "import umap, numpy as np, matplotlib.pyplot as plt, pandas as pd, seaborn as sns\n",
        "from sklearn import cluster, datasets\n",
        "from sklearn.metrics import silhouette_score as siluet\n",
        "from sklearn.metrics.cluster import homogeneity_score as purity\n",
        "from sklearn.metrics import normalized_mutual_info_score as NMI \n",
        "from sklearn.preprocessing import StandardScaler\n",
        "sns.set(style=\"ticks\", color_codes=True)\n",
        "random_state = 99\n"
      ],
      "metadata": {
        "id": "7kg5oX7JHNh0"
      },
      "execution_count": null,
      "outputs": []
    },
    {
      "cell_type": "code",
      "source": [
        "df = pd.read_csv('https://raw.githubusercontent.com/nataniaa/CobaAja/main/CaseStudy2fix.csv', sep=';')\n",
        "df.head()"
      ],
      "metadata": {
        "colab": {
          "base_uri": "https://localhost:8080/",
          "height": 206
        },
        "id": "Y6qpcJfkHSxM",
        "outputId": "fc604362-06dc-48d0-a32d-fe2fb6a131cf"
      },
      "execution_count": null,
      "outputs": [
        {
          "output_type": "execute_result",
          "data": {
            "text/plain": [
              "  Jenis Kelamin  Umur  Pendapatan-per-bulan  skor-pengeluaran  Menikah  \\\n",
              "0        Wanita    49              13114754                52        1   \n",
              "1        Wanita    32              33606557                86        1   \n",
              "2          Pria    51              15983606                41        1   \n",
              "3          Pria    19              12704918                55        0   \n",
              "4        Wanita    38              20081967                42        1   \n",
              "\n",
              "      Kota  Promo HariFav  FavFlavor  \n",
              "0  Jakarta      1   Sabtu          2  \n",
              "1    Depok      1  Minggu          6  \n",
              "2  Jakarta      2  Minggu          3  \n",
              "3  Jakarta      1    Rabu          7  \n",
              "4  Jakarta      2   Senin          8  "
            ],
            "text/html": [
              "\n",
              "  <div id=\"df-964f775d-dc9c-49f1-9086-3d65eb55f8bb\">\n",
              "    <div class=\"colab-df-container\">\n",
              "      <div>\n",
              "<style scoped>\n",
              "    .dataframe tbody tr th:only-of-type {\n",
              "        vertical-align: middle;\n",
              "    }\n",
              "\n",
              "    .dataframe tbody tr th {\n",
              "        vertical-align: top;\n",
              "    }\n",
              "\n",
              "    .dataframe thead th {\n",
              "        text-align: right;\n",
              "    }\n",
              "</style>\n",
              "<table border=\"1\" class=\"dataframe\">\n",
              "  <thead>\n",
              "    <tr style=\"text-align: right;\">\n",
              "      <th></th>\n",
              "      <th>Jenis Kelamin</th>\n",
              "      <th>Umur</th>\n",
              "      <th>Pendapatan-per-bulan</th>\n",
              "      <th>skor-pengeluaran</th>\n",
              "      <th>Menikah</th>\n",
              "      <th>Kota</th>\n",
              "      <th>Promo</th>\n",
              "      <th>HariFav</th>\n",
              "      <th>FavFlavor</th>\n",
              "    </tr>\n",
              "  </thead>\n",
              "  <tbody>\n",
              "    <tr>\n",
              "      <th>0</th>\n",
              "      <td>Wanita</td>\n",
              "      <td>49</td>\n",
              "      <td>13114754</td>\n",
              "      <td>52</td>\n",
              "      <td>1</td>\n",
              "      <td>Jakarta</td>\n",
              "      <td>1</td>\n",
              "      <td>Sabtu</td>\n",
              "      <td>2</td>\n",
              "    </tr>\n",
              "    <tr>\n",
              "      <th>1</th>\n",
              "      <td>Wanita</td>\n",
              "      <td>32</td>\n",
              "      <td>33606557</td>\n",
              "      <td>86</td>\n",
              "      <td>1</td>\n",
              "      <td>Depok</td>\n",
              "      <td>1</td>\n",
              "      <td>Minggu</td>\n",
              "      <td>6</td>\n",
              "    </tr>\n",
              "    <tr>\n",
              "      <th>2</th>\n",
              "      <td>Pria</td>\n",
              "      <td>51</td>\n",
              "      <td>15983606</td>\n",
              "      <td>41</td>\n",
              "      <td>1</td>\n",
              "      <td>Jakarta</td>\n",
              "      <td>2</td>\n",
              "      <td>Minggu</td>\n",
              "      <td>3</td>\n",
              "    </tr>\n",
              "    <tr>\n",
              "      <th>3</th>\n",
              "      <td>Pria</td>\n",
              "      <td>19</td>\n",
              "      <td>12704918</td>\n",
              "      <td>55</td>\n",
              "      <td>0</td>\n",
              "      <td>Jakarta</td>\n",
              "      <td>1</td>\n",
              "      <td>Rabu</td>\n",
              "      <td>7</td>\n",
              "    </tr>\n",
              "    <tr>\n",
              "      <th>4</th>\n",
              "      <td>Wanita</td>\n",
              "      <td>38</td>\n",
              "      <td>20081967</td>\n",
              "      <td>42</td>\n",
              "      <td>1</td>\n",
              "      <td>Jakarta</td>\n",
              "      <td>2</td>\n",
              "      <td>Senin</td>\n",
              "      <td>8</td>\n",
              "    </tr>\n",
              "  </tbody>\n",
              "</table>\n",
              "</div>\n",
              "      <button class=\"colab-df-convert\" onclick=\"convertToInteractive('df-964f775d-dc9c-49f1-9086-3d65eb55f8bb')\"\n",
              "              title=\"Convert this dataframe to an interactive table.\"\n",
              "              style=\"display:none;\">\n",
              "        \n",
              "  <svg xmlns=\"http://www.w3.org/2000/svg\" height=\"24px\"viewBox=\"0 0 24 24\"\n",
              "       width=\"24px\">\n",
              "    <path d=\"M0 0h24v24H0V0z\" fill=\"none\"/>\n",
              "    <path d=\"M18.56 5.44l.94 2.06.94-2.06 2.06-.94-2.06-.94-.94-2.06-.94 2.06-2.06.94zm-11 1L8.5 8.5l.94-2.06 2.06-.94-2.06-.94L8.5 2.5l-.94 2.06-2.06.94zm10 10l.94 2.06.94-2.06 2.06-.94-2.06-.94-.94-2.06-.94 2.06-2.06.94z\"/><path d=\"M17.41 7.96l-1.37-1.37c-.4-.4-.92-.59-1.43-.59-.52 0-1.04.2-1.43.59L10.3 9.45l-7.72 7.72c-.78.78-.78 2.05 0 2.83L4 21.41c.39.39.9.59 1.41.59.51 0 1.02-.2 1.41-.59l7.78-7.78 2.81-2.81c.8-.78.8-2.07 0-2.86zM5.41 20L4 18.59l7.72-7.72 1.47 1.35L5.41 20z\"/>\n",
              "  </svg>\n",
              "      </button>\n",
              "      \n",
              "  <style>\n",
              "    .colab-df-container {\n",
              "      display:flex;\n",
              "      flex-wrap:wrap;\n",
              "      gap: 12px;\n",
              "    }\n",
              "\n",
              "    .colab-df-convert {\n",
              "      background-color: #E8F0FE;\n",
              "      border: none;\n",
              "      border-radius: 50%;\n",
              "      cursor: pointer;\n",
              "      display: none;\n",
              "      fill: #1967D2;\n",
              "      height: 32px;\n",
              "      padding: 0 0 0 0;\n",
              "      width: 32px;\n",
              "    }\n",
              "\n",
              "    .colab-df-convert:hover {\n",
              "      background-color: #E2EBFA;\n",
              "      box-shadow: 0px 1px 2px rgba(60, 64, 67, 0.3), 0px 1px 3px 1px rgba(60, 64, 67, 0.15);\n",
              "      fill: #174EA6;\n",
              "    }\n",
              "\n",
              "    [theme=dark] .colab-df-convert {\n",
              "      background-color: #3B4455;\n",
              "      fill: #D2E3FC;\n",
              "    }\n",
              "\n",
              "    [theme=dark] .colab-df-convert:hover {\n",
              "      background-color: #434B5C;\n",
              "      box-shadow: 0px 1px 3px 1px rgba(0, 0, 0, 0.15);\n",
              "      filter: drop-shadow(0px 1px 2px rgba(0, 0, 0, 0.3));\n",
              "      fill: #FFFFFF;\n",
              "    }\n",
              "  </style>\n",
              "\n",
              "      <script>\n",
              "        const buttonEl =\n",
              "          document.querySelector('#df-964f775d-dc9c-49f1-9086-3d65eb55f8bb button.colab-df-convert');\n",
              "        buttonEl.style.display =\n",
              "          google.colab.kernel.accessAllowed ? 'block' : 'none';\n",
              "\n",
              "        async function convertToInteractive(key) {\n",
              "          const element = document.querySelector('#df-964f775d-dc9c-49f1-9086-3d65eb55f8bb');\n",
              "          const dataTable =\n",
              "            await google.colab.kernel.invokeFunction('convertToInteractive',\n",
              "                                                     [key], {});\n",
              "          if (!dataTable) return;\n",
              "\n",
              "          const docLinkHtml = 'Like what you see? Visit the ' +\n",
              "            '<a target=\"_blank\" href=https://colab.research.google.com/notebooks/data_table.ipynb>data table notebook</a>'\n",
              "            + ' to learn more about interactive tables.';\n",
              "          element.innerHTML = '';\n",
              "          dataTable['output_type'] = 'display_data';\n",
              "          await google.colab.output.renderOutput(dataTable, element);\n",
              "          const docLink = document.createElement('div');\n",
              "          docLink.innerHTML = docLinkHtml;\n",
              "          element.appendChild(docLink);\n",
              "        }\n",
              "      </script>\n",
              "    </div>\n",
              "  </div>\n",
              "  "
            ]
          },
          "metadata": {},
          "execution_count": 3
        }
      ]
    },
    {
      "cell_type": "markdown",
      "source": [
        "Berdasarkan data yang kami miliki untuk dianalisis, Data Understandingnya tidak memiliki penjelas di variabel kategorik 'rasa' nomor 2 dan nomor 9 sehingga kami mengasumsikan bahwa:\n",
        "0. Vanilla\n",
        "1. Strawberry\n",
        "2. Cookies n' Cream\n",
        "3. Cokelat\n",
        "4. BlueBerry\n",
        "5. BubbleGum/Cotton Candy\n",
        "6. Coconut\n",
        "7. Caramel Pecan\n",
        "8. Mix Flavors\n",
        "9. Mint-Choco"
      ],
      "metadata": {
        "id": "bKHr-fzvdQ8r"
      }
    },
    {
      "cell_type": "code",
      "source": [
        "#mengoreksi tipe data yg salah(kalau ada)\n",
        "df.info()"
      ],
      "metadata": {
        "colab": {
          "base_uri": "https://localhost:8080/"
        },
        "id": "r4-KJXu-Hu4K",
        "outputId": "aa0be581-091d-484b-d387-c7bdd7381a5c"
      },
      "execution_count": null,
      "outputs": [
        {
          "output_type": "stream",
          "name": "stdout",
          "text": [
            "<class 'pandas.core.frame.DataFrame'>\n",
            "RangeIndex: 200 entries, 0 to 199\n",
            "Data columns (total 9 columns):\n",
            " #   Column                Non-Null Count  Dtype \n",
            "---  ------                --------------  ----- \n",
            " 0   Jenis Kelamin         200 non-null    object\n",
            " 1   Umur                  200 non-null    int64 \n",
            " 2   Pendapatan-per-bulan  200 non-null    int64 \n",
            " 3   skor-pengeluaran      200 non-null    int64 \n",
            " 4   Menikah               200 non-null    int64 \n",
            " 5   Kota                  200 non-null    object\n",
            " 6   Promo                 200 non-null    int64 \n",
            " 7   HariFav               200 non-null    object\n",
            " 8   FavFlavor             200 non-null    int64 \n",
            "dtypes: int64(6), object(3)\n",
            "memory usage: 14.2+ KB\n"
          ]
        }
      ]
    },
    {
      "cell_type": "code",
      "source": [
        "df['Jenis Kelamin'] = df['Jenis Kelamin'].astype('category')\n",
        "df['Menikah'] = df['Menikah'].astype('category')\n",
        "df['Kota'] = df['Kota'].astype('category')\n",
        "df['Promo'] = df['Promo'].astype('category')\n",
        "df['HariFav'] = df['HariFav'].astype('category')\n",
        "df['FavFlavor'] = df['FavFlavor'].astype('category')\n",
        "df.dtypes"
      ],
      "metadata": {
        "colab": {
          "base_uri": "https://localhost:8080/"
        },
        "id": "6S5HizOqHyhr",
        "outputId": "21e3b6f9-1d01-4511-cc49-44f7e51a1608"
      },
      "execution_count": null,
      "outputs": [
        {
          "output_type": "execute_result",
          "data": {
            "text/plain": [
              "Jenis Kelamin           category\n",
              "Umur                       int64\n",
              "Pendapatan-per-bulan       int64\n",
              "skor-pengeluaran           int64\n",
              "Menikah                 category\n",
              "Kota                    category\n",
              "Promo                   category\n",
              "HariFav                 category\n",
              "FavFlavor               category\n",
              "dtype: object"
            ]
          },
          "metadata": {},
          "execution_count": 5
        }
      ]
    },
    {
      "cell_type": "code",
      "source": [
        "#stat deskriptif\n",
        "df.describe(include='all')"
      ],
      "metadata": {
        "colab": {
          "base_uri": "https://localhost:8080/",
          "height": 394
        },
        "id": "UjOIiE6pIHbz",
        "outputId": "6133458a-d940-4fec-c8ed-e1bcc8bbd0b8"
      },
      "execution_count": null,
      "outputs": [
        {
          "output_type": "execute_result",
          "data": {
            "text/plain": [
              "       Jenis Kelamin        Umur  Pendapatan-per-bulan  skor-pengeluaran  \\\n",
              "count            200  200.000000          2.000000e+02         200.00000   \n",
              "unique             2         NaN                   NaN               NaN   \n",
              "top           Wanita         NaN                   NaN               NaN   \n",
              "freq             114         NaN                   NaN               NaN   \n",
              "mean             NaN   37.355000          1.867213e+07          50.47000   \n",
              "std              NaN   11.992417          1.076423e+07          26.07101   \n",
              "min              NaN    2.000000          0.000000e+00           1.00000   \n",
              "25%              NaN   28.750000          1.086066e+07          34.75000   \n",
              "50%              NaN   36.000000          1.905738e+07          50.00000   \n",
              "75%              NaN   48.000000          2.581967e+07          73.00000   \n",
              "max              NaN   60.000000          5.000000e+07         101.00000   \n",
              "\n",
              "        Menikah     Kota  Promo HariFav  FavFlavor  \n",
              "count     200.0      200  200.0     200      200.0  \n",
              "unique      2.0        3    5.0       7       10.0  \n",
              "top         1.0  Jakarta    1.0   Senin        0.0  \n",
              "freq      174.0       88   92.0      66       40.0  \n",
              "mean        NaN      NaN    NaN     NaN        NaN  \n",
              "std         NaN      NaN    NaN     NaN        NaN  \n",
              "min         NaN      NaN    NaN     NaN        NaN  \n",
              "25%         NaN      NaN    NaN     NaN        NaN  \n",
              "50%         NaN      NaN    NaN     NaN        NaN  \n",
              "75%         NaN      NaN    NaN     NaN        NaN  \n",
              "max         NaN      NaN    NaN     NaN        NaN  "
            ],
            "text/html": [
              "\n",
              "  <div id=\"df-8bcba675-954f-4dcb-9d1c-e51e6b5a4c2b\">\n",
              "    <div class=\"colab-df-container\">\n",
              "      <div>\n",
              "<style scoped>\n",
              "    .dataframe tbody tr th:only-of-type {\n",
              "        vertical-align: middle;\n",
              "    }\n",
              "\n",
              "    .dataframe tbody tr th {\n",
              "        vertical-align: top;\n",
              "    }\n",
              "\n",
              "    .dataframe thead th {\n",
              "        text-align: right;\n",
              "    }\n",
              "</style>\n",
              "<table border=\"1\" class=\"dataframe\">\n",
              "  <thead>\n",
              "    <tr style=\"text-align: right;\">\n",
              "      <th></th>\n",
              "      <th>Jenis Kelamin</th>\n",
              "      <th>Umur</th>\n",
              "      <th>Pendapatan-per-bulan</th>\n",
              "      <th>skor-pengeluaran</th>\n",
              "      <th>Menikah</th>\n",
              "      <th>Kota</th>\n",
              "      <th>Promo</th>\n",
              "      <th>HariFav</th>\n",
              "      <th>FavFlavor</th>\n",
              "    </tr>\n",
              "  </thead>\n",
              "  <tbody>\n",
              "    <tr>\n",
              "      <th>count</th>\n",
              "      <td>200</td>\n",
              "      <td>200.000000</td>\n",
              "      <td>2.000000e+02</td>\n",
              "      <td>200.00000</td>\n",
              "      <td>200.0</td>\n",
              "      <td>200</td>\n",
              "      <td>200.0</td>\n",
              "      <td>200</td>\n",
              "      <td>200.0</td>\n",
              "    </tr>\n",
              "    <tr>\n",
              "      <th>unique</th>\n",
              "      <td>2</td>\n",
              "      <td>NaN</td>\n",
              "      <td>NaN</td>\n",
              "      <td>NaN</td>\n",
              "      <td>2.0</td>\n",
              "      <td>3</td>\n",
              "      <td>5.0</td>\n",
              "      <td>7</td>\n",
              "      <td>10.0</td>\n",
              "    </tr>\n",
              "    <tr>\n",
              "      <th>top</th>\n",
              "      <td>Wanita</td>\n",
              "      <td>NaN</td>\n",
              "      <td>NaN</td>\n",
              "      <td>NaN</td>\n",
              "      <td>1.0</td>\n",
              "      <td>Jakarta</td>\n",
              "      <td>1.0</td>\n",
              "      <td>Senin</td>\n",
              "      <td>0.0</td>\n",
              "    </tr>\n",
              "    <tr>\n",
              "      <th>freq</th>\n",
              "      <td>114</td>\n",
              "      <td>NaN</td>\n",
              "      <td>NaN</td>\n",
              "      <td>NaN</td>\n",
              "      <td>174.0</td>\n",
              "      <td>88</td>\n",
              "      <td>92.0</td>\n",
              "      <td>66</td>\n",
              "      <td>40.0</td>\n",
              "    </tr>\n",
              "    <tr>\n",
              "      <th>mean</th>\n",
              "      <td>NaN</td>\n",
              "      <td>37.355000</td>\n",
              "      <td>1.867213e+07</td>\n",
              "      <td>50.47000</td>\n",
              "      <td>NaN</td>\n",
              "      <td>NaN</td>\n",
              "      <td>NaN</td>\n",
              "      <td>NaN</td>\n",
              "      <td>NaN</td>\n",
              "    </tr>\n",
              "    <tr>\n",
              "      <th>std</th>\n",
              "      <td>NaN</td>\n",
              "      <td>11.992417</td>\n",
              "      <td>1.076423e+07</td>\n",
              "      <td>26.07101</td>\n",
              "      <td>NaN</td>\n",
              "      <td>NaN</td>\n",
              "      <td>NaN</td>\n",
              "      <td>NaN</td>\n",
              "      <td>NaN</td>\n",
              "    </tr>\n",
              "    <tr>\n",
              "      <th>min</th>\n",
              "      <td>NaN</td>\n",
              "      <td>2.000000</td>\n",
              "      <td>0.000000e+00</td>\n",
              "      <td>1.00000</td>\n",
              "      <td>NaN</td>\n",
              "      <td>NaN</td>\n",
              "      <td>NaN</td>\n",
              "      <td>NaN</td>\n",
              "      <td>NaN</td>\n",
              "    </tr>\n",
              "    <tr>\n",
              "      <th>25%</th>\n",
              "      <td>NaN</td>\n",
              "      <td>28.750000</td>\n",
              "      <td>1.086066e+07</td>\n",
              "      <td>34.75000</td>\n",
              "      <td>NaN</td>\n",
              "      <td>NaN</td>\n",
              "      <td>NaN</td>\n",
              "      <td>NaN</td>\n",
              "      <td>NaN</td>\n",
              "    </tr>\n",
              "    <tr>\n",
              "      <th>50%</th>\n",
              "      <td>NaN</td>\n",
              "      <td>36.000000</td>\n",
              "      <td>1.905738e+07</td>\n",
              "      <td>50.00000</td>\n",
              "      <td>NaN</td>\n",
              "      <td>NaN</td>\n",
              "      <td>NaN</td>\n",
              "      <td>NaN</td>\n",
              "      <td>NaN</td>\n",
              "    </tr>\n",
              "    <tr>\n",
              "      <th>75%</th>\n",
              "      <td>NaN</td>\n",
              "      <td>48.000000</td>\n",
              "      <td>2.581967e+07</td>\n",
              "      <td>73.00000</td>\n",
              "      <td>NaN</td>\n",
              "      <td>NaN</td>\n",
              "      <td>NaN</td>\n",
              "      <td>NaN</td>\n",
              "      <td>NaN</td>\n",
              "    </tr>\n",
              "    <tr>\n",
              "      <th>max</th>\n",
              "      <td>NaN</td>\n",
              "      <td>60.000000</td>\n",
              "      <td>5.000000e+07</td>\n",
              "      <td>101.00000</td>\n",
              "      <td>NaN</td>\n",
              "      <td>NaN</td>\n",
              "      <td>NaN</td>\n",
              "      <td>NaN</td>\n",
              "      <td>NaN</td>\n",
              "    </tr>\n",
              "  </tbody>\n",
              "</table>\n",
              "</div>\n",
              "      <button class=\"colab-df-convert\" onclick=\"convertToInteractive('df-8bcba675-954f-4dcb-9d1c-e51e6b5a4c2b')\"\n",
              "              title=\"Convert this dataframe to an interactive table.\"\n",
              "              style=\"display:none;\">\n",
              "        \n",
              "  <svg xmlns=\"http://www.w3.org/2000/svg\" height=\"24px\"viewBox=\"0 0 24 24\"\n",
              "       width=\"24px\">\n",
              "    <path d=\"M0 0h24v24H0V0z\" fill=\"none\"/>\n",
              "    <path d=\"M18.56 5.44l.94 2.06.94-2.06 2.06-.94-2.06-.94-.94-2.06-.94 2.06-2.06.94zm-11 1L8.5 8.5l.94-2.06 2.06-.94-2.06-.94L8.5 2.5l-.94 2.06-2.06.94zm10 10l.94 2.06.94-2.06 2.06-.94-2.06-.94-.94-2.06-.94 2.06-2.06.94z\"/><path d=\"M17.41 7.96l-1.37-1.37c-.4-.4-.92-.59-1.43-.59-.52 0-1.04.2-1.43.59L10.3 9.45l-7.72 7.72c-.78.78-.78 2.05 0 2.83L4 21.41c.39.39.9.59 1.41.59.51 0 1.02-.2 1.41-.59l7.78-7.78 2.81-2.81c.8-.78.8-2.07 0-2.86zM5.41 20L4 18.59l7.72-7.72 1.47 1.35L5.41 20z\"/>\n",
              "  </svg>\n",
              "      </button>\n",
              "      \n",
              "  <style>\n",
              "    .colab-df-container {\n",
              "      display:flex;\n",
              "      flex-wrap:wrap;\n",
              "      gap: 12px;\n",
              "    }\n",
              "\n",
              "    .colab-df-convert {\n",
              "      background-color: #E8F0FE;\n",
              "      border: none;\n",
              "      border-radius: 50%;\n",
              "      cursor: pointer;\n",
              "      display: none;\n",
              "      fill: #1967D2;\n",
              "      height: 32px;\n",
              "      padding: 0 0 0 0;\n",
              "      width: 32px;\n",
              "    }\n",
              "\n",
              "    .colab-df-convert:hover {\n",
              "      background-color: #E2EBFA;\n",
              "      box-shadow: 0px 1px 2px rgba(60, 64, 67, 0.3), 0px 1px 3px 1px rgba(60, 64, 67, 0.15);\n",
              "      fill: #174EA6;\n",
              "    }\n",
              "\n",
              "    [theme=dark] .colab-df-convert {\n",
              "      background-color: #3B4455;\n",
              "      fill: #D2E3FC;\n",
              "    }\n",
              "\n",
              "    [theme=dark] .colab-df-convert:hover {\n",
              "      background-color: #434B5C;\n",
              "      box-shadow: 0px 1px 3px 1px rgba(0, 0, 0, 0.15);\n",
              "      filter: drop-shadow(0px 1px 2px rgba(0, 0, 0, 0.3));\n",
              "      fill: #FFFFFF;\n",
              "    }\n",
              "  </style>\n",
              "\n",
              "      <script>\n",
              "        const buttonEl =\n",
              "          document.querySelector('#df-8bcba675-954f-4dcb-9d1c-e51e6b5a4c2b button.colab-df-convert');\n",
              "        buttonEl.style.display =\n",
              "          google.colab.kernel.accessAllowed ? 'block' : 'none';\n",
              "\n",
              "        async function convertToInteractive(key) {\n",
              "          const element = document.querySelector('#df-8bcba675-954f-4dcb-9d1c-e51e6b5a4c2b');\n",
              "          const dataTable =\n",
              "            await google.colab.kernel.invokeFunction('convertToInteractive',\n",
              "                                                     [key], {});\n",
              "          if (!dataTable) return;\n",
              "\n",
              "          const docLinkHtml = 'Like what you see? Visit the ' +\n",
              "            '<a target=\"_blank\" href=https://colab.research.google.com/notebooks/data_table.ipynb>data table notebook</a>'\n",
              "            + ' to learn more about interactive tables.';\n",
              "          element.innerHTML = '';\n",
              "          dataTable['output_type'] = 'display_data';\n",
              "          await google.colab.output.renderOutput(dataTable, element);\n",
              "          const docLink = document.createElement('div');\n",
              "          docLink.innerHTML = docLinkHtml;\n",
              "          element.appendChild(docLink);\n",
              "        }\n",
              "      </script>\n",
              "    </div>\n",
              "  </div>\n",
              "  "
            ]
          },
          "metadata": {},
          "execution_count": 6
        }
      ]
    },
    {
      "cell_type": "markdown",
      "source": [
        "Terlihat dari statistika deskriptif di atas, dari 200 data customer terlihat bahwa:\n",
        "*   Customer yang paling sering membeli MixITup adalah customer wanita. \n",
        "*   Customer yang membeli MixITup berada di range usia 2-60 tahun dengan rata-rata 37 tahun.\n",
        "*   Customer di Jakarta paling sering membeli MixITup dengan jumlah 88 customer.\n",
        "*   Customer paling sering membeli MixITup di hari Senin (66 customer) dibandingkan hari lainnya.\n",
        "*   Rasa yang paling sering dibeli di MixITup adalah rasa vanilla (40 rasa vanilla ice cream terjual)."
      ],
      "metadata": {
        "id": "qE7Z8IbXdNn7"
      }
    },
    {
      "cell_type": "code",
      "source": [
        "#check missing value\n",
        "print(df.isnull().sum())"
      ],
      "metadata": {
        "colab": {
          "base_uri": "https://localhost:8080/"
        },
        "id": "Zx3o3vFwIKew",
        "outputId": "e1d45946-a5c0-4e8a-904e-4067838f8860"
      },
      "execution_count": null,
      "outputs": [
        {
          "output_type": "stream",
          "name": "stdout",
          "text": [
            "Jenis Kelamin           0\n",
            "Umur                    0\n",
            "Pendapatan-per-bulan    0\n",
            "skor-pengeluaran        0\n",
            "Menikah                 0\n",
            "Kota                    0\n",
            "Promo                   0\n",
            "HariFav                 0\n",
            "FavFlavor               0\n",
            "dtype: int64\n"
          ]
        }
      ]
    },
    {
      "cell_type": "markdown",
      "source": [
        "Terlihat dari *output* di atas, tidak terdapat missing value pada data yang akan kami analisis."
      ],
      "metadata": {
        "id": "pjdUwBtNdanD"
      }
    },
    {
      "cell_type": "code",
      "source": [
        "#check duplikat\n",
        "print(df.shape)\n",
        "df.duplicated().sum()"
      ],
      "metadata": {
        "colab": {
          "base_uri": "https://localhost:8080/"
        },
        "id": "0Bpk8883KtJr",
        "outputId": "c2c18a7e-4e24-48e3-95a8-4855a2b062b4"
      },
      "execution_count": null,
      "outputs": [
        {
          "output_type": "stream",
          "name": "stdout",
          "text": [
            "(200, 9)\n"
          ]
        },
        {
          "output_type": "execute_result",
          "data": {
            "text/plain": [
              "0"
            ]
          },
          "metadata": {},
          "execution_count": 8
        }
      ]
    },
    {
      "cell_type": "markdown",
      "source": [
        "Terlihat dari *output* di atas, tidak terdapat duplikat pada data yang akan kami analisis."
      ],
      "metadata": {
        "id": "O_FdkPQkdjMB"
      }
    },
    {
      "cell_type": "markdown",
      "source": [
        "## EDA"
      ],
      "metadata": {
        "id": "j5qA2Z4ecAyZ"
      }
    },
    {
      "cell_type": "code",
      "source": [
        "import pandas as pd\n",
        "import matplotlib.pyplot as plt\n",
        "import seaborn as sns\n",
        "import numpy as np"
      ],
      "metadata": {
        "id": "3Tw6psDOcB0V"
      },
      "execution_count": null,
      "outputs": []
    },
    {
      "cell_type": "markdown",
      "source": [
        "**Customer yang cenderung paling sering membeli MixItup Ice Cream**"
      ],
      "metadata": {
        "id": "SBMYQLEGcFve"
      }
    },
    {
      "cell_type": "code",
      "source": [
        "p = sns.catplot(x='Kota',y='skor-pengeluaran',kind='swarm',data=df)"
      ],
      "metadata": {
        "colab": {
          "base_uri": "https://localhost:8080/",
          "height": 365
        },
        "id": "XMirSGcDcIHf",
        "outputId": "40a5109a-e956-4b40-97bb-247863212718"
      },
      "execution_count": null,
      "outputs": [
        {
          "output_type": "display_data",
          "data": {
            "text/plain": [
              "<Figure size 360x360 with 1 Axes>"
            ],
            "image/png": "[encoded data removed]"
          },
          "metadata": {}
        }
      ]
    },
    {
      "cell_type": "markdown",
      "source": [
        "Berdasarkan *output* di atas, terlihat bahwa customer MixITup yang berasal dari kota Depok paling sering membeli MixITup dengan skor-pengeluaran >= 60, disusul oleh customer dari Kota Jakarta, lalu Kota Tangerang. Oleh karena itu untuk mempertahankan tingkat penjualan, kami menyarankan kepada perusahaan MixITup Ice Cream untuk tetap memberikan diskon 5% kepada customer yang memiliki skor-pengeluaran >= 60. Kemudian, untuk customer yang memiliki skor-pengeluaran < 60, kami menyarankan kepada perusahaan MixITup Ice Cream untuk melakukan promosi, misalkan buy 1 get 1 atau memberikan potongan harga pada hari-hari besar. Hal itu bertujuan untuk meningkatkan tingkat penjualan perusahaan MixITup Ice Cream."
      ],
      "metadata": {
        "id": "Jd3MwE0ncL3L"
      }
    },
    {
      "cell_type": "markdown",
      "source": [
        "**Proporsi pelanggan pria dan wanita yang membeli MixITup Ice Cream**"
      ],
      "metadata": {
        "id": "ZnkglGudcO4y"
      }
    },
    {
      "cell_type": "code",
      "source": [
        "from collections import Counter\n",
        "\n",
        "data = df['Jenis Kelamin']\n",
        "proporsion = Counter(data)\n",
        "values = [float(v) for v in proporsion.values()]\n",
        "colors = ['hotpink','dodgerblue']\n",
        "labels = proporsion.keys()\n",
        "explode = (0.1,0)\n",
        "plt.pie(values, colors=colors,labels=values,autopct='%1.1f%%',explode=explode)\n",
        "plt.title('Proporsi Pelanggan Pria dan Wanita')\n",
        "plt.legend(labels,loc='lower right')\n",
        "plt.show"
      ],
      "metadata": {
        "colab": {
          "base_uri": "https://localhost:8080/",
          "height": 281
        },
        "id": "y9C12VZ5cSRL",
        "outputId": "9414510f-1dc6-486b-d9cf-d2a897b9e84a"
      },
      "execution_count": null,
      "outputs": [
        {
          "output_type": "execute_result",
          "data": {
            "text/plain": [
              "<function matplotlib.pyplot.show(*args, **kw)>"
            ]
          },
          "metadata": {},
          "execution_count": 11
        },
        {
          "output_type": "display_data",
          "data": {
            "text/plain": [
              "<Figure size 432x288 with 1 Axes>"
            ],
            "image/png": "[encoded data removed]"
          },
          "metadata": {}
        }
      ]
    },
    {
      "cell_type": "markdown",
      "source": [
        "Berdasarkan pie chart di atas terlihat bahwa customer pria dan wanita MixITup Ice Cream cenderung tidak proposional, dimana customer wanita lebih banyak dibandingkan dengan customer pria. "
      ],
      "metadata": {
        "id": "Y5n5iIEscVtI"
      }
    },
    {
      "cell_type": "markdown",
      "source": [
        "**Pemesanan Rasa Ice Cream berdasarkan Hari**"
      ],
      "metadata": {
        "id": "VZUh-rSbccgQ"
      }
    },
    {
      "cell_type": "code",
      "source": [
        "p = sns.countplot(x='FavFlavor',hue='HariFav',data=df)"
      ],
      "metadata": {
        "colab": {
          "base_uri": "https://localhost:8080/",
          "height": 285
        },
        "id": "6flKUXTrcaC5",
        "outputId": "4d272865-9774-49a4-f557-200e14b41e5c"
      },
      "execution_count": null,
      "outputs": [
        {
          "output_type": "display_data",
          "data": {
            "text/plain": [
              "<Figure size 432x288 with 1 Axes>"
            ],
            "image/png": "[encoded data removed]"
          },
          "metadata": {}
        }
      ]
    },
    {
      "cell_type": "markdown",
      "source": [
        "Berdasarkan bar chart di atas terlihat bahwa pada hari Senin, customer MixITup Ice Cream paling banyak memesan ice cream rasa vanilla dan BubbleGum/CottonCandy maka perusahaan disarankan untuk menyediakan stok ice cream rasa vanila dan BubbleGum/CottonCandylebih banyak di hari Senin. Kemudian, menyetok lebih banyak rasa cokelat di hari Sabtu."
      ],
      "metadata": {
        "id": "kFkCd-xrcmA6"
      }
    },
    {
      "cell_type": "markdown",
      "source": [
        "## Clustering"
      ],
      "metadata": {
        "id": "qMsp4n4hc0Pp"
      }
    },
    {
      "cell_type": "code",
      "source": [
        "# Get one hot encoding of columns jenis kelamin\n",
        "one_hotJK = pd.get_dummies(df['Jenis Kelamin'])\n",
        "# Drop column harifav as it is now encoded\n",
        "df = df.drop('Jenis Kelamin',axis = 1)\n",
        "# Join the encoded df\n",
        "df = df.join(one_hotJK)\n",
        "df  "
      ],
      "metadata": {
        "id": "NgtnGuf-IOKy",
        "colab": {
          "base_uri": "https://localhost:8080/",
          "height": 424
        },
        "outputId": "2b532911-7c3d-4743-e55e-bd814b1818df"
      },
      "execution_count": null,
      "outputs": [
        {
          "output_type": "execute_result",
          "data": {
            "text/plain": [
              "     Umur  Pendapatan-per-bulan  skor-pengeluaran Menikah       Kota Promo  \\\n",
              "0      49              13114754                52       1    Jakarta     1   \n",
              "1      32              33606557                86       1      Depok     1   \n",
              "2      51              15983606                41       1    Jakarta     2   \n",
              "3      19              12704918                55       0    Jakarta     1   \n",
              "4      38              20081967                42       1    Jakarta     2   \n",
              "..    ...                   ...               ...     ...        ...   ...   \n",
              "195    31               4098360                73       1      Depok     1   \n",
              "196    57              15983606                51       1    Jakarta     1   \n",
              "197    35              43032786                79       1      Depok     1   \n",
              "198    23               1229508                94       1      Depok     0   \n",
              "199    50               1639344                14       1  Tangerang     3   \n",
              "\n",
              "    HariFav FavFlavor  Pria  Wanita  \n",
              "0     Sabtu         2     0       1  \n",
              "1    Minggu         6     0       1  \n",
              "2    Minggu         3     1       0  \n",
              "3      Rabu         7     1       0  \n",
              "4     Senin         8     0       1  \n",
              "..      ...       ...   ...     ...  \n",
              "195   Senin         0     1       0  \n",
              "196  Minggu         5     1       0  \n",
              "197   Senin         7     0       1  \n",
              "198  Selasa         0     0       1  \n",
              "199  Minggu         6     1       0  \n",
              "\n",
              "[200 rows x 10 columns]"
            ],
            "text/html": [
              "\n",
              "  <div id=\"df-3db94a14-2733-48c4-baf2-73a63c60a469\">\n",
              "    <div class=\"colab-df-container\">\n",
              "      <div>\n",
              "<style scoped>\n",
              "    .dataframe tbody tr th:only-of-type {\n",
              "        vertical-align: middle;\n",
              "    }\n",
              "\n",
              "    .dataframe tbody tr th {\n",
              "        vertical-align: top;\n",
              "    }\n",
              "\n",
              "    .dataframe thead th {\n",
              "        text-align: right;\n",
              "    }\n",
              "</style>\n",
              "<table border=\"1\" class=\"dataframe\">\n",
              "  <thead>\n",
              "    <tr style=\"text-align: right;\">\n",
              "      <th></th>\n",
              "      <th>Umur</th>\n",
              "      <th>Pendapatan-per-bulan</th>\n",
              "      <th>skor-pengeluaran</th>\n",
              "      <th>Menikah</th>\n",
              "      <th>Kota</th>\n",
              "      <th>Promo</th>\n",
              "      <th>HariFav</th>\n",
              "      <th>FavFlavor</th>\n",
              "      <th>Pria</th>\n",
              "      <th>Wanita</th>\n",
              "    </tr>\n",
              "  </thead>\n",
              "  <tbody>\n",
              "    <tr>\n",
              "      <th>0</th>\n",
              "      <td>49</td>\n",
              "      <td>13114754</td>\n",
              "      <td>52</td>\n",
              "      <td>1</td>\n",
              "      <td>Jakarta</td>\n",
              "      <td>1</td>\n",
              "      <td>Sabtu</td>\n",
              "      <td>2</td>\n",
              "      <td>0</td>\n",
              "      <td>1</td>\n",
              "    </tr>\n",
              "    <tr>\n",
              "      <th>1</th>\n",
              "      <td>32</td>\n",
              "      <td>33606557</td>\n",
              "      <td>86</td>\n",
              "      <td>1</td>\n",
              "      <td>Depok</td>\n",
              "      <td>1</td>\n",
              "      <td>Minggu</td>\n",
              "      <td>6</td>\n",
              "      <td>0</td>\n",
              "      <td>1</td>\n",
              "    </tr>\n",
              "    <tr>\n",
              "      <th>2</th>\n",
              "      <td>51</td>\n",
              "      <td>15983606</td>\n",
              "      <td>41</td>\n",
              "      <td>1</td>\n",
              "      <td>Jakarta</td>\n",
              "      <td>2</td>\n",
              "      <td>Minggu</td>\n",
              "      <td>3</td>\n",
              "      <td>1</td>\n",
              "      <td>0</td>\n",
              "    </tr>\n",
              "    <tr>\n",
              "      <th>3</th>\n",
              "      <td>19</td>\n",
              "      <td>12704918</td>\n",
              "      <td>55</td>\n",
              "      <td>0</td>\n",
              "      <td>Jakarta</td>\n",
              "      <td>1</td>\n",
              "      <td>Rabu</td>\n",
              "      <td>7</td>\n",
              "      <td>1</td>\n",
              "      <td>0</td>\n",
              "    </tr>\n",
              "    <tr>\n",
              "      <th>4</th>\n",
              "      <td>38</td>\n",
              "      <td>20081967</td>\n",
              "      <td>42</td>\n",
              "      <td>1</td>\n",
              "      <td>Jakarta</td>\n",
              "      <td>2</td>\n",
              "      <td>Senin</td>\n",
              "      <td>8</td>\n",
              "      <td>0</td>\n",
              "      <td>1</td>\n",
              "    </tr>\n",
              "    <tr>\n",
              "      <th>...</th>\n",
              "      <td>...</td>\n",
              "      <td>...</td>\n",
              "      <td>...</td>\n",
              "      <td>...</td>\n",
              "      <td>...</td>\n",
              "      <td>...</td>\n",
              "      <td>...</td>\n",
              "      <td>...</td>\n",
              "      <td>...</td>\n",
              "      <td>...</td>\n",
              "    </tr>\n",
              "    <tr>\n",
              "      <th>195</th>\n",
              "      <td>31</td>\n",
              "      <td>4098360</td>\n",
              "      <td>73</td>\n",
              "      <td>1</td>\n",
              "      <td>Depok</td>\n",
              "      <td>1</td>\n",
              "      <td>Senin</td>\n",
              "      <td>0</td>\n",
              "      <td>1</td>\n",
              "      <td>0</td>\n",
              "    </tr>\n",
              "    <tr>\n",
              "      <th>196</th>\n",
              "      <td>57</td>\n",
              "      <td>15983606</td>\n",
              "      <td>51</td>\n",
              "      <td>1</td>\n",
              "      <td>Jakarta</td>\n",
              "      <td>1</td>\n",
              "      <td>Minggu</td>\n",
              "      <td>5</td>\n",
              "      <td>1</td>\n",
              "      <td>0</td>\n",
              "    </tr>\n",
              "    <tr>\n",
              "      <th>197</th>\n",
              "      <td>35</td>\n",
              "      <td>43032786</td>\n",
              "      <td>79</td>\n",
              "      <td>1</td>\n",
              "      <td>Depok</td>\n",
              "      <td>1</td>\n",
              "      <td>Senin</td>\n",
              "      <td>7</td>\n",
              "      <td>0</td>\n",
              "      <td>1</td>\n",
              "    </tr>\n",
              "    <tr>\n",
              "      <th>198</th>\n",
              "      <td>23</td>\n",
              "      <td>1229508</td>\n",
              "      <td>94</td>\n",
              "      <td>1</td>\n",
              "      <td>Depok</td>\n",
              "      <td>0</td>\n",
              "      <td>Selasa</td>\n",
              "      <td>0</td>\n",
              "      <td>0</td>\n",
              "      <td>1</td>\n",
              "    </tr>\n",
              "    <tr>\n",
              "      <th>199</th>\n",
              "      <td>50</td>\n",
              "      <td>1639344</td>\n",
              "      <td>14</td>\n",
              "      <td>1</td>\n",
              "      <td>Tangerang</td>\n",
              "      <td>3</td>\n",
              "      <td>Minggu</td>\n",
              "      <td>6</td>\n",
              "      <td>1</td>\n",
              "      <td>0</td>\n",
              "    </tr>\n",
              "  </tbody>\n",
              "</table>\n",
              "<p>200 rows × 10 columns</p>\n",
              "</div>\n",
              "      <button class=\"colab-df-convert\" onclick=\"convertToInteractive('df-3db94a14-2733-48c4-baf2-73a63c60a469')\"\n",
              "              title=\"Convert this dataframe to an interactive table.\"\n",
              "              style=\"display:none;\">\n",
              "        \n",
              "  <svg xmlns=\"http://www.w3.org/2000/svg\" height=\"24px\"viewBox=\"0 0 24 24\"\n",
              "       width=\"24px\">\n",
              "    <path d=\"M0 0h24v24H0V0z\" fill=\"none\"/>\n",
              "    <path d=\"M18.56 5.44l.94 2.06.94-2.06 2.06-.94-2.06-.94-.94-2.06-.94 2.06-2.06.94zm-11 1L8.5 8.5l.94-2.06 2.06-.94-2.06-.94L8.5 2.5l-.94 2.06-2.06.94zm10 10l.94 2.06.94-2.06 2.06-.94-2.06-.94-.94-2.06-.94 2.06-2.06.94z\"/><path d=\"M17.41 7.96l-1.37-1.37c-.4-.4-.92-.59-1.43-.59-.52 0-1.04.2-1.43.59L10.3 9.45l-7.72 7.72c-.78.78-.78 2.05 0 2.83L4 21.41c.39.39.9.59 1.41.59.51 0 1.02-.2 1.41-.59l7.78-7.78 2.81-2.81c.8-.78.8-2.07 0-2.86zM5.41 20L4 18.59l7.72-7.72 1.47 1.35L5.41 20z\"/>\n",
              "  </svg>\n",
              "      </button>\n",
              "      \n",
              "  <style>\n",
              "    .colab-df-container {\n",
              "      display:flex;\n",
              "      flex-wrap:wrap;\n",
              "      gap: 12px;\n",
              "    }\n",
              "\n",
              "    .colab-df-convert {\n",
              "      background-color: #E8F0FE;\n",
              "      border: none;\n",
              "      border-radius: 50%;\n",
              "      cursor: pointer;\n",
              "      display: none;\n",
              "      fill: #1967D2;\n",
              "      height: 32px;\n",
              "      padding: 0 0 0 0;\n",
              "      width: 32px;\n",
              "    }\n",
              "\n",
              "    .colab-df-convert:hover {\n",
              "      background-color: #E2EBFA;\n",
              "      box-shadow: 0px 1px 2px rgba(60, 64, 67, 0.3), 0px 1px 3px 1px rgba(60, 64, 67, 0.15);\n",
              "      fill: #174EA6;\n",
              "    }\n",
              "\n",
              "    [theme=dark] .colab-df-convert {\n",
              "      background-color: #3B4455;\n",
              "      fill: #D2E3FC;\n",
              "    }\n",
              "\n",
              "    [theme=dark] .colab-df-convert:hover {\n",
              "      background-color: #434B5C;\n",
              "      box-shadow: 0px 1px 3px 1px rgba(0, 0, 0, 0.15);\n",
              "      filter: drop-shadow(0px 1px 2px rgba(0, 0, 0, 0.3));\n",
              "      fill: #FFFFFF;\n",
              "    }\n",
              "  </style>\n",
              "\n",
              "      <script>\n",
              "        const buttonEl =\n",
              "          document.querySelector('#df-3db94a14-2733-48c4-baf2-73a63c60a469 button.colab-df-convert');\n",
              "        buttonEl.style.display =\n",
              "          google.colab.kernel.accessAllowed ? 'block' : 'none';\n",
              "\n",
              "        async function convertToInteractive(key) {\n",
              "          const element = document.querySelector('#df-3db94a14-2733-48c4-baf2-73a63c60a469');\n",
              "          const dataTable =\n",
              "            await google.colab.kernel.invokeFunction('convertToInteractive',\n",
              "                                                     [key], {});\n",
              "          if (!dataTable) return;\n",
              "\n",
              "          const docLinkHtml = 'Like what you see? Visit the ' +\n",
              "            '<a target=\"_blank\" href=https://colab.research.google.com/notebooks/data_table.ipynb>data table notebook</a>'\n",
              "            + ' to learn more about interactive tables.';\n",
              "          element.innerHTML = '';\n",
              "          dataTable['output_type'] = 'display_data';\n",
              "          await google.colab.output.renderOutput(dataTable, element);\n",
              "          const docLink = document.createElement('div');\n",
              "          docLink.innerHTML = docLinkHtml;\n",
              "          element.appendChild(docLink);\n",
              "        }\n",
              "      </script>\n",
              "    </div>\n",
              "  </div>\n",
              "  "
            ]
          },
          "metadata": {},
          "execution_count": 13
        }
      ]
    },
    {
      "cell_type": "code",
      "source": [
        "# Get one hot encoding of columns harifav\n",
        "one_hotharifav = pd.get_dummies(df['HariFav'])\n",
        "# Drop column harifav as it is now encoded\n",
        "df = df.drop('HariFav',axis = 1)\n",
        "# Join the encoded df\n",
        "df = df.join(one_hotharifav)\n",
        "df"
      ],
      "metadata": {
        "id": "eEnMGjjiKYOe",
        "outputId": "46d73813-5700-403e-bc9e-09737396bba9",
        "colab": {
          "base_uri": "https://localhost:8080/",
          "height": 424
        }
      },
      "execution_count": null,
      "outputs": [
        {
          "output_type": "execute_result",
          "data": {
            "text/plain": [
              "     Umur  Pendapatan-per-bulan  skor-pengeluaran Menikah       Kota Promo  \\\n",
              "0      49              13114754                52       1    Jakarta     1   \n",
              "1      32              33606557                86       1      Depok     1   \n",
              "2      51              15983606                41       1    Jakarta     2   \n",
              "3      19              12704918                55       0    Jakarta     1   \n",
              "4      38              20081967                42       1    Jakarta     2   \n",
              "..    ...                   ...               ...     ...        ...   ...   \n",
              "195    31               4098360                73       1      Depok     1   \n",
              "196    57              15983606                51       1    Jakarta     1   \n",
              "197    35              43032786                79       1      Depok     1   \n",
              "198    23               1229508                94       1      Depok     0   \n",
              "199    50               1639344                14       1  Tangerang     3   \n",
              "\n",
              "    FavFlavor  Pria  Wanita  Jumat  Kamis  Minggu  Rabu  Sabtu  Selasa  Senin  \n",
              "0           2     0       1      0      0       0     0      1       0      0  \n",
              "1           6     0       1      0      0       1     0      0       0      0  \n",
              "2           3     1       0      0      0       1     0      0       0      0  \n",
              "3           7     1       0      0      0       0     1      0       0      0  \n",
              "4           8     0       1      0      0       0     0      0       0      1  \n",
              "..        ...   ...     ...    ...    ...     ...   ...    ...     ...    ...  \n",
              "195         0     1       0      0      0       0     0      0       0      1  \n",
              "196         5     1       0      0      0       1     0      0       0      0  \n",
              "197         7     0       1      0      0       0     0      0       0      1  \n",
              "198         0     0       1      0      0       0     0      0       1      0  \n",
              "199         6     1       0      0      0       1     0      0       0      0  \n",
              "\n",
              "[200 rows x 16 columns]"
            ],
            "text/html": [
              "\n",
              "  <div id=\"df-bc18743b-ddb6-4242-8226-4951ec1f5e29\">\n",
              "    <div class=\"colab-df-container\">\n",
              "      <div>\n",
              "<style scoped>\n",
              "    .dataframe tbody tr th:only-of-type {\n",
              "        vertical-align: middle;\n",
              "    }\n",
              "\n",
              "    .dataframe tbody tr th {\n",
              "        vertical-align: top;\n",
              "    }\n",
              "\n",
              "    .dataframe thead th {\n",
              "        text-align: right;\n",
              "    }\n",
              "</style>\n",
              "<table border=\"1\" class=\"dataframe\">\n",
              "  <thead>\n",
              "    <tr style=\"text-align: right;\">\n",
              "      <th></th>\n",
              "      <th>Umur</th>\n",
              "      <th>Pendapatan-per-bulan</th>\n",
              "      <th>skor-pengeluaran</th>\n",
              "      <th>Menikah</th>\n",
              "      <th>Kota</th>\n",
              "      <th>Promo</th>\n",
              "      <th>FavFlavor</th>\n",
              "      <th>Pria</th>\n",
              "      <th>Wanita</th>\n",
              "      <th>Jumat</th>\n",
              "      <th>Kamis</th>\n",
              "      <th>Minggu</th>\n",
              "      <th>Rabu</th>\n",
              "      <th>Sabtu</th>\n",
              "      <th>Selasa</th>\n",
              "      <th>Senin</th>\n",
              "    </tr>\n",
              "  </thead>\n",
              "  <tbody>\n",
              "    <tr>\n",
              "      <th>0</th>\n",
              "      <td>49</td>\n",
              "      <td>13114754</td>\n",
              "      <td>52</td>\n",
              "      <td>1</td>\n",
              "      <td>Jakarta</td>\n",
              "      <td>1</td>\n",
              "      <td>2</td>\n",
              "      <td>0</td>\n",
              "      <td>1</td>\n",
              "      <td>0</td>\n",
              "      <td>0</td>\n",
              "      <td>0</td>\n",
              "      <td>0</td>\n",
              "      <td>1</td>\n",
              "      <td>0</td>\n",
              "      <td>0</td>\n",
              "    </tr>\n",
              "    <tr>\n",
              "      <th>1</th>\n",
              "      <td>32</td>\n",
              "      <td>33606557</td>\n",
              "      <td>86</td>\n",
              "      <td>1</td>\n",
              "      <td>Depok</td>\n",
              "      <td>1</td>\n",
              "      <td>6</td>\n",
              "      <td>0</td>\n",
              "      <td>1</td>\n",
              "      <td>0</td>\n",
              "      <td>0</td>\n",
              "      <td>1</td>\n",
              "      <td>0</td>\n",
              "      <td>0</td>\n",
              "      <td>0</td>\n",
              "      <td>0</td>\n",
              "    </tr>\n",
              "    <tr>\n",
              "      <th>2</th>\n",
              "      <td>51</td>\n",
              "      <td>15983606</td>\n",
              "      <td>41</td>\n",
              "      <td>1</td>\n",
              "      <td>Jakarta</td>\n",
              "      <td>2</td>\n",
              "      <td>3</td>\n",
              "      <td>1</td>\n",
              "      <td>0</td>\n",
              "      <td>0</td>\n",
              "      <td>0</td>\n",
              "      <td>1</td>\n",
              "      <td>0</td>\n",
              "      <td>0</td>\n",
              "      <td>0</td>\n",
              "      <td>0</td>\n",
              "    </tr>\n",
              "    <tr>\n",
              "      <th>3</th>\n",
              "      <td>19</td>\n",
              "      <td>12704918</td>\n",
              "      <td>55</td>\n",
              "      <td>0</td>\n",
              "      <td>Jakarta</td>\n",
              "      <td>1</td>\n",
              "      <td>7</td>\n",
              "      <td>1</td>\n",
              "      <td>0</td>\n",
              "      <td>0</td>\n",
              "      <td>0</td>\n",
              "      <td>0</td>\n",
              "      <td>1</td>\n",
              "      <td>0</td>\n",
              "      <td>0</td>\n",
              "      <td>0</td>\n",
              "    </tr>\n",
              "    <tr>\n",
              "      <th>4</th>\n",
              "      <td>38</td>\n",
              "      <td>20081967</td>\n",
              "      <td>42</td>\n",
              "      <td>1</td>\n",
              "      <td>Jakarta</td>\n",
              "      <td>2</td>\n",
              "      <td>8</td>\n",
              "      <td>0</td>\n",
              "      <td>1</td>\n",
              "      <td>0</td>\n",
              "      <td>0</td>\n",
              "      <td>0</td>\n",
              "      <td>0</td>\n",
              "      <td>0</td>\n",
              "      <td>0</td>\n",
              "      <td>1</td>\n",
              "    </tr>\n",
              "    <tr>\n",
              "      <th>...</th>\n",
              "      <td>...</td>\n",
              "      <td>...</td>\n",
              "      <td>...</td>\n",
              "      <td>...</td>\n",
              "      <td>...</td>\n",
              "      <td>...</td>\n",
              "      <td>...</td>\n",
              "      <td>...</td>\n",
              "      <td>...</td>\n",
              "      <td>...</td>\n",
              "      <td>...</td>\n",
              "      <td>...</td>\n",
              "      <td>...</td>\n",
              "      <td>...</td>\n",
              "      <td>...</td>\n",
              "      <td>...</td>\n",
              "    </tr>\n",
              "    <tr>\n",
              "      <th>195</th>\n",
              "      <td>31</td>\n",
              "      <td>4098360</td>\n",
              "      <td>73</td>\n",
              "      <td>1</td>\n",
              "      <td>Depok</td>\n",
              "      <td>1</td>\n",
              "      <td>0</td>\n",
              "      <td>1</td>\n",
              "      <td>0</td>\n",
              "      <td>0</td>\n",
              "      <td>0</td>\n",
              "      <td>0</td>\n",
              "      <td>0</td>\n",
              "      <td>0</td>\n",
              "      <td>0</td>\n",
              "      <td>1</td>\n",
              "    </tr>\n",
              "    <tr>\n",
              "      <th>196</th>\n",
              "      <td>57</td>\n",
              "      <td>15983606</td>\n",
              "      <td>51</td>\n",
              "      <td>1</td>\n",
              "      <td>Jakarta</td>\n",
              "      <td>1</td>\n",
              "      <td>5</td>\n",
              "      <td>1</td>\n",
              "      <td>0</td>\n",
              "      <td>0</td>\n",
              "      <td>0</td>\n",
              "      <td>1</td>\n",
              "      <td>0</td>\n",
              "      <td>0</td>\n",
              "      <td>0</td>\n",
              "      <td>0</td>\n",
              "    </tr>\n",
              "    <tr>\n",
              "      <th>197</th>\n",
              "      <td>35</td>\n",
              "      <td>43032786</td>\n",
              "      <td>79</td>\n",
              "      <td>1</td>\n",
              "      <td>Depok</td>\n",
              "      <td>1</td>\n",
              "      <td>7</td>\n",
              "      <td>0</td>\n",
              "      <td>1</td>\n",
              "      <td>0</td>\n",
              "      <td>0</td>\n",
              "      <td>0</td>\n",
              "      <td>0</td>\n",
              "      <td>0</td>\n",
              "      <td>0</td>\n",
              "      <td>1</td>\n",
              "    </tr>\n",
              "    <tr>\n",
              "      <th>198</th>\n",
              "      <td>23</td>\n",
              "      <td>1229508</td>\n",
              "      <td>94</td>\n",
              "      <td>1</td>\n",
              "      <td>Depok</td>\n",
              "      <td>0</td>\n",
              "      <td>0</td>\n",
              "      <td>0</td>\n",
              "      <td>1</td>\n",
              "      <td>0</td>\n",
              "      <td>0</td>\n",
              "      <td>0</td>\n",
              "      <td>0</td>\n",
              "      <td>0</td>\n",
              "      <td>1</td>\n",
              "      <td>0</td>\n",
              "    </tr>\n",
              "    <tr>\n",
              "      <th>199</th>\n",
              "      <td>50</td>\n",
              "      <td>1639344</td>\n",
              "      <td>14</td>\n",
              "      <td>1</td>\n",
              "      <td>Tangerang</td>\n",
              "      <td>3</td>\n",
              "      <td>6</td>\n",
              "      <td>1</td>\n",
              "      <td>0</td>\n",
              "      <td>0</td>\n",
              "      <td>0</td>\n",
              "      <td>1</td>\n",
              "      <td>0</td>\n",
              "      <td>0</td>\n",
              "      <td>0</td>\n",
              "      <td>0</td>\n",
              "    </tr>\n",
              "  </tbody>\n",
              "</table>\n",
              "<p>200 rows × 16 columns</p>\n",
              "</div>\n",
              "      <button class=\"colab-df-convert\" onclick=\"convertToInteractive('df-bc18743b-ddb6-4242-8226-4951ec1f5e29')\"\n",
              "              title=\"Convert this dataframe to an interactive table.\"\n",
              "              style=\"display:none;\">\n",
              "        \n",
              "  <svg xmlns=\"http://www.w3.org/2000/svg\" height=\"24px\"viewBox=\"0 0 24 24\"\n",
              "       width=\"24px\">\n",
              "    <path d=\"M0 0h24v24H0V0z\" fill=\"none\"/>\n",
              "    <path d=\"M18.56 5.44l.94 2.06.94-2.06 2.06-.94-2.06-.94-.94-2.06-.94 2.06-2.06.94zm-11 1L8.5 8.5l.94-2.06 2.06-.94-2.06-.94L8.5 2.5l-.94 2.06-2.06.94zm10 10l.94 2.06.94-2.06 2.06-.94-2.06-.94-.94-2.06-.94 2.06-2.06.94z\"/><path d=\"M17.41 7.96l-1.37-1.37c-.4-.4-.92-.59-1.43-.59-.52 0-1.04.2-1.43.59L10.3 9.45l-7.72 7.72c-.78.78-.78 2.05 0 2.83L4 21.41c.39.39.9.59 1.41.59.51 0 1.02-.2 1.41-.59l7.78-7.78 2.81-2.81c.8-.78.8-2.07 0-2.86zM5.41 20L4 18.59l7.72-7.72 1.47 1.35L5.41 20z\"/>\n",
              "  </svg>\n",
              "      </button>\n",
              "      \n",
              "  <style>\n",
              "    .colab-df-container {\n",
              "      display:flex;\n",
              "      flex-wrap:wrap;\n",
              "      gap: 12px;\n",
              "    }\n",
              "\n",
              "    .colab-df-convert {\n",
              "      background-color: #E8F0FE;\n",
              "      border: none;\n",
              "      border-radius: 50%;\n",
              "      cursor: pointer;\n",
              "      display: none;\n",
              "      fill: #1967D2;\n",
              "      height: 32px;\n",
              "      padding: 0 0 0 0;\n",
              "      width: 32px;\n",
              "    }\n",
              "\n",
              "    .colab-df-convert:hover {\n",
              "      background-color: #E2EBFA;\n",
              "      box-shadow: 0px 1px 2px rgba(60, 64, 67, 0.3), 0px 1px 3px 1px rgba(60, 64, 67, 0.15);\n",
              "      fill: #174EA6;\n",
              "    }\n",
              "\n",
              "    [theme=dark] .colab-df-convert {\n",
              "      background-color: #3B4455;\n",
              "      fill: #D2E3FC;\n",
              "    }\n",
              "\n",
              "    [theme=dark] .colab-df-convert:hover {\n",
              "      background-color: #434B5C;\n",
              "      box-shadow: 0px 1px 3px 1px rgba(0, 0, 0, 0.15);\n",
              "      filter: drop-shadow(0px 1px 2px rgba(0, 0, 0, 0.3));\n",
              "      fill: #FFFFFF;\n",
              "    }\n",
              "  </style>\n",
              "\n",
              "      <script>\n",
              "        const buttonEl =\n",
              "          document.querySelector('#df-bc18743b-ddb6-4242-8226-4951ec1f5e29 button.colab-df-convert');\n",
              "        buttonEl.style.display =\n",
              "          google.colab.kernel.accessAllowed ? 'block' : 'none';\n",
              "\n",
              "        async function convertToInteractive(key) {\n",
              "          const element = document.querySelector('#df-bc18743b-ddb6-4242-8226-4951ec1f5e29');\n",
              "          const dataTable =\n",
              "            await google.colab.kernel.invokeFunction('convertToInteractive',\n",
              "                                                     [key], {});\n",
              "          if (!dataTable) return;\n",
              "\n",
              "          const docLinkHtml = 'Like what you see? Visit the ' +\n",
              "            '<a target=\"_blank\" href=https://colab.research.google.com/notebooks/data_table.ipynb>data table notebook</a>'\n",
              "            + ' to learn more about interactive tables.';\n",
              "          element.innerHTML = '';\n",
              "          dataTable['output_type'] = 'display_data';\n",
              "          await google.colab.output.renderOutput(dataTable, element);\n",
              "          const docLink = document.createElement('div');\n",
              "          docLink.innerHTML = docLinkHtml;\n",
              "          element.appendChild(docLink);\n",
              "        }\n",
              "      </script>\n",
              "    </div>\n",
              "  </div>\n",
              "  "
            ]
          },
          "metadata": {},
          "execution_count": 14
        }
      ]
    },
    {
      "cell_type": "code",
      "source": [
        "#standardizing variables\n",
        "df[['Umur', 'Pendapatan-per-bulan', 'skor-pengeluaran']] = StandardScaler().fit_transform(df[['Umur', 'Pendapatan-per-bulan', 'skor-pengeluaran']])\n",
        "df"
      ],
      "metadata": {
        "colab": {
          "base_uri": "https://localhost:8080/",
          "height": 424
        },
        "id": "Vxh-M44-L6jp",
        "outputId": "474592aa-42b2-4abd-8839-36e0b53a00a6"
      },
      "execution_count": null,
      "outputs": [
        {
          "output_type": "execute_result",
          "data": {
            "text/plain": [
              "         Umur  Pendapatan-per-bulan  skor-pengeluaran Menikah       Kota  \\\n",
              "0    0.973467             -0.517577          0.058833       1    Jakarta   \n",
              "1   -0.447653              1.390894          1.366236       1      Depok   \n",
              "2    1.140658             -0.250391         -0.364150       1    Jakarta   \n",
              "3   -1.534391             -0.555747          0.174192       0    Jakarta   \n",
              "4    0.053919              0.131303         -0.325697       1    Jakarta   \n",
              "..        ...                   ...               ...     ...        ...   \n",
              "195 -0.531248             -1.357305          0.866347       1      Depok   \n",
              "196  1.642229             -0.250391          0.020380       1    Jakarta   \n",
              "197 -0.196867              2.268791          1.097065       1      Depok   \n",
              "198 -1.200010             -1.624491          1.673861       1      Depok   \n",
              "199  1.057062             -1.586321         -1.402382       1  Tangerang   \n",
              "\n",
              "    Promo FavFlavor  Pria  Wanita  Jumat  Kamis  Minggu  Rabu  Sabtu  Selasa  \\\n",
              "0       1         2     0       1      0      0       0     0      1       0   \n",
              "1       1         6     0       1      0      0       1     0      0       0   \n",
              "2       2         3     1       0      0      0       1     0      0       0   \n",
              "3       1         7     1       0      0      0       0     1      0       0   \n",
              "4       2         8     0       1      0      0       0     0      0       0   \n",
              "..    ...       ...   ...     ...    ...    ...     ...   ...    ...     ...   \n",
              "195     1         0     1       0      0      0       0     0      0       0   \n",
              "196     1         5     1       0      0      0       1     0      0       0   \n",
              "197     1         7     0       1      0      0       0     0      0       0   \n",
              "198     0         0     0       1      0      0       0     0      0       1   \n",
              "199     3         6     1       0      0      0       1     0      0       0   \n",
              "\n",
              "     Senin  \n",
              "0        0  \n",
              "1        0  \n",
              "2        0  \n",
              "3        0  \n",
              "4        1  \n",
              "..     ...  \n",
              "195      1  \n",
              "196      0  \n",
              "197      1  \n",
              "198      0  \n",
              "199      0  \n",
              "\n",
              "[200 rows x 16 columns]"
            ],
            "text/html": [
              "\n",
              "  <div id=\"df-dab6f2ba-65e7-4e4d-9fa0-86b14c6c7526\">\n",
              "    <div class=\"colab-df-container\">\n",
              "      <div>\n",
              "<style scoped>\n",
              "    .dataframe tbody tr th:only-of-type {\n",
              "        vertical-align: middle;\n",
              "    }\n",
              "\n",
              "    .dataframe tbody tr th {\n",
              "        vertical-align: top;\n",
              "    }\n",
              "\n",
              "    .dataframe thead th {\n",
              "        text-align: right;\n",
              "    }\n",
              "</style>\n",
              "<table border=\"1\" class=\"dataframe\">\n",
              "  <thead>\n",
              "    <tr style=\"text-align: right;\">\n",
              "      <th></th>\n",
              "      <th>Umur</th>\n",
              "      <th>Pendapatan-per-bulan</th>\n",
              "      <th>skor-pengeluaran</th>\n",
              "      <th>Menikah</th>\n",
              "      <th>Kota</th>\n",
              "      <th>Promo</th>\n",
              "      <th>FavFlavor</th>\n",
              "      <th>Pria</th>\n",
              "      <th>Wanita</th>\n",
              "      <th>Jumat</th>\n",
              "      <th>Kamis</th>\n",
              "      <th>Minggu</th>\n",
              "      <th>Rabu</th>\n",
              "      <th>Sabtu</th>\n",
              "      <th>Selasa</th>\n",
              "      <th>Senin</th>\n",
              "    </tr>\n",
              "  </thead>\n",
              "  <tbody>\n",
              "    <tr>\n",
              "      <th>0</th>\n",
              "      <td>0.973467</td>\n",
              "      <td>-0.517577</td>\n",
              "      <td>0.058833</td>\n",
              "      <td>1</td>\n",
              "      <td>Jakarta</td>\n",
              "      <td>1</td>\n",
              "      <td>2</td>\n",
              "      <td>0</td>\n",
              "      <td>1</td>\n",
              "      <td>0</td>\n",
              "      <td>0</td>\n",
              "      <td>0</td>\n",
              "      <td>0</td>\n",
              "      <td>1</td>\n",
              "      <td>0</td>\n",
              "      <td>0</td>\n",
              "    </tr>\n",
              "    <tr>\n",
              "      <th>1</th>\n",
              "      <td>-0.447653</td>\n",
              "      <td>1.390894</td>\n",
              "      <td>1.366236</td>\n",
              "      <td>1</td>\n",
              "      <td>Depok</td>\n",
              "      <td>1</td>\n",
              "      <td>6</td>\n",
              "      <td>0</td>\n",
              "      <td>1</td>\n",
              "      <td>0</td>\n",
              "      <td>0</td>\n",
              "      <td>1</td>\n",
              "      <td>0</td>\n",
              "      <td>0</td>\n",
              "      <td>0</td>\n",
              "      <td>0</td>\n",
              "    </tr>\n",
              "    <tr>\n",
              "      <th>2</th>\n",
              "      <td>1.140658</td>\n",
              "      <td>-0.250391</td>\n",
              "      <td>-0.364150</td>\n",
              "      <td>1</td>\n",
              "      <td>Jakarta</td>\n",
              "      <td>2</td>\n",
              "      <td>3</td>\n",
              "      <td>1</td>\n",
              "      <td>0</td>\n",
              "      <td>0</td>\n",
              "      <td>0</td>\n",
              "      <td>1</td>\n",
              "      <td>0</td>\n",
              "      <td>0</td>\n",
              "      <td>0</td>\n",
              "      <td>0</td>\n",
              "    </tr>\n",
              "    <tr>\n",
              "      <th>3</th>\n",
              "      <td>-1.534391</td>\n",
              "      <td>-0.555747</td>\n",
              "      <td>0.174192</td>\n",
              "      <td>0</td>\n",
              "      <td>Jakarta</td>\n",
              "      <td>1</td>\n",
              "      <td>7</td>\n",
              "      <td>1</td>\n",
              "      <td>0</td>\n",
              "      <td>0</td>\n",
              "      <td>0</td>\n",
              "      <td>0</td>\n",
              "      <td>1</td>\n",
              "      <td>0</td>\n",
              "      <td>0</td>\n",
              "      <td>0</td>\n",
              "    </tr>\n",
              "    <tr>\n",
              "      <th>4</th>\n",
              "      <td>0.053919</td>\n",
              "      <td>0.131303</td>\n",
              "      <td>-0.325697</td>\n",
              "      <td>1</td>\n",
              "      <td>Jakarta</td>\n",
              "      <td>2</td>\n",
              "      <td>8</td>\n",
              "      <td>0</td>\n",
              "      <td>1</td>\n",
              "      <td>0</td>\n",
              "      <td>0</td>\n",
              "      <td>0</td>\n",
              "      <td>0</td>\n",
              "      <td>0</td>\n",
              "      <td>0</td>\n",
              "      <td>1</td>\n",
              "    </tr>\n",
              "    <tr>\n",
              "      <th>...</th>\n",
              "      <td>...</td>\n",
              "      <td>...</td>\n",
              "      <td>...</td>\n",
              "      <td>...</td>\n",
              "      <td>...</td>\n",
              "      <td>...</td>\n",
              "      <td>...</td>\n",
              "      <td>...</td>\n",
              "      <td>...</td>\n",
              "      <td>...</td>\n",
              "      <td>...</td>\n",
              "      <td>...</td>\n",
              "      <td>...</td>\n",
              "      <td>...</td>\n",
              "      <td>...</td>\n",
              "      <td>...</td>\n",
              "    </tr>\n",
              "    <tr>\n",
              "      <th>195</th>\n",
              "      <td>-0.531248</td>\n",
              "      <td>-1.357305</td>\n",
              "      <td>0.866347</td>\n",
              "      <td>1</td>\n",
              "      <td>Depok</td>\n",
              "      <td>1</td>\n",
              "      <td>0</td>\n",
              "      <td>1</td>\n",
              "      <td>0</td>\n",
              "      <td>0</td>\n",
              "      <td>0</td>\n",
              "      <td>0</td>\n",
              "      <td>0</td>\n",
              "      <td>0</td>\n",
              "      <td>0</td>\n",
              "      <td>1</td>\n",
              "    </tr>\n",
              "    <tr>\n",
              "      <th>196</th>\n",
              "      <td>1.642229</td>\n",
              "      <td>-0.250391</td>\n",
              "      <td>0.020380</td>\n",
              "      <td>1</td>\n",
              "      <td>Jakarta</td>\n",
              "      <td>1</td>\n",
              "      <td>5</td>\n",
              "      <td>1</td>\n",
              "      <td>0</td>\n",
              "      <td>0</td>\n",
              "      <td>0</td>\n",
              "      <td>1</td>\n",
              "      <td>0</td>\n",
              "      <td>0</td>\n",
              "      <td>0</td>\n",
              "      <td>0</td>\n",
              "    </tr>\n",
              "    <tr>\n",
              "      <th>197</th>\n",
              "      <td>-0.196867</td>\n",
              "      <td>2.268791</td>\n",
              "      <td>1.097065</td>\n",
              "      <td>1</td>\n",
              "      <td>Depok</td>\n",
              "      <td>1</td>\n",
              "      <td>7</td>\n",
              "      <td>0</td>\n",
              "      <td>1</td>\n",
              "      <td>0</td>\n",
              "      <td>0</td>\n",
              "      <td>0</td>\n",
              "      <td>0</td>\n",
              "      <td>0</td>\n",
              "      <td>0</td>\n",
              "      <td>1</td>\n",
              "    </tr>\n",
              "    <tr>\n",
              "      <th>198</th>\n",
              "      <td>-1.200010</td>\n",
              "      <td>-1.624491</td>\n",
              "      <td>1.673861</td>\n",
              "      <td>1</td>\n",
              "      <td>Depok</td>\n",
              "      <td>0</td>\n",
              "      <td>0</td>\n",
              "      <td>0</td>\n",
              "      <td>1</td>\n",
              "      <td>0</td>\n",
              "      <td>0</td>\n",
              "      <td>0</td>\n",
              "      <td>0</td>\n",
              "      <td>0</td>\n",
              "      <td>1</td>\n",
              "      <td>0</td>\n",
              "    </tr>\n",
              "    <tr>\n",
              "      <th>199</th>\n",
              "      <td>1.057062</td>\n",
              "      <td>-1.586321</td>\n",
              "      <td>-1.402382</td>\n",
              "      <td>1</td>\n",
              "      <td>Tangerang</td>\n",
              "      <td>3</td>\n",
              "      <td>6</td>\n",
              "      <td>1</td>\n",
              "      <td>0</td>\n",
              "      <td>0</td>\n",
              "      <td>0</td>\n",
              "      <td>1</td>\n",
              "      <td>0</td>\n",
              "      <td>0</td>\n",
              "      <td>0</td>\n",
              "      <td>0</td>\n",
              "    </tr>\n",
              "  </tbody>\n",
              "</table>\n",
              "<p>200 rows × 16 columns</p>\n",
              "</div>\n",
              "      <button class=\"colab-df-convert\" onclick=\"convertToInteractive('df-dab6f2ba-65e7-4e4d-9fa0-86b14c6c7526')\"\n",
              "              title=\"Convert this dataframe to an interactive table.\"\n",
              "              style=\"display:none;\">\n",
              "        \n",
              "  <svg xmlns=\"http://www.w3.org/2000/svg\" height=\"24px\"viewBox=\"0 0 24 24\"\n",
              "       width=\"24px\">\n",
              "    <path d=\"M0 0h24v24H0V0z\" fill=\"none\"/>\n",
              "    <path d=\"M18.56 5.44l.94 2.06.94-2.06 2.06-.94-2.06-.94-.94-2.06-.94 2.06-2.06.94zm-11 1L8.5 8.5l.94-2.06 2.06-.94-2.06-.94L8.5 2.5l-.94 2.06-2.06.94zm10 10l.94 2.06.94-2.06 2.06-.94-2.06-.94-.94-2.06-.94 2.06-2.06.94z\"/><path d=\"M17.41 7.96l-1.37-1.37c-.4-.4-.92-.59-1.43-.59-.52 0-1.04.2-1.43.59L10.3 9.45l-7.72 7.72c-.78.78-.78 2.05 0 2.83L4 21.41c.39.39.9.59 1.41.59.51 0 1.02-.2 1.41-.59l7.78-7.78 2.81-2.81c.8-.78.8-2.07 0-2.86zM5.41 20L4 18.59l7.72-7.72 1.47 1.35L5.41 20z\"/>\n",
              "  </svg>\n",
              "      </button>\n",
              "      \n",
              "  <style>\n",
              "    .colab-df-container {\n",
              "      display:flex;\n",
              "      flex-wrap:wrap;\n",
              "      gap: 12px;\n",
              "    }\n",
              "\n",
              "    .colab-df-convert {\n",
              "      background-color: #E8F0FE;\n",
              "      border: none;\n",
              "      border-radius: 50%;\n",
              "      cursor: pointer;\n",
              "      display: none;\n",
              "      fill: #1967D2;\n",
              "      height: 32px;\n",
              "      padding: 0 0 0 0;\n",
              "      width: 32px;\n",
              "    }\n",
              "\n",
              "    .colab-df-convert:hover {\n",
              "      background-color: #E2EBFA;\n",
              "      box-shadow: 0px 1px 2px rgba(60, 64, 67, 0.3), 0px 1px 3px 1px rgba(60, 64, 67, 0.15);\n",
              "      fill: #174EA6;\n",
              "    }\n",
              "\n",
              "    [theme=dark] .colab-df-convert {\n",
              "      background-color: #3B4455;\n",
              "      fill: #D2E3FC;\n",
              "    }\n",
              "\n",
              "    [theme=dark] .colab-df-convert:hover {\n",
              "      background-color: #434B5C;\n",
              "      box-shadow: 0px 1px 3px 1px rgba(0, 0, 0, 0.15);\n",
              "      filter: drop-shadow(0px 1px 2px rgba(0, 0, 0, 0.3));\n",
              "      fill: #FFFFFF;\n",
              "    }\n",
              "  </style>\n",
              "\n",
              "      <script>\n",
              "        const buttonEl =\n",
              "          document.querySelector('#df-dab6f2ba-65e7-4e4d-9fa0-86b14c6c7526 button.colab-df-convert');\n",
              "        buttonEl.style.display =\n",
              "          google.colab.kernel.accessAllowed ? 'block' : 'none';\n",
              "\n",
              "        async function convertToInteractive(key) {\n",
              "          const element = document.querySelector('#df-dab6f2ba-65e7-4e4d-9fa0-86b14c6c7526');\n",
              "          const dataTable =\n",
              "            await google.colab.kernel.invokeFunction('convertToInteractive',\n",
              "                                                     [key], {});\n",
              "          if (!dataTable) return;\n",
              "\n",
              "          const docLinkHtml = 'Like what you see? Visit the ' +\n",
              "            '<a target=\"_blank\" href=https://colab.research.google.com/notebooks/data_table.ipynb>data table notebook</a>'\n",
              "            + ' to learn more about interactive tables.';\n",
              "          element.innerHTML = '';\n",
              "          dataTable['output_type'] = 'display_data';\n",
              "          await google.colab.output.renderOutput(dataTable, element);\n",
              "          const docLink = document.createElement('div');\n",
              "          docLink.innerHTML = docLinkHtml;\n",
              "          element.appendChild(docLink);\n",
              "        }\n",
              "      </script>\n",
              "    </div>\n",
              "  </div>\n",
              "  "
            ]
          },
          "metadata": {},
          "execution_count": 15
        }
      ]
    },
    {
      "cell_type": "code",
      "source": [
        "X = df[['Umur','Pendapatan-per-bulan','skor-pengeluaran','Pria','Wanita']]"
      ],
      "metadata": {
        "id": "3onio9DMMPPR"
      },
      "execution_count": null,
      "outputs": []
    },
    {
      "cell_type": "code",
      "source": [
        "from sklearn.cluster import KMeans"
      ],
      "metadata": {
        "id": "vRsQ1D4jMZI_"
      },
      "execution_count": null,
      "outputs": []
    },
    {
      "cell_type": "code",
      "source": [
        "from sklearn.metrics import silhouttte_score"
      ],
      "metadata": {
        "id": "2Y_PfwruOIUE",
        "colab": {
          "base_uri": "https://localhost:8080/",
          "height": 304
        },
        "outputId": "4208fb5d-db27-4413-e2de-665cbe89b42a"
      },
      "execution_count": null,
      "outputs": [
        {
          "output_type": "error",
          "ename": "ImportError",
          "evalue": "ignored",
          "traceback": [
            "\u001b[0;31m---------------------------------------------------------------------------\u001b[0m",
            "\u001b[0;31mImportError\u001b[0m                               Traceback (most recent call last)",
            "\u001b[0;32m<ipython-input-18-45178edb0432>\u001b[0m in \u001b[0;36m<module>\u001b[0;34m\u001b[0m\n\u001b[0;32m----> 1\u001b[0;31m \u001b[0;32mfrom\u001b[0m \u001b[0msklearn\u001b[0m\u001b[0;34m.\u001b[0m\u001b[0mmetrics\u001b[0m \u001b[0;32mimport\u001b[0m \u001b[0msilhouttte_score\u001b[0m\u001b[0;34m\u001b[0m\u001b[0;34m\u001b[0m\u001b[0m\n\u001b[0m",
            "\u001b[0;31mImportError\u001b[0m: cannot import name 'silhouttte_score' from 'sklearn.metrics' (/usr/local/lib/python3.7/dist-packages/sklearn/metrics/__init__.py)",
            "",
            "\u001b[0;31m---------------------------------------------------------------------------\u001b[0;32m\nNOTE: If your import is failing due to a missing package, you can\nmanually install dependencies using either !pip or !apt.\n\nTo view examples of installing some common dependencies, click the\n\"Open Examples\" button below.\n\u001b[0;31m---------------------------------------------------------------------------\u001b[0m\n"
          ],
          "errorDetails": {
            "actions": [
              {
                "action": "open_url",
                "actionText": "Open Examples",
                "url": "/notebooks/snippets/importing_libraries.ipynb"
              }
            ]
          }
        }
      ]
    },
    {
      "cell_type": "code",
      "source": [
        "SSE = []\n",
        "\n",
        "for cluster in range(1,10):\n",
        "    kmeans = KMeans(n_clusters = cluster, init='k-means++')\n",
        "    kmeans.fit(X)\n",
        "    SSE.append(kmeans.inertia_)\n",
        "\n",
        "# converting the results into a dataframe and plotting them\n",
        "\n",
        "frame = pd.DataFrame({'Cluster':range(1,10), 'SSE':SSE})\n",
        "plt.figure(figsize=(12,6))\n",
        "plt.plot(frame['Cluster'], frame['SSE'], marker='o')\n",
        "plt.xlabel('Number of clusters')\n",
        "plt.ylabel('Inertia')"
      ],
      "metadata": {
        "id": "yXFeoGBkMbgW"
      },
      "execution_count": null,
      "outputs": []
    },
    {
      "cell_type": "code",
      "source": [
        "# First, build a model with 4 clusters\n",
        "\n",
        "kmeans = KMeans(n_clusters = 4, init='k-means++')\n",
        "kmeans.fit(X)\n",
        "\n",
        "# Now, print the silhouette score of this model\n",
        "\n",
        "print(siluet(X, kmeans.labels_, metric='euclidean'))"
      ],
      "metadata": {
        "id": "xmWiw3EOMdF2"
      },
      "execution_count": null,
      "outputs": []
    },
    {
      "cell_type": "code",
      "source": [
        "# First, build a model with 3 clusters\n",
        "\n",
        "kmeans_k3 = KMeans(n_clusters = 3, init='k-means++')\n",
        "kmeans_k3.fit(X)\n",
        "\n",
        "# Now, print the silhouette score of this model\n",
        "\n",
        "print(siluet(X, kmeans.labels_, metric='euclidean'))"
      ],
      "metadata": {
        "id": "ism1pyxEM684"
      },
      "execution_count": null,
      "outputs": []
    },
    {
      "cell_type": "code",
      "source": [
        "# First, build a model with 5 clusters\n",
        "\n",
        "kmeans_k5 = KMeans(n_clusters = 5, init='k-means++')\n",
        "kmeans_k5.fit(X)\n",
        "\n",
        "# Now, print the silhouette score of this model\n",
        "\n",
        "print(siluet(X, kmeans.labels_, metric='euclidean'))"
      ],
      "metadata": {
        "id": "8NtAZZfeObLV"
      },
      "execution_count": null,
      "outputs": []
    },
    {
      "cell_type": "code",
      "source": [
        "import warnings; warnings.simplefilter('ignore')\n",
        "\n",
        "try:\n",
        "    import google.colab; IN_COLAB = True\n",
        "    print(\"Installing the required modules\")\n",
        "    !pip install --upgrade umap-learn\n",
        "    !wget https://raw.githubusercontent.com/taudata-indonesia/eLearning/master/tau_unsup.py\n",
        "except:\n",
        "    IN_COLAB = False\n",
        "    print(\"Running the code locally, please make sure all the python module versions agree with colab environment and all data/assets downloaded\")"
      ],
      "metadata": {
        "id": "EZ6oCre9O9P2"
      },
      "execution_count": null,
      "outputs": []
    },
    {
      "cell_type": "code",
      "source": [
        "import tau_unsup as tau"
      ],
      "metadata": {
        "id": "akQbjNz-Pbkl"
      },
      "execution_count": null,
      "outputs": []
    },
    {
      "cell_type": "code",
      "source": [
        "tau.sil_based_optimal_km()"
      ],
      "metadata": {
        "id": "-oYDgumFOiSG"
      },
      "execution_count": null,
      "outputs": []
    },
    {
      "cell_type": "code",
      "source": [
        "C_km = kmeans.predict(X)\n",
        "p= sns.countplot(x=C_km)"
      ],
      "metadata": {
        "id": "qoIByndGO1Bk"
      },
      "execution_count": null,
      "outputs": []
    },
    {
      "cell_type": "code",
      "source": [
        "\n",
        "predict=kmeans.fit(X)\n",
        "df['cluster'] = pd.Series(y)"
      ],
      "metadata": {
        "id": "lc7SF1frPuzv"
      },
      "execution_count": null,
      "outputs": []
    },
    {
      "cell_type": "code",
      "source": [
        "y=kmeans.fit_predict(X)\n",
        "print(y)"
      ],
      "metadata": {
        "id": "nhhGCTxISR_L"
      },
      "execution_count": null,
      "outputs": []
    },
    {
      "cell_type": "code",
      "source": [
        "df.tail(10)"
      ],
      "metadata": {
        "id": "CIKswn12QOtn"
      },
      "execution_count": null,
      "outputs": []
    },
    {
      "cell_type": "code",
      "source": [
        "avg_df = df.groupby(['cluster'], as_index=False).mean()"
      ],
      "metadata": {
        "id": "HCkzg8CXTMkt"
      },
      "execution_count": null,
      "outputs": []
    },
    {
      "cell_type": "code",
      "source": [
        "avg_df"
      ],
      "metadata": {
        "id": "lMxYlivtTbU8"
      },
      "execution_count": null,
      "outputs": []
    },
    {
      "cell_type": "code",
      "source": [
        "df2=pd.read_csv('https://raw.githubusercontent.com/nataniaa/CobaAja/main/CaseStudy2fix.csv',sep=';')\n",
        "df2"
      ],
      "metadata": {
        "id": "_kBkEclpTqli"
      },
      "execution_count": null,
      "outputs": []
    },
    {
      "cell_type": "code",
      "source": [
        "df2['cluster'] = pd.Series(y)"
      ],
      "metadata": {
        "id": "OwoqMlaoVNMV"
      },
      "execution_count": null,
      "outputs": []
    },
    {
      "cell_type": "code",
      "source": [
        "avg_df = df2.groupby(['cluster'], as_index=False).mean()\n",
        "avg_df"
      ],
      "metadata": {
        "id": "tzDzngmuUxtE"
      },
      "execution_count": null,
      "outputs": []
    },
    {
      "cell_type": "code",
      "source": [
        "df2"
      ],
      "metadata": {
        "id": "ZhPaiXAYVOaE"
      },
      "execution_count": null,
      "outputs": []
    },
    {
      "cell_type": "code",
      "source": [
        "sns.barplot(x='cluster',y='Umur',data=avg_df)\n"
      ],
      "metadata": {
        "id": "JxSGZ7JIVP-D"
      },
      "execution_count": null,
      "outputs": []
    },
    {
      "cell_type": "code",
      "source": [
        "sns.barplot(x='cluster',y='skor-pengeluaran',data=avg_df)"
      ],
      "metadata": {
        "id": "YMoHFjl1Vg-1"
      },
      "execution_count": null,
      "outputs": []
    },
    {
      "cell_type": "code",
      "source": [
        "sns.barplot(x='cluster',y='Pendapatan-per-bulan',data=avg_df)"
      ],
      "metadata": {
        "id": "97IJDZSOWzFm"
      },
      "execution_count": null,
      "outputs": []
    },
    {
      "cell_type": "markdown",
      "source": [
        "CLUSTER\n",
        "\n",
        "\n",
        "cluster 0 : Umur 20-30, skor pengeluaran cukup tinggi, pendapatan rendah\n",
        "\n",
        "cluster 1 : Umur 40-an, skor pengeluaran rendah, pendapatan tinggi \n",
        "\n",
        "cluster 2 : Umur 30-40, skor pengeluaran tinggi, pendapatan tinggi\n",
        "\n",
        "\n",
        "cluster 3 : umur 50-anm skor pengeluaran sedikit, pendapatan sedikit\n",
        "\n"
      ],
      "metadata": {
        "id": "Yqkz6jwYX8b3"
      }
    },
    {
      "cell_type": "markdown",
      "source": [
        "Cluster 0 : careless buyer\n",
        "\n",
        "\n",
        "Segmen ini berisi anak-anak muda, mungkin baru pertama kali bekerja, dan menghasilkan paling sedikit uang diantara cluster lain, namun mereka memiliki pengeluaran yang tinggi \n",
        "\n",
        "Rekomendasi : Karena mereka adalah anak-anak muda mungkin memberikan mereka kupon atau diskon merupakan ide yang baik, misalnya memberi diskon jika menunjukkan kartu mahasiswa\n"
      ],
      "metadata": {
        "id": "J69zrwfrY198"
      }
    },
    {
      "cell_type": "markdown",
      "source": [
        "Cluster 1 : orang orang frugal \n",
        "\n",
        "\n",
        "Terdiri dari individu paruh baya yang sangat berhati-hati dengan uang.\n",
        "\n",
        "Meskipun memiliki pendapatan rata-rata tertinggi dibandingkan dengan individu di semua kelompok lain, mereka menghabiskan paling sedikit.\n",
        "\n",
        "\n",
        "Rekomendasi: mungkin dengan memberi promo, kupon, dan kode diskon kartu kredit atau debit akan menarik individu di segmen ini untuk berbelanja\n",
        "\n"
      ],
      "metadata": {
        "id": "JHkhvp5MZZxy"
      }
    },
    {
      "cell_type": "markdown",
      "source": [
        "Cluster 2 :\n",
        "\n",
        "\n",
        "Segmen ini berisi orang-orang paruh baya, dengan pendapatan dan spending habit yang tinggi"
      ],
      "metadata": {
        "id": "A8pcxaObZ6XG"
      }
    },
    {
      "cell_type": "markdown",
      "source": [
        "Cluster 3 : \n",
        "\n",
        "\n",
        "Segmen ini terdiri dari kelompok orang yang lebih tua.\n",
        "\n",
        "Mereka berpenghasilan  dan membelanjakan lebih sedikit, mungkin cluster ini berisi orang-orang yang hampir pensiun\n",
        "\n",
        "Rekomendasi: Pemasaran kepada individu-individu ini dapat dilakukan melalui Facebook, yang menarik bagi demografis yang lebih tua. "
      ],
      "metadata": {
        "id": "ng4jFTEHaqn9"
      }
    },
    {
      "cell_type": "markdown",
      "source": [
        "**Rekomendasi**\n",
        "\n",
        "https://www.bps.go.id/indicator/5/2123/1/rata-rata-pengeluaran-perkapita-seminggu-menurut-kelompok-makanan-minuman-jadi-per-kabupaten-kota.html\n",
        "\n",
        "Berdasarkan data yang kami dapatkan dari BPS mengenai pengeluaran per kapita, dapat diketahui data peminat es krim tertinggi pada kabupaten/kota di Indonesia dari pengeluaran per kapita setiap kabupaten/kota.\n",
        "Sehingga, jika MixItUp ingin membuka cabang baru di kota lain, kami menyarankan untuk membuka cabang di Purwakarta, Sidoarjo, atau Kota Bandung untuk di Pulau Jawa. Jika ingin mengekspansi cabang di luar Pulau Jawa, maka dapat membuka cabang di Kota Mataram, Kota Batam, ataupun Kutai Timur."
      ],
      "metadata": {
        "id": "Nwmf_6EYeCKd"
      }
    }
  ]
}