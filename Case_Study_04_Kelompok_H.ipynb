{
  "cells": [
    {
      "cell_type": "markdown",
      "metadata": {
        "id": "view-in-github",
        "colab_type": "text"
      },
      "source": [
        "<a href=\"https://colab.research.google.com/github/njwaamfdh/Tugas/blob/main/Case_Study_04_Kelompok_H.ipynb\" target=\"_parent\"><img src=\"https://colab.research.google.com/assets/colab-badge.svg\" alt=\"Open In Colab\"/></a>"
      ]
    },
    {
      "cell_type": "markdown",
      "source": [
        "# Studi Kasus 4 Korelasi dan Regresi\n",
        "# **GROUP H**\n",
        "1. Azizah Annurohmah (2006572983)\n",
        "2. Muhammad Ammar Daffa (2006571066)\n",
        "3. Muhammad Jauhar Hakim (2006463982)\n",
        "4. Najwa Mufidah (2006463931)\n",
        "5. Natania Agustin (2006572895)\n",
        "6. Nurrochmi Andina (2006571103)\n",
        "7. Olivia Felica Utomo (2006464114)"
      ],
      "metadata": {
        "tags": [],
        "cell_id": "8214410d1c224534837b00c22b65c374",
        "deepnote_cell_type": "markdown",
        "id": "a9ZqMFTS7zlQ"
      }
    },
    {
      "cell_type": "markdown",
      "source": [
        "## Import Module"
      ],
      "metadata": {
        "tags": [],
        "cell_id": "67f19f8e0fd744b19c54201c779f25d1",
        "deepnote_cell_type": "markdown",
        "id": "NuwcXtM57zla"
      }
    },
    {
      "cell_type": "code",
      "source": [
        "import warnings; warnings.simplefilter('ignore')\n",
        "import pandas as pd, seaborn as sns, matplotlib.pyplot as plt, numpy as np\n",
        "plt.style.use('bmh'); sns.set()\n",
        "\n",
        "import statsmodels.formula.api as smf\n",
        "from statsmodels.formula.api import ols\n",
        "import statsmodels.api as sm, scipy.stats as stats\n",
        "\n",
        "from sklearn.preprocessing import MinMaxScaler\n",
        "scaler = MinMaxScaler()\n",
        "\n",
        "from sklearn.model_selection import train_test_split"
      ],
      "metadata": {
        "tags": [],
        "cell_id": "d10712c37a3c4263878fa6f72c11921a",
        "source_hash": "279de8e2",
        "execution_start": 1668759448972,
        "execution_millis": 3819,
        "deepnote_to_be_reexecuted": false,
        "deepnote_cell_type": "code",
        "id": "jzLCPzCV7zlc"
      },
      "outputs": [],
      "execution_count": null
    },
    {
      "cell_type": "markdown",
      "source": [
        "## Import Data"
      ],
      "metadata": {
        "tags": [],
        "cell_id": "13bded5e786440eba8b7bf435a83bcb2",
        "deepnote_cell_type": "markdown",
        "id": "ZvS3T2zG7zle"
      }
    },
    {
      "cell_type": "code",
      "source": [
        "df = pd.read_csv('https://raw.githubusercontent.com/taudataid/eLearning/master/data/Ashrae_Energy_Mean.csv')\n",
        "df.head()"
      ],
      "metadata": {
        "tags": [],
        "cell_id": "16a154655c904321bd314e214dcf216f",
        "source_hash": "c2940539",
        "execution_start": 1668759452822,
        "execution_millis": 306,
        "deepnote_to_be_reexecuted": false,
        "deepnote_cell_type": "code",
        "colab": {
          "base_uri": "https://localhost:8080/",
          "height": 206
        },
        "id": "3t_aF3NW7zle",
        "outputId": "5026e0be-f4d9-45a6-bcb5-c3c66af0c43f"
      },
      "outputs": [
        {
          "output_type": "execute_result",
          "data": {
            "text/plain": [
              "   meter_reading primary_use  square_feet  year_built  floor_count  \\\n",
              "0     237.749127   Education         7432      2008.0          NaN   \n",
              "1     118.553743   Education         2720      2004.0          NaN   \n",
              "2      23.626500   Education         5376      1991.0          NaN   \n",
              "3     382.736016   Education        23685      2002.0          NaN   \n",
              "4    1579.174237   Education       116607      1975.0          NaN   \n",
              "\n",
              "   air_temperature  cloud_coverage  dew_temperature  precip_depth_1_hr  \\\n",
              "0        22.744816        2.998727        17.379328           1.240589   \n",
              "1        22.744816        2.998727        17.379328           1.240589   \n",
              "2        22.744816        2.998727        17.379328           1.240589   \n",
              "3        22.744816        2.998727        17.379328           1.240589   \n",
              "4        22.744816        2.998727        17.379328           1.240589   \n",
              "\n",
              "   sea_level_pressure  wind_direction  wind_speed  \n",
              "0         1017.949437      152.521015    3.391472  \n",
              "1         1017.949437      152.521015    3.391472  \n",
              "2         1017.949437      152.521015    3.391472  \n",
              "3         1017.949437      152.521015    3.391472  \n",
              "4         1017.949437      152.521015    3.391472  "
            ],
            "text/html": [
              "\n",
              "  <div id=\"df-d7cd1eb2-1a0d-4577-9e8c-1a5d3d86ebf6\">\n",
              "    <div class=\"colab-df-container\">\n",
              "      <div>\n",
              "<style scoped>\n",
              "    .dataframe tbody tr th:only-of-type {\n",
              "        vertical-align: middle;\n",
              "    }\n",
              "\n",
              "    .dataframe tbody tr th {\n",
              "        vertical-align: top;\n",
              "    }\n",
              "\n",
              "    .dataframe thead th {\n",
              "        text-align: right;\n",
              "    }\n",
              "</style>\n",
              "<table border=\"1\" class=\"dataframe\">\n",
              "  <thead>\n",
              "    <tr style=\"text-align: right;\">\n",
              "      <th></th>\n",
              "      <th>meter_reading</th>\n",
              "      <th>primary_use</th>\n",
              "      <th>square_feet</th>\n",
              "      <th>year_built</th>\n",
              "      <th>floor_count</th>\n",
              "      <th>air_temperature</th>\n",
              "      <th>cloud_coverage</th>\n",
              "      <th>dew_temperature</th>\n",
              "      <th>precip_depth_1_hr</th>\n",
              "      <th>sea_level_pressure</th>\n",
              "      <th>wind_direction</th>\n",
              "      <th>wind_speed</th>\n",
              "    </tr>\n",
              "  </thead>\n",
              "  <tbody>\n",
              "    <tr>\n",
              "      <th>0</th>\n",
              "      <td>237.749127</td>\n",
              "      <td>Education</td>\n",
              "      <td>7432</td>\n",
              "      <td>2008.0</td>\n",
              "      <td>NaN</td>\n",
              "      <td>22.744816</td>\n",
              "      <td>2.998727</td>\n",
              "      <td>17.379328</td>\n",
              "      <td>1.240589</td>\n",
              "      <td>1017.949437</td>\n",
              "      <td>152.521015</td>\n",
              "      <td>3.391472</td>\n",
              "    </tr>\n",
              "    <tr>\n",
              "      <th>1</th>\n",
              "      <td>118.553743</td>\n",
              "      <td>Education</td>\n",
              "      <td>2720</td>\n",
              "      <td>2004.0</td>\n",
              "      <td>NaN</td>\n",
              "      <td>22.744816</td>\n",
              "      <td>2.998727</td>\n",
              "      <td>17.379328</td>\n",
              "      <td>1.240589</td>\n",
              "      <td>1017.949437</td>\n",
              "      <td>152.521015</td>\n",
              "      <td>3.391472</td>\n",
              "    </tr>\n",
              "    <tr>\n",
              "      <th>2</th>\n",
              "      <td>23.626500</td>\n",
              "      <td>Education</td>\n",
              "      <td>5376</td>\n",
              "      <td>1991.0</td>\n",
              "      <td>NaN</td>\n",
              "      <td>22.744816</td>\n",
              "      <td>2.998727</td>\n",
              "      <td>17.379328</td>\n",
              "      <td>1.240589</td>\n",
              "      <td>1017.949437</td>\n",
              "      <td>152.521015</td>\n",
              "      <td>3.391472</td>\n",
              "    </tr>\n",
              "    <tr>\n",
              "      <th>3</th>\n",
              "      <td>382.736016</td>\n",
              "      <td>Education</td>\n",
              "      <td>23685</td>\n",
              "      <td>2002.0</td>\n",
              "      <td>NaN</td>\n",
              "      <td>22.744816</td>\n",
              "      <td>2.998727</td>\n",
              "      <td>17.379328</td>\n",
              "      <td>1.240589</td>\n",
              "      <td>1017.949437</td>\n",
              "      <td>152.521015</td>\n",
              "      <td>3.391472</td>\n",
              "    </tr>\n",
              "    <tr>\n",
              "      <th>4</th>\n",
              "      <td>1579.174237</td>\n",
              "      <td>Education</td>\n",
              "      <td>116607</td>\n",
              "      <td>1975.0</td>\n",
              "      <td>NaN</td>\n",
              "      <td>22.744816</td>\n",
              "      <td>2.998727</td>\n",
              "      <td>17.379328</td>\n",
              "      <td>1.240589</td>\n",
              "      <td>1017.949437</td>\n",
              "      <td>152.521015</td>\n",
              "      <td>3.391472</td>\n",
              "    </tr>\n",
              "  </tbody>\n",
              "</table>\n",
              "</div>\n",
              "      <button class=\"colab-df-convert\" onclick=\"convertToInteractive('df-d7cd1eb2-1a0d-4577-9e8c-1a5d3d86ebf6')\"\n",
              "              title=\"Convert this dataframe to an interactive table.\"\n",
              "              style=\"display:none;\">\n",
              "        \n",
              "  <svg xmlns=\"http://www.w3.org/2000/svg\" height=\"24px\"viewBox=\"0 0 24 24\"\n",
              "       width=\"24px\">\n",
              "    <path d=\"M0 0h24v24H0V0z\" fill=\"none\"/>\n",
              "    <path d=\"M18.56 5.44l.94 2.06.94-2.06 2.06-.94-2.06-.94-.94-2.06-.94 2.06-2.06.94zm-11 1L8.5 8.5l.94-2.06 2.06-.94-2.06-.94L8.5 2.5l-.94 2.06-2.06.94zm10 10l.94 2.06.94-2.06 2.06-.94-2.06-.94-.94-2.06-.94 2.06-2.06.94z\"/><path d=\"M17.41 7.96l-1.37-1.37c-.4-.4-.92-.59-1.43-.59-.52 0-1.04.2-1.43.59L10.3 9.45l-7.72 7.72c-.78.78-.78 2.05 0 2.83L4 21.41c.39.39.9.59 1.41.59.51 0 1.02-.2 1.41-.59l7.78-7.78 2.81-2.81c.8-.78.8-2.07 0-2.86zM5.41 20L4 18.59l7.72-7.72 1.47 1.35L5.41 20z\"/>\n",
              "  </svg>\n",
              "      </button>\n",
              "      \n",
              "  <style>\n",
              "    .colab-df-container {\n",
              "      display:flex;\n",
              "      flex-wrap:wrap;\n",
              "      gap: 12px;\n",
              "    }\n",
              "\n",
              "    .colab-df-convert {\n",
              "      background-color: #E8F0FE;\n",
              "      border: none;\n",
              "      border-radius: 50%;\n",
              "      cursor: pointer;\n",
              "      display: none;\n",
              "      fill: #1967D2;\n",
              "      height: 32px;\n",
              "      padding: 0 0 0 0;\n",
              "      width: 32px;\n",
              "    }\n",
              "\n",
              "    .colab-df-convert:hover {\n",
              "      background-color: #E2EBFA;\n",
              "      box-shadow: 0px 1px 2px rgba(60, 64, 67, 0.3), 0px 1px 3px 1px rgba(60, 64, 67, 0.15);\n",
              "      fill: #174EA6;\n",
              "    }\n",
              "\n",
              "    [theme=dark] .colab-df-convert {\n",
              "      background-color: #3B4455;\n",
              "      fill: #D2E3FC;\n",
              "    }\n",
              "\n",
              "    [theme=dark] .colab-df-convert:hover {\n",
              "      background-color: #434B5C;\n",
              "      box-shadow: 0px 1px 3px 1px rgba(0, 0, 0, 0.15);\n",
              "      filter: drop-shadow(0px 1px 2px rgba(0, 0, 0, 0.3));\n",
              "      fill: #FFFFFF;\n",
              "    }\n",
              "  </style>\n",
              "\n",
              "      <script>\n",
              "        const buttonEl =\n",
              "          document.querySelector('#df-d7cd1eb2-1a0d-4577-9e8c-1a5d3d86ebf6 button.colab-df-convert');\n",
              "        buttonEl.style.display =\n",
              "          google.colab.kernel.accessAllowed ? 'block' : 'none';\n",
              "\n",
              "        async function convertToInteractive(key) {\n",
              "          const element = document.querySelector('#df-d7cd1eb2-1a0d-4577-9e8c-1a5d3d86ebf6');\n",
              "          const dataTable =\n",
              "            await google.colab.kernel.invokeFunction('convertToInteractive',\n",
              "                                                     [key], {});\n",
              "          if (!dataTable) return;\n",
              "\n",
              "          const docLinkHtml = 'Like what you see? Visit the ' +\n",
              "            '<a target=\"_blank\" href=https://colab.research.google.com/notebooks/data_table.ipynb>data table notebook</a>'\n",
              "            + ' to learn more about interactive tables.';\n",
              "          element.innerHTML = '';\n",
              "          dataTable['output_type'] = 'display_data';\n",
              "          await google.colab.output.renderOutput(dataTable, element);\n",
              "          const docLink = document.createElement('div');\n",
              "          docLink.innerHTML = docLinkHtml;\n",
              "          element.appendChild(docLink);\n",
              "        }\n",
              "      </script>\n",
              "    </div>\n",
              "  </div>\n",
              "  "
            ]
          },
          "metadata": {},
          "execution_count": 2
        }
      ],
      "execution_count": null
    },
    {
      "cell_type": "markdown",
      "source": [
        "Di dalam dataset terdapat rata-rata penggunaan energi listrik yang digunakan dalam suatu bagunan (meter_reading) dengan keterangan bangunan dan juga keterangan cuaca.\n",
        "\n",
        "Keterangan Bangunan :\n",
        "1. Primary Use (Kegunaan Utama)\n",
        "2. Square Feet (Luas Bangunan)\n",
        "3. Year Built  (Tahun Dibangun)\n",
        "4. Floor Count (Jumlah Lantai)\n",
        "\n",
        "Keterangan Cuaca :\n",
        "1. Air Temperature (Suhu Udara)\n",
        "2. Cloud Coverage  (Cakupan Awan)\n",
        "3. Dew Temperature (Suhu Embun)\n",
        "4. Precip Depth    (Kedalaman Endapan)\n",
        "5. Sea Level Pressure (Tekanan Permukaan Laut)\n",
        "6. Wind Direction (Arah Angin)\n",
        "7. Wind Speed (Kecepatan Angin)"
      ],
      "metadata": {
        "tags": [],
        "cell_id": "39cb6381267e443a9c5b176163b44536",
        "deepnote_cell_type": "markdown",
        "id": "29MDlmQ87zlg"
      }
    },
    {
      "cell_type": "markdown",
      "source": [
        "## EDA - Pre Processing"
      ],
      "metadata": {
        "tags": [],
        "cell_id": "a00fb0834eb94697968bded5e3fac0b6",
        "deepnote_cell_type": "markdown",
        "id": "y28d36vX7zlh"
      }
    },
    {
      "cell_type": "code",
      "source": [
        "# Melihat banyaknya data yang kosong dan tipe data tiap variabel\n",
        "df.info()"
      ],
      "metadata": {
        "tags": [],
        "cell_id": "854656565c504490840aa07d90db9c25",
        "source_hash": "826157e7",
        "execution_start": 1668759453239,
        "execution_millis": 46,
        "deepnote_to_be_reexecuted": false,
        "deepnote_cell_type": "code",
        "colab": {
          "base_uri": "https://localhost:8080/"
        },
        "id": "-L5bnd9d7zlh",
        "outputId": "4547ffa5-f1fe-4c51-e052-038a6661cfda"
      },
      "outputs": [
        {
          "output_type": "stream",
          "name": "stdout",
          "text": [
            "<class 'pandas.core.frame.DataFrame'>\n",
            "RangeIndex: 1413 entries, 0 to 1412\n",
            "Data columns (total 12 columns):\n",
            " #   Column              Non-Null Count  Dtype  \n",
            "---  ------              --------------  -----  \n",
            " 0   meter_reading       1413 non-null   float64\n",
            " 1   primary_use         1413 non-null   object \n",
            " 2   square_feet         1413 non-null   int64  \n",
            " 3   year_built          663 non-null    float64\n",
            " 4   floor_count         352 non-null    float64\n",
            " 5   air_temperature     1413 non-null   float64\n",
            " 6   cloud_coverage      1396 non-null   float64\n",
            " 7   dew_temperature     1413 non-null   float64\n",
            " 8   precip_depth_1_hr   1237 non-null   float64\n",
            " 9   sea_level_pressure  1324 non-null   float64\n",
            " 10  wind_direction      1413 non-null   float64\n",
            " 11  wind_speed          1413 non-null   float64\n",
            "dtypes: float64(10), int64(1), object(1)\n",
            "memory usage: 132.6+ KB\n"
          ]
        }
      ],
      "execution_count": null
    },
    {
      "cell_type": "code",
      "source": [
        "# Memeriksa nilai unik dari variabel kategorik primary_use\n",
        "df['primary_use'].unique()"
      ],
      "metadata": {
        "tags": [],
        "cell_id": "a7b3107957524ccea7a335ba23f4ce5f",
        "source_hash": "881c732f",
        "execution_start": 1668759453330,
        "execution_millis": 51,
        "deepnote_to_be_reexecuted": false,
        "deepnote_cell_type": "code",
        "colab": {
          "base_uri": "https://localhost:8080/"
        },
        "id": "3IUxhq7p7zli",
        "outputId": "6181b32b-a95b-4e5e-f49b-985e344acea2"
      },
      "outputs": [
        {
          "output_type": "execute_result",
          "data": {
            "text/plain": [
              "array(['Education', 'Lodging/residential', 'Office',\n",
              "       'Entertainment/public assembly', 'Other', 'Retail', 'Parking',\n",
              "       'Public services', 'Warehouse/storage', 'Food sales and service',\n",
              "       'Religious worship', 'Healthcare', 'Utility', 'Technology/science',\n",
              "       'Manufacturing/industrial', 'Services'], dtype=object)"
            ]
          },
          "metadata": {},
          "execution_count": 4
        }
      ],
      "execution_count": null
    },
    {
      "cell_type": "markdown",
      "source": [
        "Terdapat tipe data yang tidak sesuai yaitu variabel primary_use, sehingga akan diganti tipe datanya menjadi kategori."
      ],
      "metadata": {
        "tags": [],
        "cell_id": "1179658cb67643d8a42a26b94924e7da",
        "deepnote_cell_type": "markdown",
        "id": "o0sTIzDL7zli"
      }
    },
    {
      "cell_type": "code",
      "source": [
        "# Mengganti tipe data variabel primary_use\n",
        "df['primary_use'] = df['primary_use'].astype('category')"
      ],
      "metadata": {
        "tags": [],
        "cell_id": "6fd65d33610d49438ab87f184192aa28",
        "source_hash": "e189c8ca",
        "execution_start": 1668759453379,
        "execution_millis": 62,
        "deepnote_to_be_reexecuted": false,
        "deepnote_cell_type": "code",
        "id": "tUHFccir7zlj"
      },
      "outputs": [],
      "execution_count": null
    },
    {
      "cell_type": "code",
      "source": [
        "# Memeriksa Jumlah Missing Value\n",
        "df.isna().sum()"
      ],
      "metadata": {
        "tags": [],
        "cell_id": "109be6e134ff44a7b6fd655f1ed7f4b2",
        "source_hash": "cf34dc8",
        "execution_start": 1668759453473,
        "execution_millis": 58,
        "deepnote_to_be_reexecuted": false,
        "deepnote_cell_type": "code",
        "colab": {
          "base_uri": "https://localhost:8080/"
        },
        "id": "5_vpPYTD7zlj",
        "outputId": "3758dee8-36f8-4893-87ae-c4cb548349a8"
      },
      "outputs": [
        {
          "output_type": "execute_result",
          "data": {
            "text/plain": [
              "meter_reading            0\n",
              "primary_use              0\n",
              "square_feet              0\n",
              "year_built             750\n",
              "floor_count           1061\n",
              "air_temperature          0\n",
              "cloud_coverage          17\n",
              "dew_temperature          0\n",
              "precip_depth_1_hr      176\n",
              "sea_level_pressure      89\n",
              "wind_direction           0\n",
              "wind_speed               0\n",
              "dtype: int64"
            ]
          },
          "metadata": {},
          "execution_count": 6
        }
      ],
      "execution_count": null
    },
    {
      "cell_type": "markdown",
      "source": [
        "Terdapat banyak data yang kosong pada kolom year_built dan floor_count"
      ],
      "metadata": {
        "tags": [],
        "cell_id": "072b57ba39b546fb803afb4b75a372a5",
        "deepnote_cell_type": "markdown",
        "id": "dA1vcCSV7zlk"
      }
    },
    {
      "cell_type": "code",
      "source": [
        "# Memeriksa nilai unik dari variabel floor_count untuk melihat apakah ada noise dari data variabel tersebut\n",
        "print(df['floor_count'].unique())"
      ],
      "metadata": {
        "tags": [],
        "cell_id": "c4f68619b3e14d53ac3022570253096a",
        "source_hash": "fddb9226",
        "execution_start": 1668759453599,
        "execution_millis": 2,
        "deepnote_to_be_reexecuted": false,
        "deepnote_cell_type": "code",
        "colab": {
          "base_uri": "https://localhost:8080/"
        },
        "id": "uIc0UI1H7zlk",
        "outputId": "c061a365-c696-4460-edb9-da738189384b"
      },
      "outputs": [
        {
          "output_type": "stream",
          "name": "stdout",
          "text": [
            "[nan  5.  4. 10.  6.  8.  7.  9. 13. 16. 11. 12.  2.  3.  1. 14. 21. 26.\n",
            " 19.]\n"
          ]
        }
      ],
      "execution_count": null
    },
    {
      "cell_type": "markdown",
      "source": [
        "Terlihat bahwa tidak ada data noise pada variabel floor_count"
      ],
      "metadata": {
        "tags": [],
        "cell_id": "e79cd2718ede40ffae855d1a0e30b7bf",
        "deepnote_cell_type": "markdown",
        "id": "GdjN0noE7zlk"
      }
    },
    {
      "cell_type": "code",
      "source": [
        "# Drop kolom floor_count dan year_built karena terlalu banyak missing value\n",
        "df.drop(\"floor_count\", axis=1, inplace=True)\n",
        "df.drop(\"year_built\", axis=1, inplace=True)\n",
        "df.head()"
      ],
      "metadata": {
        "tags": [],
        "cell_id": "4afab2306b034a5fbb24089eda3a0b2c",
        "source_hash": "7b33ee6b",
        "execution_start": 1668759453643,
        "execution_millis": 189,
        "deepnote_to_be_reexecuted": false,
        "deepnote_cell_type": "code",
        "colab": {
          "base_uri": "https://localhost:8080/",
          "height": 206
        },
        "id": "YByEouwb7zlk",
        "outputId": "134b6b5d-dcdf-4e13-cb7f-171b825e6766"
      },
      "outputs": [
        {
          "output_type": "execute_result",
          "data": {
            "text/plain": [
              "   meter_reading primary_use  square_feet  air_temperature  cloud_coverage  \\\n",
              "0     237.749127   Education         7432        22.744816        2.998727   \n",
              "1     118.553743   Education         2720        22.744816        2.998727   \n",
              "2      23.626500   Education         5376        22.744816        2.998727   \n",
              "3     382.736016   Education        23685        22.744816        2.998727   \n",
              "4    1579.174237   Education       116607        22.744816        2.998727   \n",
              "\n",
              "   dew_temperature  precip_depth_1_hr  sea_level_pressure  wind_direction  \\\n",
              "0        17.379328           1.240589         1017.949437      152.521015   \n",
              "1        17.379328           1.240589         1017.949437      152.521015   \n",
              "2        17.379328           1.240589         1017.949437      152.521015   \n",
              "3        17.379328           1.240589         1017.949437      152.521015   \n",
              "4        17.379328           1.240589         1017.949437      152.521015   \n",
              "\n",
              "   wind_speed  \n",
              "0    3.391472  \n",
              "1    3.391472  \n",
              "2    3.391472  \n",
              "3    3.391472  \n",
              "4    3.391472  "
            ],
            "text/html": [
              "\n",
              "  <div id=\"df-314aac35-de7a-480e-b394-077d6eb1960a\">\n",
              "    <div class=\"colab-df-container\">\n",
              "      <div>\n",
              "<style scoped>\n",
              "    .dataframe tbody tr th:only-of-type {\n",
              "        vertical-align: middle;\n",
              "    }\n",
              "\n",
              "    .dataframe tbody tr th {\n",
              "        vertical-align: top;\n",
              "    }\n",
              "\n",
              "    .dataframe thead th {\n",
              "        text-align: right;\n",
              "    }\n",
              "</style>\n",
              "<table border=\"1\" class=\"dataframe\">\n",
              "  <thead>\n",
              "    <tr style=\"text-align: right;\">\n",
              "      <th></th>\n",
              "      <th>meter_reading</th>\n",
              "      <th>primary_use</th>\n",
              "      <th>square_feet</th>\n",
              "      <th>air_temperature</th>\n",
              "      <th>cloud_coverage</th>\n",
              "      <th>dew_temperature</th>\n",
              "      <th>precip_depth_1_hr</th>\n",
              "      <th>sea_level_pressure</th>\n",
              "      <th>wind_direction</th>\n",
              "      <th>wind_speed</th>\n",
              "    </tr>\n",
              "  </thead>\n",
              "  <tbody>\n",
              "    <tr>\n",
              "      <th>0</th>\n",
              "      <td>237.749127</td>\n",
              "      <td>Education</td>\n",
              "      <td>7432</td>\n",
              "      <td>22.744816</td>\n",
              "      <td>2.998727</td>\n",
              "      <td>17.379328</td>\n",
              "      <td>1.240589</td>\n",
              "      <td>1017.949437</td>\n",
              "      <td>152.521015</td>\n",
              "      <td>3.391472</td>\n",
              "    </tr>\n",
              "    <tr>\n",
              "      <th>1</th>\n",
              "      <td>118.553743</td>\n",
              "      <td>Education</td>\n",
              "      <td>2720</td>\n",
              "      <td>22.744816</td>\n",
              "      <td>2.998727</td>\n",
              "      <td>17.379328</td>\n",
              "      <td>1.240589</td>\n",
              "      <td>1017.949437</td>\n",
              "      <td>152.521015</td>\n",
              "      <td>3.391472</td>\n",
              "    </tr>\n",
              "    <tr>\n",
              "      <th>2</th>\n",
              "      <td>23.626500</td>\n",
              "      <td>Education</td>\n",
              "      <td>5376</td>\n",
              "      <td>22.744816</td>\n",
              "      <td>2.998727</td>\n",
              "      <td>17.379328</td>\n",
              "      <td>1.240589</td>\n",
              "      <td>1017.949437</td>\n",
              "      <td>152.521015</td>\n",
              "      <td>3.391472</td>\n",
              "    </tr>\n",
              "    <tr>\n",
              "      <th>3</th>\n",
              "      <td>382.736016</td>\n",
              "      <td>Education</td>\n",
              "      <td>23685</td>\n",
              "      <td>22.744816</td>\n",
              "      <td>2.998727</td>\n",
              "      <td>17.379328</td>\n",
              "      <td>1.240589</td>\n",
              "      <td>1017.949437</td>\n",
              "      <td>152.521015</td>\n",
              "      <td>3.391472</td>\n",
              "    </tr>\n",
              "    <tr>\n",
              "      <th>4</th>\n",
              "      <td>1579.174237</td>\n",
              "      <td>Education</td>\n",
              "      <td>116607</td>\n",
              "      <td>22.744816</td>\n",
              "      <td>2.998727</td>\n",
              "      <td>17.379328</td>\n",
              "      <td>1.240589</td>\n",
              "      <td>1017.949437</td>\n",
              "      <td>152.521015</td>\n",
              "      <td>3.391472</td>\n",
              "    </tr>\n",
              "  </tbody>\n",
              "</table>\n",
              "</div>\n",
              "      <button class=\"colab-df-convert\" onclick=\"convertToInteractive('df-314aac35-de7a-480e-b394-077d6eb1960a')\"\n",
              "              title=\"Convert this dataframe to an interactive table.\"\n",
              "              style=\"display:none;\">\n",
              "        \n",
              "  <svg xmlns=\"http://www.w3.org/2000/svg\" height=\"24px\"viewBox=\"0 0 24 24\"\n",
              "       width=\"24px\">\n",
              "    <path d=\"M0 0h24v24H0V0z\" fill=\"none\"/>\n",
              "    <path d=\"M18.56 5.44l.94 2.06.94-2.06 2.06-.94-2.06-.94-.94-2.06-.94 2.06-2.06.94zm-11 1L8.5 8.5l.94-2.06 2.06-.94-2.06-.94L8.5 2.5l-.94 2.06-2.06.94zm10 10l.94 2.06.94-2.06 2.06-.94-2.06-.94-.94-2.06-.94 2.06-2.06.94z\"/><path d=\"M17.41 7.96l-1.37-1.37c-.4-.4-.92-.59-1.43-.59-.52 0-1.04.2-1.43.59L10.3 9.45l-7.72 7.72c-.78.78-.78 2.05 0 2.83L4 21.41c.39.39.9.59 1.41.59.51 0 1.02-.2 1.41-.59l7.78-7.78 2.81-2.81c.8-.78.8-2.07 0-2.86zM5.41 20L4 18.59l7.72-7.72 1.47 1.35L5.41 20z\"/>\n",
              "  </svg>\n",
              "      </button>\n",
              "      \n",
              "  <style>\n",
              "    .colab-df-container {\n",
              "      display:flex;\n",
              "      flex-wrap:wrap;\n",
              "      gap: 12px;\n",
              "    }\n",
              "\n",
              "    .colab-df-convert {\n",
              "      background-color: #E8F0FE;\n",
              "      border: none;\n",
              "      border-radius: 50%;\n",
              "      cursor: pointer;\n",
              "      display: none;\n",
              "      fill: #1967D2;\n",
              "      height: 32px;\n",
              "      padding: 0 0 0 0;\n",
              "      width: 32px;\n",
              "    }\n",
              "\n",
              "    .colab-df-convert:hover {\n",
              "      background-color: #E2EBFA;\n",
              "      box-shadow: 0px 1px 2px rgba(60, 64, 67, 0.3), 0px 1px 3px 1px rgba(60, 64, 67, 0.15);\n",
              "      fill: #174EA6;\n",
              "    }\n",
              "\n",
              "    [theme=dark] .colab-df-convert {\n",
              "      background-color: #3B4455;\n",
              "      fill: #D2E3FC;\n",
              "    }\n",
              "\n",
              "    [theme=dark] .colab-df-convert:hover {\n",
              "      background-color: #434B5C;\n",
              "      box-shadow: 0px 1px 3px 1px rgba(0, 0, 0, 0.15);\n",
              "      filter: drop-shadow(0px 1px 2px rgba(0, 0, 0, 0.3));\n",
              "      fill: #FFFFFF;\n",
              "    }\n",
              "  </style>\n",
              "\n",
              "      <script>\n",
              "        const buttonEl =\n",
              "          document.querySelector('#df-314aac35-de7a-480e-b394-077d6eb1960a button.colab-df-convert');\n",
              "        buttonEl.style.display =\n",
              "          google.colab.kernel.accessAllowed ? 'block' : 'none';\n",
              "\n",
              "        async function convertToInteractive(key) {\n",
              "          const element = document.querySelector('#df-314aac35-de7a-480e-b394-077d6eb1960a');\n",
              "          const dataTable =\n",
              "            await google.colab.kernel.invokeFunction('convertToInteractive',\n",
              "                                                     [key], {});\n",
              "          if (!dataTable) return;\n",
              "\n",
              "          const docLinkHtml = 'Like what you see? Visit the ' +\n",
              "            '<a target=\"_blank\" href=https://colab.research.google.com/notebooks/data_table.ipynb>data table notebook</a>'\n",
              "            + ' to learn more about interactive tables.';\n",
              "          element.innerHTML = '';\n",
              "          dataTable['output_type'] = 'display_data';\n",
              "          await google.colab.output.renderOutput(dataTable, element);\n",
              "          const docLink = document.createElement('div');\n",
              "          docLink.innerHTML = docLinkHtml;\n",
              "          element.appendChild(docLink);\n",
              "        }\n",
              "      </script>\n",
              "    </div>\n",
              "  </div>\n",
              "  "
            ]
          },
          "metadata": {},
          "execution_count": 8
        }
      ],
      "execution_count": null
    },
    {
      "cell_type": "code",
      "source": [
        "#Drop duplicates\n",
        "print(df.shape) #lihat shape\n",
        "df.drop_duplicates()\n",
        "print(df.shape) #recheck shape"
      ],
      "metadata": {
        "tags": [],
        "cell_id": "3c4c16352ee34cb680595ddb6f3d98aa",
        "source_hash": "7c7485b0",
        "execution_start": 1668759453910,
        "execution_millis": 89,
        "deepnote_to_be_reexecuted": false,
        "deepnote_cell_type": "code",
        "colab": {
          "base_uri": "https://localhost:8080/"
        },
        "id": "p0O_gw7F7zll",
        "outputId": "49fbb9c4-3d1c-4e32-854e-b9b75e23f602"
      },
      "outputs": [
        {
          "output_type": "stream",
          "name": "stdout",
          "text": [
            "(1413, 10)\n",
            "(1413, 10)\n"
          ]
        }
      ],
      "execution_count": null
    },
    {
      "cell_type": "markdown",
      "source": [
        "Interpretasi:\n",
        "Tidak terdapat data yang memiliki duplikat karena setelah drop duplikat, shape dari data tidak berubah."
      ],
      "metadata": {
        "tags": [],
        "cell_id": "bed6025fbd494bbb893db50430d9ea40",
        "deepnote_cell_type": "markdown",
        "id": "5nvN2Vhq7zll"
      }
    },
    {
      "cell_type": "code",
      "source": [
        "### Memeriksa distribusi data\n",
        "numerical = df.select_dtypes(include = ['int64','float64']).columns\n",
        "\n",
        "df[numerical].hist(figsize=(15, 15));"
      ],
      "metadata": {
        "tags": [],
        "cell_id": "9dd521069f7b49fba6b7476d2c35c34a",
        "source_hash": "d1f4265e",
        "execution_start": 1668759453998,
        "execution_millis": 4214,
        "deepnote_to_be_reexecuted": false,
        "deepnote_cell_type": "code",
        "colab": {
          "base_uri": "https://localhost:8080/",
          "height": 882
        },
        "id": "4klpiwnJ7zll",
        "outputId": "e88054f7-e8a4-416e-bfc3-103d6bd05390"
      },
      "outputs": [
        {
          "output_type": "display_data",
          "data": {
            "text/plain": [
              "<Figure size 1080x1080 with 9 Axes>"
            ],
            "image/png": "[encoded data removed]"
          },
          "metadata": {}
        }
      ],
      "execution_count": null
    },
    {
      "cell_type": "code",
      "source": [
        "#Outliers\n",
        "plt.figure(figsize=(10,6))\n",
        "sns.boxplot(x=\"primary_use\",y=\"meter_reading\",data=df)\n",
        "plt.xticks(rotation='vertical')\n",
        "plt.show()"
      ],
      "metadata": {
        "tags": [],
        "cell_id": "d6198927bc174ff683cf10589a13c667",
        "source_hash": "27726279",
        "execution_start": 1668759457967,
        "execution_millis": 1140,
        "deepnote_to_be_reexecuted": false,
        "deepnote_cell_type": "code",
        "colab": {
          "base_uri": "https://localhost:8080/",
          "height": 557
        },
        "id": "dxrCemyW7zlm",
        "outputId": "5e7e0788-179f-4a62-fab3-b29f7b762101"
      },
      "outputs": [
        {
          "output_type": "display_data",
          "data": {
            "text/plain": [
              "<Figure size 720x432 with 1 Axes>"
            ],
            "image/png": "[encoded data removed]"
          },
          "metadata": {}
        }
      ],
      "execution_count": null
    },
    {
      "cell_type": "markdown",
      "source": [
        "Interpretasi:"
      ],
      "metadata": {
        "tags": [],
        "cell_id": "7d1a14e6740841a6b15b1feba41cb3d3",
        "is_collapsed": false,
        "formattedRanges": [],
        "deepnote_cell_type": "text-cell-p",
        "id": "8rrKM8Wc7zlm"
      }
    },
    {
      "cell_type": "markdown",
      "source": [
        "Terdapat outlier variabel meter_reading (konsumsi energi) berdasarkan primary_use (kegunaan utama) hampir di semua jenis kegunaan, kecuali pada kegunaan bangunan untuk manufacturing/industrial, parking, religious worship, services, dan technology/science. Outlier terbanyak terdapat pada kategori education (pendidikan)."
      ],
      "metadata": {
        "tags": [],
        "cell_id": "a8190ac5-00e1-4bdb-b6a3-5de600d0f4ae",
        "is_collapsed": false,
        "formattedRanges": [
          {
            "type": "marks",
            "marks": {
              "italic": true
            },
            "toCodePoint": 16,
            "fromCodePoint": 9
          }
        ],
        "deepnote_cell_type": "text-cell-p",
        "id": "KHcSfYjb7zlm"
      }
    },
    {
      "cell_type": "code",
      "source": [
        "# Menggantikan nilai kosong dengan median dari variabel tersebut\n",
        "df.fillna(df.median(), inplace= True)"
      ],
      "metadata": {
        "tags": [],
        "cell_id": "2ea361ac44294f96a489de860d96a998",
        "source_hash": "40792656",
        "execution_start": 1668759459117,
        "execution_millis": 19,
        "deepnote_to_be_reexecuted": false,
        "deepnote_cell_type": "code",
        "id": "U8_Jxnyt7zln"
      },
      "outputs": [],
      "execution_count": null
    },
    {
      "cell_type": "markdown",
      "source": [
        "#### Note :\n",
        "- Pada variabel `Primary_Use` awalnya merupakan objek dan diubah menjadi kategorik\n",
        "- Pada variabel `floor_count` ditemukan banyak sekali missing value sehingga akan di drop kolomnya. Kami mendrop kolomnya karena setelah diperiksa nilai unik variabelnya tidak ada keanehan dan terdapat jumlah lantai yang nilainya bervariasi dari 1 hingga 26\n",
        "- Pada variabel `year_built` ditemukan banyak missing value sehingga akan di drop kolomnya juga.\n",
        "- Pada variabel `cloud_coverage`, `precip_depth_1_hr`, `sea_level_pressure` ditemukan beberapa missing value, setelah memeriksa distribusinya kami memutuskan untuk mengimputasi missing valuenya dengan median.\n",
        "- Diperiksa juga apakah ada data yang duplikat dan ditemukan tidak adanya data duplikat\n",
        "- Diperiksa juga outlier variabel `meter_reading` berdasarkan `primary_use` dengan outlier terbanyak ada pada kategori education (pendidikan).\n"
      ],
      "metadata": {
        "tags": [],
        "cell_id": "27c44c4b7b0b4a228857f6e123bcaaee",
        "deepnote_cell_type": "markdown",
        "id": "f_-BRJZZ7zln"
      }
    },
    {
      "cell_type": "markdown",
      "source": [
        "## EDA -Visualisasi"
      ],
      "metadata": {
        "tags": [],
        "cell_id": "0ab1f8f563ab4237b2daf856837a291b",
        "deepnote_cell_type": "markdown",
        "id": "nwn88qN77zln"
      }
    },
    {
      "cell_type": "code",
      "source": [
        "plt.figure(figsize=(10,6))\n",
        "sns.barplot(x='primary_use',y='meter_reading',data=df)\n",
        "plt.xticks(rotation='vertical')\n",
        "plt.show()"
      ],
      "metadata": {
        "tags": [],
        "cell_id": "7931af9311014e56b23875b16c13e41e",
        "source_hash": "33278a33",
        "execution_start": 1668759459139,
        "execution_millis": 2582,
        "deepnote_to_be_reexecuted": false,
        "deepnote_cell_type": "code",
        "colab": {
          "base_uri": "https://localhost:8080/",
          "height": 557
        },
        "id": "elJCCSpT7zln",
        "outputId": "5c19bcb1-c832-409e-9604-13f8ffad4f01"
      },
      "outputs": [
        {
          "output_type": "display_data",
          "data": {
            "text/plain": [
              "<Figure size 720x432 with 1 Axes>"
            ],
            "image/png": "[encoded data removed]"
          },
          "metadata": {}
        }
      ],
      "execution_count": null
    },
    {
      "cell_type": "markdown",
      "source": [
        "Interpretasi:"
      ],
      "metadata": {
        "tags": [],
        "cell_id": "e194734703a748ac942b8d2e2e36ec45",
        "is_collapsed": false,
        "formattedRanges": [],
        "deepnote_cell_type": "text-cell-p",
        "id": "BEZ8X8OR7zlo"
      }
    },
    {
      "cell_type": "markdown",
      "source": [
        "Bangunan yang memiliki konsumsi energi paling banyak adalah bangunan yang memiliki kegunaan utama untuk kesehatan, disusul oleh bangunan yang memiliki kegunaan utama untuk pendidikan, dan bangunan yang memiliki kegunaan utama untuk retail."
      ],
      "metadata": {
        "tags": [],
        "cell_id": "7d1c63cf-6a4d-47cd-8417-15da083e0d6a",
        "is_collapsed": false,
        "formattedRanges": [],
        "deepnote_cell_type": "text-cell-p",
        "id": "PYSlCR4r7zlo"
      }
    },
    {
      "cell_type": "code",
      "source": [
        "plt.figure(figsize=(10,6))\n",
        "ax=sns.countplot(x='primary_use',data=df)\n",
        "plt.xticks(rotation='vertical')\n",
        "plt.show()"
      ],
      "metadata": {
        "tags": [],
        "cell_id": "b097b4d69f5342e1b9cc629f1cd5d643",
        "source_hash": "a6a83918",
        "execution_start": 1668759460638,
        "execution_millis": 1212,
        "deepnote_to_be_reexecuted": false,
        "deepnote_cell_type": "code",
        "colab": {
          "base_uri": "https://localhost:8080/",
          "height": 557
        },
        "id": "Nk4b5dte7zlo",
        "outputId": "dacb7b92-2baa-4b8c-f2c6-0a5fad9b66fa"
      },
      "outputs": [
        {
          "output_type": "display_data",
          "data": {
            "text/plain": [
              "<Figure size 720x432 with 1 Axes>"
            ],
            "image/png": "[encoded data removed]"
          },
          "metadata": {}
        }
      ],
      "execution_count": null
    },
    {
      "cell_type": "markdown",
      "source": [
        "Interpretasi:"
      ],
      "metadata": {
        "tags": [],
        "cell_id": "782bc118d4c0484ab7773854309669b4",
        "is_collapsed": false,
        "formattedRanges": [],
        "deepnote_cell_type": "text-cell-p",
        "id": "r7bfiuSE7zlo"
      }
    },
    {
      "cell_type": "markdown",
      "source": [
        "Bangunan paling banyak digunakan adalah bangunan yang bertujuan untuk aktivitas edukasi."
      ],
      "metadata": {
        "tags": [],
        "cell_id": "644bc81c-495b-4e6d-aea4-fe167fae2da6",
        "is_collapsed": false,
        "formattedRanges": [],
        "deepnote_cell_type": "text-cell-p",
        "id": "iBAshSXv7zlp"
      }
    },
    {
      "cell_type": "markdown",
      "source": [
        "### Memeriksa Korelasi Data"
      ],
      "metadata": {
        "tags": [],
        "cell_id": "882ba79240f54696a3dbfa2129252d93",
        "deepnote_cell_type": "markdown",
        "id": "5W9h79Cz7zlp"
      }
    },
    {
      "cell_type": "code",
      "source": [
        "# HeatMap untuk menyelidiki korelasi\n",
        "corr2 = df.corr()\n",
        "plt.figure()\n",
        "\n",
        "sns.heatmap(corr2[(corr2 >= 0.5) | (corr2 <= -0.4)], \n",
        "            cmap='viridis', vmax=1.0, vmin=-1.0, linewidths=0.1,\n",
        "            annot=True, annot_kws={\"size\": 8}, square=True);"
      ],
      "metadata": {
        "tags": [],
        "cell_id": "4f7aa15f696c4624ba54d726edc5d594",
        "source_hash": "aa1eefd9",
        "execution_start": 1668759461473,
        "execution_millis": 1208,
        "deepnote_to_be_reexecuted": false,
        "deepnote_cell_type": "code",
        "colab": {
          "base_uri": "https://localhost:8080/",
          "height": 367
        },
        "id": "2a-9_V5S7zlp",
        "outputId": "a82fea41-e852-4107-8a91-33b8683e901d"
      },
      "outputs": [
        {
          "output_type": "display_data",
          "data": {
            "text/plain": [
              "<Figure size 432x288 with 2 Axes>"
            ],
            "image/png": "[encoded data removed]"
          },
          "metadata": {}
        }
      ],
      "execution_count": null
    },
    {
      "cell_type": "markdown",
      "source": [
        "Interpretasi:"
      ],
      "metadata": {
        "tags": [],
        "cell_id": "2e038b11b1d54afd9ec621c73fad0e5c",
        "is_collapsed": false,
        "formattedRanges": [],
        "deepnote_cell_type": "text-cell-p",
        "id": "6JaN5RAp7zlp"
      }
    },
    {
      "cell_type": "markdown",
      "source": [
        "- Didapatkan nilai 0,58 menunjukkan bahwa ada korelasi linier positif yang cukup kuat antara meter_reading (konsumsi energi) dengan square_feet (luas bangunan). Ada kecenderungan bahwa meter_reading (konsumsi energi) tinggi berkaitan dengan square_feet (luas bangunan) yang lebih luas dibandingkan dengan square_feet (luas bangunan) yang lebih sempit."
      ],
      "metadata": {
        "tags": [],
        "cell_id": "0a655633-0b2d-4c7c-ab9b-7344aaf45111",
        "is_collapsed": false,
        "formattedRanges": [],
        "deepnote_cell_type": "text-cell-bullet",
        "id": "HMmsJbEq7zlp"
      }
    },
    {
      "cell_type": "markdown",
      "source": [
        "- Didapatkan nilai 0,57 menunjukkan bahwa ada korelasi linier positif yang cukup kuat antara air_temperature (suhu udara) dengan dew_temperature (suhu embun). Ada kecenderungan bahwa air_temperature (suhu udara) yang tinggi berkaitan dengan dew_temperature (suhu embun) yang tinggi dibandingkan dengan dew_temperature (suhu embun) yang rendah."
      ],
      "metadata": {
        "tags": [],
        "cell_id": "5e2cd019-507a-4d14-a17e-3faece61dbd0",
        "is_collapsed": false,
        "formattedRanges": [],
        "deepnote_cell_type": "text-cell-bullet",
        "id": "kFPST8b-7zlp"
      }
    },
    {
      "cell_type": "markdown",
      "source": [
        "- Didapatkan nilai -0,76 menunjukkan bahwa ada korelasi linier negatif yang kuat antara wind_direction (arah angin) dengan air_temperature (suhu udara). Ada kecenderungan bahwa wind_direction (arah angin) yang tinggi berkaitan dengan air_temperature (suhu udara) yang rendah dibandingkan dengan air_temperature (suhu udara) yang tinggi."
      ],
      "metadata": {
        "tags": [],
        "cell_id": "3950feb7-959e-43b8-b923-7a7f4bb90c22",
        "is_collapsed": false,
        "formattedRanges": [],
        "deepnote_cell_type": "text-cell-bullet",
        "id": "CgMh5nxe7zlq"
      }
    },
    {
      "cell_type": "markdown",
      "source": [
        "- Didapatkan nilai -0,6 menunjukkan bahwa ada korelasi linier negatif yang kuat antara wind_speed (kecepatan angin) dengan air_temperature (suhu udara). Ada kecenderungan bahwa wind_speed (kecepatan angin) yang tinggi berkaitan dengan air_temperature (suhu udara) yang rendah dibandingkan dengan air_temperature (suhu udara) yang tinggi."
      ],
      "metadata": {
        "tags": [],
        "cell_id": "daa2b471-c308-4b3f-94dc-5bc7151a2868",
        "is_collapsed": false,
        "formattedRanges": [],
        "deepnote_cell_type": "text-cell-bullet",
        "id": "m5MT87XW7zlq"
      }
    },
    {
      "cell_type": "markdown",
      "source": [
        "- Didapatkan nilai 0.84 menunjukkan bahwa ada korelasi linier positif yang sangat kuat antara wind_direction (arah angin) dengan wind_speed (kecepatan angin). Ada kecenderungan bahwa wind_direction (arah angin) yang tinggi berkaitan  dengan wind_speed (kecepatan angin) yang tinggi dibandingkan dengan wind_speed (kecepatan angin) yang rendah."
      ],
      "metadata": {
        "tags": [],
        "cell_id": "9793a9d5-cd6a-472f-936b-7361088a5d63",
        "is_collapsed": false,
        "formattedRanges": [],
        "deepnote_cell_type": "text-cell-bullet",
        "id": "bHfy_r2S7zlq"
      }
    },
    {
      "cell_type": "code",
      "source": [
        "df.describe().transpose()"
      ],
      "metadata": {
        "tags": [],
        "cell_id": "99c3e20b74ba4fca9a1055a758708683",
        "source_hash": "67e7e248",
        "execution_start": 1668759462709,
        "execution_millis": 137,
        "deepnote_to_be_reexecuted": false,
        "deepnote_cell_type": "code",
        "colab": {
          "base_uri": "https://localhost:8080/",
          "height": 332
        },
        "id": "HqjLeJ6p7zlq",
        "outputId": "f7ae6af2-05ee-41d8-e15a-9cf0347e45ed"
      },
      "outputs": [
        {
          "output_type": "execute_result",
          "data": {
            "text/plain": [
              "                     count          mean            std          min  \\\n",
              "meter_reading       1413.0    185.383188     374.899500     0.000400   \n",
              "square_feet         1413.0  92204.792640  111412.340117   283.000000   \n",
              "air_temperature     1413.0     15.697154       5.416736     7.572136   \n",
              "cloud_coverage      1413.0      2.165621       1.452846     0.059266   \n",
              "dew_temperature     1413.0      8.259831       4.625295    -0.304675   \n",
              "precip_depth_1_hr   1413.0      1.151504       1.386802     0.155325   \n",
              "sea_level_pressure  1413.0   1016.487808       1.862148  1011.436563   \n",
              "wind_direction      1413.0    175.351051      24.921236   123.388701   \n",
              "wind_speed          1413.0      3.564617       0.737746     2.157103   \n",
              "\n",
              "                             25%           50%            75%            max  \n",
              "meter_reading          27.224943     74.933148     182.884848    5072.323426  \n",
              "square_feet         22949.000000  57673.000000  115288.000000  875000.000000  \n",
              "air_temperature        11.058629     15.204244      21.325261      24.963702  \n",
              "cloud_coverage          0.665832      2.083712       2.998727       5.671785  \n",
              "dew_temperature         4.512823      8.285693       9.834399      17.379328  \n",
              "precip_depth_1_hr       0.775686      0.895980       1.033215      11.675633  \n",
              "sea_level_pressure   1016.404579   1016.797495    1017.949437    1018.052063  \n",
              "wind_direction        153.629430    184.295922     187.301104     207.134076  \n",
              "wind_speed              3.100911      3.619547       3.905433       5.493939  "
            ],
            "text/html": [
              "\n",
              "  <div id=\"df-bd7ec952-0ef1-4460-a903-0d180cbaf7b1\">\n",
              "    <div class=\"colab-df-container\">\n",
              "      <div>\n",
              "<style scoped>\n",
              "    .dataframe tbody tr th:only-of-type {\n",
              "        vertical-align: middle;\n",
              "    }\n",
              "\n",
              "    .dataframe tbody tr th {\n",
              "        vertical-align: top;\n",
              "    }\n",
              "\n",
              "    .dataframe thead th {\n",
              "        text-align: right;\n",
              "    }\n",
              "</style>\n",
              "<table border=\"1\" class=\"dataframe\">\n",
              "  <thead>\n",
              "    <tr style=\"text-align: right;\">\n",
              "      <th></th>\n",
              "      <th>count</th>\n",
              "      <th>mean</th>\n",
              "      <th>std</th>\n",
              "      <th>min</th>\n",
              "      <th>25%</th>\n",
              "      <th>50%</th>\n",
              "      <th>75%</th>\n",
              "      <th>max</th>\n",
              "    </tr>\n",
              "  </thead>\n",
              "  <tbody>\n",
              "    <tr>\n",
              "      <th>meter_reading</th>\n",
              "      <td>1413.0</td>\n",
              "      <td>185.383188</td>\n",
              "      <td>374.899500</td>\n",
              "      <td>0.000400</td>\n",
              "      <td>27.224943</td>\n",
              "      <td>74.933148</td>\n",
              "      <td>182.884848</td>\n",
              "      <td>5072.323426</td>\n",
              "    </tr>\n",
              "    <tr>\n",
              "      <th>square_feet</th>\n",
              "      <td>1413.0</td>\n",
              "      <td>92204.792640</td>\n",
              "      <td>111412.340117</td>\n",
              "      <td>283.000000</td>\n",
              "      <td>22949.000000</td>\n",
              "      <td>57673.000000</td>\n",
              "      <td>115288.000000</td>\n",
              "      <td>875000.000000</td>\n",
              "    </tr>\n",
              "    <tr>\n",
              "      <th>air_temperature</th>\n",
              "      <td>1413.0</td>\n",
              "      <td>15.697154</td>\n",
              "      <td>5.416736</td>\n",
              "      <td>7.572136</td>\n",
              "      <td>11.058629</td>\n",
              "      <td>15.204244</td>\n",
              "      <td>21.325261</td>\n",
              "      <td>24.963702</td>\n",
              "    </tr>\n",
              "    <tr>\n",
              "      <th>cloud_coverage</th>\n",
              "      <td>1413.0</td>\n",
              "      <td>2.165621</td>\n",
              "      <td>1.452846</td>\n",
              "      <td>0.059266</td>\n",
              "      <td>0.665832</td>\n",
              "      <td>2.083712</td>\n",
              "      <td>2.998727</td>\n",
              "      <td>5.671785</td>\n",
              "    </tr>\n",
              "    <tr>\n",
              "      <th>dew_temperature</th>\n",
              "      <td>1413.0</td>\n",
              "      <td>8.259831</td>\n",
              "      <td>4.625295</td>\n",
              "      <td>-0.304675</td>\n",
              "      <td>4.512823</td>\n",
              "      <td>8.285693</td>\n",
              "      <td>9.834399</td>\n",
              "      <td>17.379328</td>\n",
              "    </tr>\n",
              "    <tr>\n",
              "      <th>precip_depth_1_hr</th>\n",
              "      <td>1413.0</td>\n",
              "      <td>1.151504</td>\n",
              "      <td>1.386802</td>\n",
              "      <td>0.155325</td>\n",
              "      <td>0.775686</td>\n",
              "      <td>0.895980</td>\n",
              "      <td>1.033215</td>\n",
              "      <td>11.675633</td>\n",
              "    </tr>\n",
              "    <tr>\n",
              "      <th>sea_level_pressure</th>\n",
              "      <td>1413.0</td>\n",
              "      <td>1016.487808</td>\n",
              "      <td>1.862148</td>\n",
              "      <td>1011.436563</td>\n",
              "      <td>1016.404579</td>\n",
              "      <td>1016.797495</td>\n",
              "      <td>1017.949437</td>\n",
              "      <td>1018.052063</td>\n",
              "    </tr>\n",
              "    <tr>\n",
              "      <th>wind_direction</th>\n",
              "      <td>1413.0</td>\n",
              "      <td>175.351051</td>\n",
              "      <td>24.921236</td>\n",
              "      <td>123.388701</td>\n",
              "      <td>153.629430</td>\n",
              "      <td>184.295922</td>\n",
              "      <td>187.301104</td>\n",
              "      <td>207.134076</td>\n",
              "    </tr>\n",
              "    <tr>\n",
              "      <th>wind_speed</th>\n",
              "      <td>1413.0</td>\n",
              "      <td>3.564617</td>\n",
              "      <td>0.737746</td>\n",
              "      <td>2.157103</td>\n",
              "      <td>3.100911</td>\n",
              "      <td>3.619547</td>\n",
              "      <td>3.905433</td>\n",
              "      <td>5.493939</td>\n",
              "    </tr>\n",
              "  </tbody>\n",
              "</table>\n",
              "</div>\n",
              "      <button class=\"colab-df-convert\" onclick=\"convertToInteractive('df-bd7ec952-0ef1-4460-a903-0d180cbaf7b1')\"\n",
              "              title=\"Convert this dataframe to an interactive table.\"\n",
              "              style=\"display:none;\">\n",
              "        \n",
              "  <svg xmlns=\"http://www.w3.org/2000/svg\" height=\"24px\"viewBox=\"0 0 24 24\"\n",
              "       width=\"24px\">\n",
              "    <path d=\"M0 0h24v24H0V0z\" fill=\"none\"/>\n",
              "    <path d=\"M18.56 5.44l.94 2.06.94-2.06 2.06-.94-2.06-.94-.94-2.06-.94 2.06-2.06.94zm-11 1L8.5 8.5l.94-2.06 2.06-.94-2.06-.94L8.5 2.5l-.94 2.06-2.06.94zm10 10l.94 2.06.94-2.06 2.06-.94-2.06-.94-.94-2.06-.94 2.06-2.06.94z\"/><path d=\"M17.41 7.96l-1.37-1.37c-.4-.4-.92-.59-1.43-.59-.52 0-1.04.2-1.43.59L10.3 9.45l-7.72 7.72c-.78.78-.78 2.05 0 2.83L4 21.41c.39.39.9.59 1.41.59.51 0 1.02-.2 1.41-.59l7.78-7.78 2.81-2.81c.8-.78.8-2.07 0-2.86zM5.41 20L4 18.59l7.72-7.72 1.47 1.35L5.41 20z\"/>\n",
              "  </svg>\n",
              "      </button>\n",
              "      \n",
              "  <style>\n",
              "    .colab-df-container {\n",
              "      display:flex;\n",
              "      flex-wrap:wrap;\n",
              "      gap: 12px;\n",
              "    }\n",
              "\n",
              "    .colab-df-convert {\n",
              "      background-color: #E8F0FE;\n",
              "      border: none;\n",
              "      border-radius: 50%;\n",
              "      cursor: pointer;\n",
              "      display: none;\n",
              "      fill: #1967D2;\n",
              "      height: 32px;\n",
              "      padding: 0 0 0 0;\n",
              "      width: 32px;\n",
              "    }\n",
              "\n",
              "    .colab-df-convert:hover {\n",
              "      background-color: #E2EBFA;\n",
              "      box-shadow: 0px 1px 2px rgba(60, 64, 67, 0.3), 0px 1px 3px 1px rgba(60, 64, 67, 0.15);\n",
              "      fill: #174EA6;\n",
              "    }\n",
              "\n",
              "    [theme=dark] .colab-df-convert {\n",
              "      background-color: #3B4455;\n",
              "      fill: #D2E3FC;\n",
              "    }\n",
              "\n",
              "    [theme=dark] .colab-df-convert:hover {\n",
              "      background-color: #434B5C;\n",
              "      box-shadow: 0px 1px 3px 1px rgba(0, 0, 0, 0.15);\n",
              "      filter: drop-shadow(0px 1px 2px rgba(0, 0, 0, 0.3));\n",
              "      fill: #FFFFFF;\n",
              "    }\n",
              "  </style>\n",
              "\n",
              "      <script>\n",
              "        const buttonEl =\n",
              "          document.querySelector('#df-bd7ec952-0ef1-4460-a903-0d180cbaf7b1 button.colab-df-convert');\n",
              "        buttonEl.style.display =\n",
              "          google.colab.kernel.accessAllowed ? 'block' : 'none';\n",
              "\n",
              "        async function convertToInteractive(key) {\n",
              "          const element = document.querySelector('#df-bd7ec952-0ef1-4460-a903-0d180cbaf7b1');\n",
              "          const dataTable =\n",
              "            await google.colab.kernel.invokeFunction('convertToInteractive',\n",
              "                                                     [key], {});\n",
              "          if (!dataTable) return;\n",
              "\n",
              "          const docLinkHtml = 'Like what you see? Visit the ' +\n",
              "            '<a target=\"_blank\" href=https://colab.research.google.com/notebooks/data_table.ipynb>data table notebook</a>'\n",
              "            + ' to learn more about interactive tables.';\n",
              "          element.innerHTML = '';\n",
              "          dataTable['output_type'] = 'display_data';\n",
              "          await google.colab.output.renderOutput(dataTable, element);\n",
              "          const docLink = document.createElement('div');\n",
              "          docLink.innerHTML = docLinkHtml;\n",
              "          element.appendChild(docLink);\n",
              "        }\n",
              "      </script>\n",
              "    </div>\n",
              "  </div>\n",
              "  "
            ]
          },
          "metadata": {},
          "execution_count": 16
        }
      ],
      "execution_count": null
    },
    {
      "cell_type": "markdown",
      "source": [
        "## Modelling - Regression"
      ],
      "metadata": {
        "tags": [],
        "cell_id": "396ae1ee70c240f3b1c138c73e8a76ad",
        "deepnote_cell_type": "markdown",
        "id": "MR_TQHKX7zlr"
      }
    },
    {
      "cell_type": "code",
      "source": [
        "reg = ols('meter_reading ~ primary_use + square_feet + air_temperature', df).fit()\n",
        "print(reg.summary())"
      ],
      "metadata": {
        "tags": [],
        "cell_id": "4562627cca2045749dbf4e964fa82495",
        "source_hash": "dd4a0092",
        "execution_start": 1668759462971,
        "execution_millis": 133,
        "deepnote_to_be_reexecuted": false,
        "deepnote_cell_type": "code",
        "colab": {
          "base_uri": "https://localhost:8080/"
        },
        "id": "rpG3xsSx7zlr",
        "outputId": "50e36a1b-7b3a-4d0f-b678-66822b528885"
      },
      "outputs": [
        {
          "output_type": "stream",
          "name": "stdout",
          "text": [
            "                            OLS Regression Results                            \n",
            "==============================================================================\n",
            "Dep. Variable:          meter_reading   R-squared:                       0.387\n",
            "Model:                            OLS   Adj. R-squared:                  0.379\n",
            "Method:                 Least Squares   F-statistic:                     51.73\n",
            "Date:                Fri, 18 Nov 2022   Prob (F-statistic):          1.07e-134\n",
            "Time:                        08:51:44   Log-Likelihood:                -10033.\n",
            "No. Observations:                1413   AIC:                         2.010e+04\n",
            "Df Residuals:                    1395   BIC:                         2.020e+04\n",
            "Df Model:                          17                                         \n",
            "Covariance Type:            nonrobust                                         \n",
            "================================================================================================================\n",
            "                                                   coef    std err          t      P>|t|      [0.025      0.975]\n",
            "----------------------------------------------------------------------------------------------------------------\n",
            "Intercept                                       61.8728     27.586      2.243      0.025       7.757     115.988\n",
            "primary_use[T.Entertainment/public assembly]   -93.5944     25.614     -3.654      0.000    -143.841     -43.348\n",
            "primary_use[T.Food sales and service]          -33.1617    132.819     -0.250      0.803    -293.709     227.385\n",
            "primary_use[T.Healthcare]                      -27.2211     65.810     -0.414      0.679    -156.318     101.876\n",
            "primary_use[T.Lodging/residential]             -99.8002     27.691     -3.604      0.000    -154.120     -45.480\n",
            "primary_use[T.Manufacturing/industrial]        -58.9985     94.786     -0.622      0.534    -244.937     126.940\n",
            "primary_use[T.Office]                          -62.6270     22.165     -2.826      0.005    -106.107     -19.147\n",
            "primary_use[T.Other]                           -24.9098     60.786     -0.410      0.682    -144.153      94.333\n",
            "primary_use[T.Parking]                        -556.7836     65.595     -8.488      0.000    -685.460    -428.107\n",
            "primary_use[T.Public services]                 -85.3633     27.113     -3.148      0.002    -138.549     -32.177\n",
            "primary_use[T.Religious worship]               -68.7026    171.159     -0.401      0.688    -404.459     267.054\n",
            "primary_use[T.Retail]                           79.9188     90.218      0.886      0.376     -97.059     256.896\n",
            "primary_use[T.Services]                       -416.5679     99.663     -4.180      0.000    -612.073    -221.063\n",
            "primary_use[T.Technology/science]              -62.3974    121.458     -0.514      0.608    -300.658     175.863\n",
            "primary_use[T.Utility]                          45.8139    148.351      0.309      0.758    -245.201     336.829\n",
            "primary_use[T.Warehouse/storage]               -98.3130     86.332     -1.139      0.255    -267.668      71.042\n",
            "square_feet                                      0.0021   7.36e-05     28.189      0.000       0.002       0.002\n",
            "air_temperature                                 -0.7148      1.481     -0.483      0.630      -3.621       2.191\n",
            "==============================================================================\n",
            "Omnibus:                     1811.494   Durbin-Watson:                   1.618\n",
            "Prob(Omnibus):                  0.000   Jarque-Bera (JB):           382737.440\n",
            "Skew:                           6.709   Prob(JB):                         0.00\n",
            "Kurtosis:                      82.503   Cond. No.                     3.15e+06\n",
            "==============================================================================\n",
            "\n",
            "Notes:\n",
            "[1] Standard Errors assume that the covariance matrix of the errors is correctly specified.\n",
            "[2] The condition number is large, 3.15e+06. This might indicate that there are\n",
            "strong multicollinearity or other numerical problems.\n"
          ]
        }
      ],
      "execution_count": null
    },
    {
      "cell_type": "code",
      "source": [
        "#forward selection\n",
        "def forward_selected(data, response):\n",
        "    \"\"\"Linear model designed by forward selection.\n",
        "    https://planspace.org/20150423-forward_selection_with_statsmodels/\n",
        "    Parameters:\n",
        "    -----------\n",
        "    data : pandas DataFrame with all possible predictors and response\n",
        "\n",
        "    response: string, name of response column in data\n",
        "\n",
        "    Returns:\n",
        "    --------\n",
        "    model: an \"optimal\" fitted statsmodels linear model\n",
        "           with an intercept\n",
        "           selected by forward selection\n",
        "           evaluated by adjusted R-squared\n",
        "    \"\"\"\n",
        "    remaining = set(data.columns)\n",
        "    remaining.remove(response)\n",
        "    selected = []\n",
        "    current_score, best_new_score = 0.0, 0.0\n",
        "    while remaining and current_score == best_new_score:\n",
        "        scores_with_candidates = []\n",
        "        for candidate in remaining:\n",
        "            formula = \"{} ~ {} + 1\".format(response,\n",
        "                                           ' + '.join(selected + [candidate]))\n",
        "            score = smf.ols(formula, data).fit().rsquared_adj\n",
        "            scores_with_candidates.append((score, candidate))\n",
        "        scores_with_candidates.sort()\n",
        "        best_new_score, best_candidate = scores_with_candidates.pop()\n",
        "        if current_score < best_new_score:\n",
        "            remaining.remove(best_candidate)\n",
        "            selected.append(best_candidate)\n",
        "            current_score = best_new_score\n",
        "    formula = \"{} ~ {} + 1\".format(response, ' + '.join(selected))\n",
        "    model = smf.ols(formula, data).fit()\n",
        "    return model"
      ],
      "metadata": {
        "tags": [],
        "cell_id": "37d85a6cf75149eab7204fba20cf6141",
        "source_hash": "3fd230f9",
        "execution_start": 1668759463132,
        "execution_millis": 38,
        "deepnote_to_be_reexecuted": false,
        "deepnote_cell_type": "code",
        "id": "HDoaY-O17zlr"
      },
      "outputs": [],
      "execution_count": null
    },
    {
      "cell_type": "code",
      "source": [
        "#memilih variable menggunakan forward selection (tanpa scaling)\n",
        "model = forward_selected(df, 'meter_reading')\n",
        "\n",
        "print(model.model.formula)\n",
        "print(model.rsquared_adj)"
      ],
      "metadata": {
        "tags": [],
        "cell_id": "a5629d58f48d4304b738ac896fcecc55",
        "source_hash": "d993fdf9",
        "execution_start": 1668759463228,
        "execution_millis": 4424,
        "deepnote_to_be_reexecuted": false,
        "deepnote_cell_type": "code",
        "colab": {
          "base_uri": "https://localhost:8080/"
        },
        "id": "V0GVxGan7zlr",
        "outputId": "1c2bf6c0-6fa4-4c2e-c2f5-c5b2289676c8"
      },
      "outputs": [
        {
          "output_type": "stream",
          "name": "stdout",
          "text": [
            "meter_reading ~ square_feet + precip_depth_1_hr + primary_use + air_temperature + wind_direction + cloud_coverage + dew_temperature + wind_speed + 1\n",
            "0.48611497260007974\n"
          ]
        }
      ],
      "execution_count": null
    },
    {
      "cell_type": "code",
      "source": [
        "#model regresi berdasarkan forward selection tanpa scaling\n",
        "reg2 = ols('meter_reading ~ square_feet + precip_depth_1_hr + primary_use + air_temperature + wind_speed + dew_temperature + sea_level_pressure', df).fit()\n",
        "print(reg2.summary())"
      ],
      "metadata": {
        "tags": [],
        "cell_id": "5cc9386781cb489986c3ead2bc7414f0",
        "source_hash": "c4e97416",
        "execution_start": 1668759467663,
        "execution_millis": 507,
        "deepnote_to_be_reexecuted": false,
        "deepnote_cell_type": "code",
        "colab": {
          "base_uri": "https://localhost:8080/"
        },
        "id": "EPJrrCic7zls",
        "outputId": "62a212b4-2d81-4dbf-8628-1af00b06d5bc"
      },
      "outputs": [
        {
          "output_type": "stream",
          "name": "stdout",
          "text": [
            "                            OLS Regression Results                            \n",
            "==============================================================================\n",
            "Dep. Variable:          meter_reading   R-squared:                       0.490\n",
            "Model:                            OLS   Adj. R-squared:                  0.483\n",
            "Method:                 Least Squares   F-statistic:                     63.71\n",
            "Date:                Fri, 18 Nov 2022   Prob (F-statistic):          3.15e-186\n",
            "Time:                        08:51:44   Log-Likelihood:                -9902.7\n",
            "No. Observations:                1413   AIC:                         1.985e+04\n",
            "Df Residuals:                    1391   BIC:                         1.997e+04\n",
            "Df Model:                          21                                         \n",
            "Covariance Type:            nonrobust                                         \n",
            "================================================================================================================\n",
            "                                                   coef    std err          t      P>|t|      [0.025      0.975]\n",
            "----------------------------------------------------------------------------------------------------------------\n",
            "Intercept                                    -9883.3741   7657.392     -1.291      0.197   -2.49e+04    5137.909\n",
            "primary_use[T.Entertainment/public assembly]   -90.8178     23.554     -3.856      0.000    -137.023     -44.613\n",
            "primary_use[T.Food sales and service]           24.8490    121.569      0.204      0.838    -213.630     263.328\n",
            "primary_use[T.Healthcare]                       34.4335     60.344      0.571      0.568     -83.941     152.808\n",
            "primary_use[T.Lodging/residential]            -105.8243     25.547     -4.142      0.000    -155.939     -55.709\n",
            "primary_use[T.Manufacturing/industrial]        -25.9127     86.576     -0.299      0.765    -195.746     143.921\n",
            "primary_use[T.Office]                          -26.1827     20.377     -1.285      0.199     -66.156      13.790\n",
            "primary_use[T.Other]                           -52.0460     55.914     -0.931      0.352    -161.731      57.639\n",
            "primary_use[T.Parking]                        -518.6467     60.195     -8.616      0.000    -636.730    -400.563\n",
            "primary_use[T.Public services]                 -93.5875     26.098     -3.586      0.000    -144.783     -42.392\n",
            "primary_use[T.Religious worship]              -108.0192    156.454     -0.690      0.490    -414.930     198.892\n",
            "primary_use[T.Retail]                           37.4754     82.914      0.452      0.651    -125.174     200.125\n",
            "primary_use[T.Services]                       -332.7312     91.380     -3.641      0.000    -511.990    -153.473\n",
            "primary_use[T.Technology/science]               -8.3100    110.967     -0.075      0.940    -225.991     209.371\n",
            "primary_use[T.Utility]                           4.0249    135.554      0.030      0.976    -261.887     269.937\n",
            "primary_use[T.Warehouse/storage]               -86.1254     79.122     -1.089      0.277    -241.338      69.087\n",
            "square_feet                                      0.0019   6.88e-05     28.298      0.000       0.002       0.002\n",
            "precip_depth_1_hr                               97.4059      5.902     16.503      0.000      85.828     108.984\n",
            "air_temperature                                 14.5051      3.426      4.234      0.000       7.784      21.226\n",
            "wind_speed                                      47.7456     13.843      3.449      0.001      20.590      74.901\n",
            "dew_temperature                                 -1.9737      3.471     -0.569      0.570      -8.783       4.835\n",
            "sea_level_pressure                               9.2912      7.504      1.238      0.216      -5.428      24.011\n",
            "==============================================================================\n",
            "Omnibus:                     1493.241   Durbin-Watson:                   1.889\n",
            "Prob(Omnibus):                  0.000   Jarque-Bera (JB):           171913.545\n",
            "Skew:                           4.890   Prob(JB):                         0.00\n",
            "Kurtosis:                      56.145   Cond. No.                     1.54e+08\n",
            "==============================================================================\n",
            "\n",
            "Notes:\n",
            "[1] Standard Errors assume that the covariance matrix of the errors is correctly specified.\n",
            "[2] The condition number is large, 1.54e+08. This might indicate that there are\n",
            "strong multicollinearity or other numerical problems.\n"
          ]
        }
      ],
      "execution_count": null
    },
    {
      "cell_type": "code",
      "source": [
        "#Scaling data\n",
        "from sklearn.preprocessing import MinMaxScaler\n",
        "scaler = MinMaxScaler()\n",
        "\n",
        "df3=df.copy()\n",
        "df3[['square_feet','precip_depth_1_hr','air_temperature','wind_speed','dew_temperature','sea_level_pressure','cloud_coverage','wind_direction']] = scaler.fit_transform(df[['square_feet','precip_depth_1_hr','air_temperature','wind_speed','dew_temperature','sea_level_pressure','cloud_coverage','wind_direction']])\n",
        "df3.head()"
      ],
      "metadata": {
        "tags": [],
        "cell_id": "cd93276a0b4b4256a2f39f49809de79b",
        "source_hash": "99c9a4f4",
        "execution_start": 1668759467980,
        "execution_millis": 195,
        "deepnote_to_be_reexecuted": false,
        "deepnote_cell_type": "code",
        "colab": {
          "base_uri": "https://localhost:8080/",
          "height": 206
        },
        "id": "KzfC9E337zls",
        "outputId": "b2792bca-3344-40f7-dbfe-b2f709141e36"
      },
      "outputs": [
        {
          "output_type": "execute_result",
          "data": {
            "text/plain": [
              "   meter_reading primary_use  square_feet  air_temperature  cloud_coverage  \\\n",
              "0     237.749127   Education     0.008173         0.872416        0.523733   \n",
              "1     118.553743   Education     0.002786         0.872416        0.523733   \n",
              "2      23.626500   Education     0.005822         0.872416        0.523733   \n",
              "3     382.736016   Education     0.026754         0.872416        0.523733   \n",
              "4    1579.174237   Education     0.132985         0.872416        0.523733   \n",
              "\n",
              "   dew_temperature  precip_depth_1_hr  sea_level_pressure  wind_direction  \\\n",
              "0              1.0           0.094204            0.984487        0.347868   \n",
              "1              1.0           0.094204            0.984487        0.347868   \n",
              "2              1.0           0.094204            0.984487        0.347868   \n",
              "3              1.0           0.094204            0.984487        0.347868   \n",
              "4              1.0           0.094204            0.984487        0.347868   \n",
              "\n",
              "   wind_speed  \n",
              "0    0.369922  \n",
              "1    0.369922  \n",
              "2    0.369922  \n",
              "3    0.369922  \n",
              "4    0.369922  "
            ],
            "text/html": [
              "\n",
              "  <div id=\"df-e10208da-29b1-413b-9aa5-a0d898b38e15\">\n",
              "    <div class=\"colab-df-container\">\n",
              "      <div>\n",
              "<style scoped>\n",
              "    .dataframe tbody tr th:only-of-type {\n",
              "        vertical-align: middle;\n",
              "    }\n",
              "\n",
              "    .dataframe tbody tr th {\n",
              "        vertical-align: top;\n",
              "    }\n",
              "\n",
              "    .dataframe thead th {\n",
              "        text-align: right;\n",
              "    }\n",
              "</style>\n",
              "<table border=\"1\" class=\"dataframe\">\n",
              "  <thead>\n",
              "    <tr style=\"text-align: right;\">\n",
              "      <th></th>\n",
              "      <th>meter_reading</th>\n",
              "      <th>primary_use</th>\n",
              "      <th>square_feet</th>\n",
              "      <th>air_temperature</th>\n",
              "      <th>cloud_coverage</th>\n",
              "      <th>dew_temperature</th>\n",
              "      <th>precip_depth_1_hr</th>\n",
              "      <th>sea_level_pressure</th>\n",
              "      <th>wind_direction</th>\n",
              "      <th>wind_speed</th>\n",
              "    </tr>\n",
              "  </thead>\n",
              "  <tbody>\n",
              "    <tr>\n",
              "      <th>0</th>\n",
              "      <td>237.749127</td>\n",
              "      <td>Education</td>\n",
              "      <td>0.008173</td>\n",
              "      <td>0.872416</td>\n",
              "      <td>0.523733</td>\n",
              "      <td>1.0</td>\n",
              "      <td>0.094204</td>\n",
              "      <td>0.984487</td>\n",
              "      <td>0.347868</td>\n",
              "      <td>0.369922</td>\n",
              "    </tr>\n",
              "    <tr>\n",
              "      <th>1</th>\n",
              "      <td>118.553743</td>\n",
              "      <td>Education</td>\n",
              "      <td>0.002786</td>\n",
              "      <td>0.872416</td>\n",
              "      <td>0.523733</td>\n",
              "      <td>1.0</td>\n",
              "      <td>0.094204</td>\n",
              "      <td>0.984487</td>\n",
              "      <td>0.347868</td>\n",
              "      <td>0.369922</td>\n",
              "    </tr>\n",
              "    <tr>\n",
              "      <th>2</th>\n",
              "      <td>23.626500</td>\n",
              "      <td>Education</td>\n",
              "      <td>0.005822</td>\n",
              "      <td>0.872416</td>\n",
              "      <td>0.523733</td>\n",
              "      <td>1.0</td>\n",
              "      <td>0.094204</td>\n",
              "      <td>0.984487</td>\n",
              "      <td>0.347868</td>\n",
              "      <td>0.369922</td>\n",
              "    </tr>\n",
              "    <tr>\n",
              "      <th>3</th>\n",
              "      <td>382.736016</td>\n",
              "      <td>Education</td>\n",
              "      <td>0.026754</td>\n",
              "      <td>0.872416</td>\n",
              "      <td>0.523733</td>\n",
              "      <td>1.0</td>\n",
              "      <td>0.094204</td>\n",
              "      <td>0.984487</td>\n",
              "      <td>0.347868</td>\n",
              "      <td>0.369922</td>\n",
              "    </tr>\n",
              "    <tr>\n",
              "      <th>4</th>\n",
              "      <td>1579.174237</td>\n",
              "      <td>Education</td>\n",
              "      <td>0.132985</td>\n",
              "      <td>0.872416</td>\n",
              "      <td>0.523733</td>\n",
              "      <td>1.0</td>\n",
              "      <td>0.094204</td>\n",
              "      <td>0.984487</td>\n",
              "      <td>0.347868</td>\n",
              "      <td>0.369922</td>\n",
              "    </tr>\n",
              "  </tbody>\n",
              "</table>\n",
              "</div>\n",
              "      <button class=\"colab-df-convert\" onclick=\"convertToInteractive('df-e10208da-29b1-413b-9aa5-a0d898b38e15')\"\n",
              "              title=\"Convert this dataframe to an interactive table.\"\n",
              "              style=\"display:none;\">\n",
              "        \n",
              "  <svg xmlns=\"http://www.w3.org/2000/svg\" height=\"24px\"viewBox=\"0 0 24 24\"\n",
              "       width=\"24px\">\n",
              "    <path d=\"M0 0h24v24H0V0z\" fill=\"none\"/>\n",
              "    <path d=\"M18.56 5.44l.94 2.06.94-2.06 2.06-.94-2.06-.94-.94-2.06-.94 2.06-2.06.94zm-11 1L8.5 8.5l.94-2.06 2.06-.94-2.06-.94L8.5 2.5l-.94 2.06-2.06.94zm10 10l.94 2.06.94-2.06 2.06-.94-2.06-.94-.94-2.06-.94 2.06-2.06.94z\"/><path d=\"M17.41 7.96l-1.37-1.37c-.4-.4-.92-.59-1.43-.59-.52 0-1.04.2-1.43.59L10.3 9.45l-7.72 7.72c-.78.78-.78 2.05 0 2.83L4 21.41c.39.39.9.59 1.41.59.51 0 1.02-.2 1.41-.59l7.78-7.78 2.81-2.81c.8-.78.8-2.07 0-2.86zM5.41 20L4 18.59l7.72-7.72 1.47 1.35L5.41 20z\"/>\n",
              "  </svg>\n",
              "      </button>\n",
              "      \n",
              "  <style>\n",
              "    .colab-df-container {\n",
              "      display:flex;\n",
              "      flex-wrap:wrap;\n",
              "      gap: 12px;\n",
              "    }\n",
              "\n",
              "    .colab-df-convert {\n",
              "      background-color: #E8F0FE;\n",
              "      border: none;\n",
              "      border-radius: 50%;\n",
              "      cursor: pointer;\n",
              "      display: none;\n",
              "      fill: #1967D2;\n",
              "      height: 32px;\n",
              "      padding: 0 0 0 0;\n",
              "      width: 32px;\n",
              "    }\n",
              "\n",
              "    .colab-df-convert:hover {\n",
              "      background-color: #E2EBFA;\n",
              "      box-shadow: 0px 1px 2px rgba(60, 64, 67, 0.3), 0px 1px 3px 1px rgba(60, 64, 67, 0.15);\n",
              "      fill: #174EA6;\n",
              "    }\n",
              "\n",
              "    [theme=dark] .colab-df-convert {\n",
              "      background-color: #3B4455;\n",
              "      fill: #D2E3FC;\n",
              "    }\n",
              "\n",
              "    [theme=dark] .colab-df-convert:hover {\n",
              "      background-color: #434B5C;\n",
              "      box-shadow: 0px 1px 3px 1px rgba(0, 0, 0, 0.15);\n",
              "      filter: drop-shadow(0px 1px 2px rgba(0, 0, 0, 0.3));\n",
              "      fill: #FFFFFF;\n",
              "    }\n",
              "  </style>\n",
              "\n",
              "      <script>\n",
              "        const buttonEl =\n",
              "          document.querySelector('#df-e10208da-29b1-413b-9aa5-a0d898b38e15 button.colab-df-convert');\n",
              "        buttonEl.style.display =\n",
              "          google.colab.kernel.accessAllowed ? 'block' : 'none';\n",
              "\n",
              "        async function convertToInteractive(key) {\n",
              "          const element = document.querySelector('#df-e10208da-29b1-413b-9aa5-a0d898b38e15');\n",
              "          const dataTable =\n",
              "            await google.colab.kernel.invokeFunction('convertToInteractive',\n",
              "                                                     [key], {});\n",
              "          if (!dataTable) return;\n",
              "\n",
              "          const docLinkHtml = 'Like what you see? Visit the ' +\n",
              "            '<a target=\"_blank\" href=https://colab.research.google.com/notebooks/data_table.ipynb>data table notebook</a>'\n",
              "            + ' to learn more about interactive tables.';\n",
              "          element.innerHTML = '';\n",
              "          dataTable['output_type'] = 'display_data';\n",
              "          await google.colab.output.renderOutput(dataTable, element);\n",
              "          const docLink = document.createElement('div');\n",
              "          docLink.innerHTML = docLinkHtml;\n",
              "          element.appendChild(docLink);\n",
              "        }\n",
              "      </script>\n",
              "    </div>\n",
              "  </div>\n",
              "  "
            ]
          },
          "metadata": {},
          "execution_count": 21
        }
      ],
      "execution_count": null
    },
    {
      "cell_type": "code",
      "source": [
        "model1 = forward_selected(df3, 'meter_reading')\n",
        "res = ols(formula='meter_reading ~ square_feet + C(primary_use) + precip_depth_1_hr + air_temperature + wind_direction + sea_level_pressure', data=df).fit()\n",
        "print(res.params)\n",
        "print(res.summary())\n",
        "print(model1.model.formula)\n",
        "print(model1.rsquared_adj)"
      ],
      "metadata": {
        "tags": [],
        "cell_id": "ba3cbababf1546dca44359e2d9547ae6",
        "source_hash": "643e6464",
        "execution_start": 1668759563209,
        "execution_millis": 4705,
        "deepnote_to_be_reexecuted": false,
        "deepnote_cell_type": "code",
        "colab": {
          "base_uri": "https://localhost:8080/"
        },
        "id": "4mItUD_q7zls",
        "outputId": "57ed536e-4885-431c-d150-a8bc462d453d"
      },
      "outputs": [
        {
          "output_type": "stream",
          "name": "stdout",
          "text": [
            "Intercept                                         -9454.549302\n",
            "C(primary_use)[T.Entertainment/public assembly]     -86.818734\n",
            "C(primary_use)[T.Food sales and service]             19.867383\n",
            "C(primary_use)[T.Healthcare]                         25.714355\n",
            "C(primary_use)[T.Lodging/residential]               -99.008211\n",
            "C(primary_use)[T.Manufacturing/industrial]           -6.835465\n",
            "C(primary_use)[T.Office]                            -17.737791\n",
            "C(primary_use)[T.Other]                             -42.235958\n",
            "C(primary_use)[T.Parking]                          -513.172801\n",
            "C(primary_use)[T.Public services]                   -90.580734\n",
            "C(primary_use)[T.Religious worship]                -102.954413\n",
            "C(primary_use)[T.Retail]                             56.543394\n",
            "C(primary_use)[T.Services]                         -311.832930\n",
            "C(primary_use)[T.Technology/science]                -12.383264\n",
            "C(primary_use)[T.Utility]                            -2.768447\n",
            "C(primary_use)[T.Warehouse/storage]                 -75.422638\n",
            "square_feet                                           0.001955\n",
            "precip_depth_1_hr                                    95.083803\n",
            "air_temperature                                      16.230165\n",
            "wind_direction                                        1.969195\n",
            "sea_level_pressure                                    8.652700\n",
            "dtype: float64\n",
            "                            OLS Regression Results                            \n",
            "==============================================================================\n",
            "Dep. Variable:          meter_reading   R-squared:                       0.492\n",
            "Model:                            OLS   Adj. R-squared:                  0.485\n",
            "Method:                 Least Squares   F-statistic:                     67.45\n",
            "Date:                Fri, 18 Nov 2022   Prob (F-statistic):          2.93e-188\n",
            "Time:                        08:51:45   Log-Likelihood:                -9900.1\n",
            "No. Observations:                1413   AIC:                         1.984e+04\n",
            "Df Residuals:                    1392   BIC:                         1.995e+04\n",
            "Df Model:                          20                                         \n",
            "Covariance Type:            nonrobust                                         \n",
            "===================================================================================================================\n",
            "                                                      coef    std err          t      P>|t|      [0.025      0.975]\n",
            "-------------------------------------------------------------------------------------------------------------------\n",
            "Intercept                                       -9454.5493   4395.911     -2.151      0.032   -1.81e+04    -831.225\n",
            "C(primary_use)[T.Entertainment/public assembly]   -86.8187     23.429     -3.706      0.000    -132.779     -40.858\n",
            "C(primary_use)[T.Food sales and service]           19.8674    121.207      0.164      0.870    -217.901     257.636\n",
            "C(primary_use)[T.Healthcare]                       25.7144     60.072      0.428      0.669     -92.126     143.555\n",
            "C(primary_use)[T.Lodging/residential]             -99.0082     25.651     -3.860      0.000    -149.327     -48.690\n",
            "C(primary_use)[T.Manufacturing/industrial]         -6.8355     86.453     -0.079      0.937    -176.427     162.756\n",
            "C(primary_use)[T.Office]                          -17.7378     20.516     -0.865      0.387     -57.984      22.509\n",
            "C(primary_use)[T.Other]                           -42.2360     55.704     -0.758      0.448    -151.509      67.037\n",
            "C(primary_use)[T.Parking]                        -513.1728     59.956     -8.559      0.000    -630.787    -395.559\n",
            "C(primary_use)[T.Public services]                 -90.5807     25.414     -3.564      0.000    -140.434     -40.727\n",
            "C(primary_use)[T.Religious worship]              -102.9544    155.964     -0.660      0.509    -408.904     202.995\n",
            "C(primary_use)[T.Retail]                           56.5434     82.218      0.688      0.492    -104.741     217.828\n",
            "C(primary_use)[T.Services]                       -311.8329     91.505     -3.408      0.001    -491.336    -132.330\n",
            "C(primary_use)[T.Technology/science]              -12.3833    110.707     -0.112      0.911    -229.553     204.787\n",
            "C(primary_use)[T.Utility]                          -2.7684    135.224     -0.020      0.984    -268.033     262.496\n",
            "C(primary_use)[T.Warehouse/storage]               -75.4226     78.674     -0.959      0.338    -229.756      78.911\n",
            "square_feet                                         0.0020   6.87e-05     28.457      0.000       0.002       0.002\n",
            "precip_depth_1_hr                                  95.0838      5.712     16.647      0.000      83.879     106.288\n",
            "air_temperature                                    16.2302      2.371      6.844      0.000      11.578      20.882\n",
            "wind_direction                                      1.9692      0.471      4.179      0.000       1.045       2.894\n",
            "sea_level_pressure                                  8.6527      4.298      2.013      0.044       0.222      17.084\n",
            "==============================================================================\n",
            "Omnibus:                     1491.533   Durbin-Watson:                   1.897\n",
            "Prob(Omnibus):                  0.000   Jarque-Bera (JB):           171835.102\n",
            "Skew:                           4.879   Prob(JB):                         0.00\n",
            "Kurtosis:                      56.136   Cond. No.                     8.88e+07\n",
            "==============================================================================\n",
            "\n",
            "Notes:\n",
            "[1] Standard Errors assume that the covariance matrix of the errors is correctly specified.\n",
            "[2] The condition number is large, 8.88e+07. This might indicate that there are\n",
            "strong multicollinearity or other numerical problems.\n",
            "meter_reading ~ square_feet + precip_depth_1_hr + primary_use + air_temperature + wind_direction + cloud_coverage + dew_temperature + wind_speed + 1\n",
            "0.48611497260007963\n"
          ]
        }
      ],
      "execution_count": null
    },
    {
      "cell_type": "code",
      "source": [
        "#model regresi berdasarkan forward selection dari data yang telah discaling\n",
        "reg3 = ols('meter_reading ~ square_feet + precip_depth_1_hr + primary_use + air_temperature + wind_direction + cloud_coverage + dew_temperature + wind_speed + 1', df3).fit()\n",
        "print(reg3.summary())"
      ],
      "metadata": {
        "tags": [],
        "cell_id": "c8694ae27f7c4886b6e508ee071b4fc0",
        "source_hash": "d2809f1b",
        "execution_start": 1668759554723,
        "execution_millis": 425,
        "deepnote_to_be_reexecuted": false,
        "deepnote_cell_type": "code",
        "colab": {
          "base_uri": "https://localhost:8080/"
        },
        "id": "JGr41ErC7zls",
        "outputId": "24b37c65-2832-4719-a170-a9bf752037ab"
      },
      "outputs": [
        {
          "output_type": "stream",
          "name": "stdout",
          "text": [
            "                            OLS Regression Results                            \n",
            "==============================================================================\n",
            "Dep. Variable:          meter_reading   R-squared:                       0.494\n",
            "Model:                            OLS   Adj. R-squared:                  0.486\n",
            "Method:                 Least Squares   F-statistic:                     61.71\n",
            "Date:                Fri, 18 Nov 2022   Prob (F-statistic):          1.42e-187\n",
            "Time:                        08:51:45   Log-Likelihood:                -9897.4\n",
            "No. Observations:                1413   AIC:                         1.984e+04\n",
            "Df Residuals:                    1390   BIC:                         1.996e+04\n",
            "Df Model:                          22                                         \n",
            "Covariance Type:            nonrobust                                         \n",
            "================================================================================================================\n",
            "                                                   coef    std err          t      P>|t|      [0.025      0.975]\n",
            "----------------------------------------------------------------------------------------------------------------\n",
            "Intercept                                     -270.2282     46.863     -5.766      0.000    -362.157    -178.299\n",
            "primary_use[T.Entertainment/public assembly]   -86.4163     23.376     -3.697      0.000    -132.272     -40.560\n",
            "primary_use[T.Food sales and service]           20.0898    121.149      0.166      0.868    -217.565     257.744\n",
            "primary_use[T.Healthcare]                       24.3785     60.178      0.405      0.685     -93.670     142.427\n",
            "primary_use[T.Lodging/residential]             -97.4012     25.609     -3.803      0.000    -147.638     -47.164\n",
            "primary_use[T.Manufacturing/industrial]         -0.7396     86.622     -0.009      0.993    -170.664     169.185\n",
            "primary_use[T.Office]                          -19.7690     20.573     -0.961      0.337     -60.127      20.589\n",
            "primary_use[T.Other]                           -44.6585     55.637     -0.803      0.422    -153.799      64.482\n",
            "primary_use[T.Parking]                        -516.4284     59.976     -8.611      0.000    -634.082    -398.775\n",
            "primary_use[T.Public services]                 -97.6886     25.544     -3.824      0.000    -147.798     -47.580\n",
            "primary_use[T.Religious worship]              -104.1349    155.897     -0.668      0.504    -409.954     201.685\n",
            "primary_use[T.Retail]                           38.0838     82.891      0.459      0.646    -124.521     200.688\n",
            "primary_use[T.Services]                       -315.6918     91.430     -3.453      0.001    -495.047    -136.337\n",
            "primary_use[T.Technology/science]              -21.5298    110.588     -0.195      0.846    -238.467     195.407\n",
            "primary_use[T.Utility]                           0.2810    135.105      0.002      0.998    -264.751     265.313\n",
            "primary_use[T.Warehouse/storage]               -84.1486     78.883     -1.067      0.286    -238.892      70.594\n",
            "square_feet                                   1699.4099     60.139     28.258      0.000    1581.437    1817.383\n",
            "precip_depth_1_hr                             1069.5608     68.976     15.506      0.000     934.253    1204.869\n",
            "air_temperature                                192.1951     44.675      4.302      0.000     104.558     279.832\n",
            "wind_direction                                 180.0827     61.430      2.932      0.003      59.578     300.588\n",
            "cloud_coverage                                  93.2140     37.038      2.517      0.012      20.557     165.871\n",
            "dew_temperature                                 71.0731     36.973      1.922      0.055      -1.456     143.603\n",
            "wind_speed                                     -94.4224     81.691     -1.156      0.248    -254.673      65.828\n",
            "==============================================================================\n",
            "Omnibus:                     1489.307   Durbin-Watson:                   1.904\n",
            "Prob(Omnibus):                  0.000   Jarque-Bera (JB):           171103.076\n",
            "Skew:                           4.867   Prob(JB):                         0.00\n",
            "Kurtosis:                      56.023   Cond. No.                         33.0\n",
            "==============================================================================\n",
            "\n",
            "Notes:\n",
            "[1] Standard Errors assume that the covariance matrix of the errors is correctly specified.\n"
          ]
        }
      ],
      "execution_count": null
    },
    {
      "cell_type": "markdown",
      "source": [
        "#### Interpretasi\n",
        "\n",
        "Berdasarkan AIC terkecil, maka akan digunakan model regresi ke 3 (reg3) untuk diinterpretasi."
      ],
      "metadata": {
        "tags": [],
        "cell_id": "c98ce40a-0539-425a-bcc3-1cdab870183a",
        "deepnote_cell_type": "markdown",
        "id": "RLc-0k9p7zlt"
      }
    },
    {
      "cell_type": "markdown",
      "source": [
        "Didapatkan model sebagai berikut :"
      ],
      "metadata": {
        "tags": [],
        "cell_id": "dbafdf96-90c7-4bb7-bc11-dd648cfa1504",
        "is_collapsed": false,
        "formattedRanges": [],
        "deepnote_cell_type": "text-cell-p",
        "id": "puDABpaL7zlt"
      }
    },
    {
      "cell_type": "markdown",
      "source": [
        "meter_reading = -270.2282 - 86.4163entertaiment + 20.0898food sales + 24.3785healthcare - 97.4012lodging - 0.7396manufacturing - 19.769office - 44.6585other - 516.4284parking - 97.6886publicservices - 104.1349religiworship + 38.0838retail - 315.6918services - 21.5298technology + 0.281utility - 84.1486warehouse + 1699.4099square_feet + 1069.5608precip + 192.1951air_temperature + 180.0827wind_direction + 93.2140cloud_coverage + 71.0731dew_temperature - 94.4224windspeed"
      ],
      "metadata": {
        "tags": [],
        "cell_id": "a1549e7b-bf23-4d94-a9b8-eaafde6cf7a7",
        "is_collapsed": false,
        "formattedRanges": [
          {
            "type": "marks",
            "marks": {
              "bold": true
            },
            "toCodePoint": 471,
            "fromCodePoint": 0
          }
        ],
        "deepnote_cell_type": "text-cell-p",
        "id": "c9EYm86d7zlt"
      }
    },
    {
      "cell_type": "markdown",
      "source": [
        "beberapa contoh interpretasi parameternya : "
      ],
      "metadata": {
        "tags": [],
        "cell_id": "e8ac0852-6f61-43da-9686-c61aed6f421f",
        "is_collapsed": false,
        "formattedRanges": [],
        "deepnote_cell_type": "text-cell-p",
        "id": "lqZm0mj57zlt"
      }
    },
    {
      "cell_type": "markdown",
      "source": [
        "1. Apabila kegunaan bangunannya adalah entertaiment maka konsumsi energi (meter_reading) berkurang sebanyak 86.4163 kWh (interpretasi yg lain serupa)."
      ],
      "metadata": {
        "tags": [],
        "style": "decimal",
        "number": 1,
        "cell_id": "92d504a8-7f51-439e-a2a7-cd60813c8a25",
        "is_collapsed": false,
        "formattedRanges": [],
        "deepnote_cell_type": "text-cell-number",
        "id": "57E3jnsh7zlt"
      }
    },
    {
      "cell_type": "markdown",
      "source": [
        "undefined. Dengan asumsi variabel selain air_temperature konstan, maka konsumsi energi listrik (meter_reading) bertambah sebanyak 192.195 kWh. Hal yang sama juga terjadi dengan variabel lainnya yang memiliki koefisien positif."
      ],
      "metadata": {
        "tags": [],
        "style": "decimal",
        "cell_id": "429f7825-19c1-4f61-908a-d3815d6dc1f4",
        "is_collapsed": false,
        "formattedRanges": [],
        "deepnote_cell_type": "text-cell-number",
        "id": "U1MzB24_7zlu"
      }
    },
    {
      "cell_type": "markdown",
      "source": [
        "undefined. Dengan asumsi variabel selain wind_speed konstan, maka konsumsi energi listrik (meter_reading) bertambah sebanyak 94.4224 kWh. Hal yang sama juga terjadi dengan variabel lainnya yang memiliki koefisien negatif."
      ],
      "metadata": {
        "tags": [],
        "style": "decimal",
        "cell_id": "47a70edb-5aa0-4fa2-8a48-280947af84bd",
        "is_collapsed": false,
        "formattedRanges": [],
        "deepnote_cell_type": "text-cell-number",
        "id": "6WDCKjnj7zlu"
      }
    },
    {
      "cell_type": "markdown",
      "source": [
        "1. Diasumsikan variabel selain primary_use konstan, Kategori primary_use yang paling berpengaruh dalam rata-rata penggunaan energi adalah tempat parkir (T.Parking) dan service (T.Service). Kedua jenis bangunan ini berpotensi mengurangi rata-rata penggunaan energi bangunan. Dengan kata lain, kedua jenis bangunan ini menggunakan listrik lebih sedikit daripada jenis-jenis bangunan lainnya."
      ],
      "metadata": {
        "tags": [],
        "style": "decimal",
        "number": 1,
        "cell_id": "5e36bfd9-f7a8-480c-a8a4-77a53ea4bae9",
        "is_collapsed": false,
        "formattedRanges": [],
        "deepnote_cell_type": "text-cell-number",
        "id": "IaLWqAfX7zlu"
      }
    },
    {
      "cell_type": "markdown",
      "source": [
        "undefined. Diasumsikan variabel selain square_feet konstan, maka meter_reading bertambah sebanyak 1699.4099 kWh. Berarti luas bangunan sangat mempengaruhi rata-rata penggunaan energi listrik suatu bangunan. Hal ini dapat terjadi karena beberapa kemungkinan, misal semakin luas bangunan (terutama bangunan tertutup), semakin banyak juga pencahayaan (lampu, dll) yang diperlukan. Selain itu, bangunan tertutup juga memerlukan banyak AC, terutama di perkotaan, untuk sirkulasi udara. "
      ],
      "metadata": {
        "tags": [],
        "style": "decimal",
        "cell_id": "c2e3a704-8ea3-43be-94c8-3586e5984506",
        "is_collapsed": false,
        "formattedRanges": [],
        "deepnote_cell_type": "text-cell-number",
        "id": "YOHAlY8x7zlu"
      }
    },
    {
      "cell_type": "markdown",
      "source": [
        "### Kesimpulan:\n",
        "* Dari segi kualitas data, terdapat tipe data yang tidak sesuai yaitu tipe data variabel primary_use bertipe object yang seharusnya bertipe kategori, pada variabel floor_count dan year_built ditemukan banyak sekali missing value sehingga kolomnya di drop.\n",
        "* Tidak terdapat data yang duplikat.\n",
        "* Setelah diperiksa outlier variabel meter_reading berdasarkan primary_use, outlier terbanyak ada pada kategori education (pendidikan).\n",
        "* Bangunan yang memiliki konsumsi energi paling banyak adalah bangunan dengan kegunaan utama untuk kesehatan, disusul oleh bangunan yang memiliki kegunaan utama untuk pendidikan, dan bangunan yang memiliki kegunaan utama untuk retail.\n",
        "* Bangunan yang paling banyak digunakan adalah bangunan dengan tujuan aktivitas edukasi.\n",
        "* Meter_reading (konsumsi energi) memiliki korelasi linier positif yang cukup kuat dengan square_feet (luas bangunan), yaitu 0,58. Dapat diinterpretasikan bahwa ada kecenderungan bahwa meter_reading (konsumsi energi) tinggi berkaitan dengan square_feet (luas bangunan) yang lebih luas dibandingkan dengan square_feet (luas bangunan) yang lebih sempit.\n",
        "\n",
        "### Rekomendasi:\n",
        "* Untuk bangunan yang merupakan fasilitas umum dan menggunakan konsumsi energi di atas rata-rata (outlier pada kategori primary use) sebaiknya dilakukan sosialisasi terhadap pihak terkait untuk melakukan aksi hemat energi.\n",
        "* Melakukan pengarahan terhadap pihak yang akan membuat bangunan di masa depan untuk lokasi bangunan sebaiknya lebih diperhatikan lagi karena variabel wind_direction signifikan yang berarti bangunan yang berhadapan dengan angin atau tidak bisa berpengaruh pada penggunaan energi.\n",
        "* Pendirian bangunan sebaiknya menghindari lokasi yang berangin kencang. Hal ini dikarenakan, angin kencang dapat meningkatkan risiko terjadinya masalah sistem listrik, seperti tiang listrik rubuh, listrik korslet, dan kabel kusut. \n",
        "* Jika lokasi bangunan luas dan memiliki tanah terbuka yang besar, kami merekomendasikan untuk mendirikan turbin angin yang dapat menghasilkan energi listrik sehingga konsumsi bangunan tidak bergantung pada energi listrik dari fosil."
      ],
      "metadata": {
        "tags": [],
        "cell_id": "d47a3bc81cb64a15a1138a48f425231f",
        "deepnote_cell_type": "markdown",
        "id": "uMUFL5vs7zlu"
      }
    },
    {
      "cell_type": "markdown",
      "source": [
        "### Referensi"
      ],
      "metadata": {
        "tags": [],
        "cell_id": "073ef0c686e54bfd978a719db7f32889",
        "is_collapsed": false,
        "formattedRanges": [],
        "deepnote_cell_type": "text-cell-h3",
        "id": "DLYnDQ3H7zlv"
      }
    },
    {
      "cell_type": "markdown",
      "source": [
        "https://energyeducation.ca/encyclopedia/Wind_power"
      ],
      "metadata": {
        "tags": [],
        "cell_id": "87f97bf6-7796-4fa6-9ff1-87e773781ea6",
        "is_collapsed": false,
        "formattedRanges": [
          {
            "url": "https://energyeducation.ca/encyclopedia/Wind_power",
            "type": "link",
            "ranges": [],
            "toCodePoint": 50,
            "fromCodePoint": 0
          }
        ],
        "deepnote_cell_type": "text-cell-p",
        "id": "uFj29zG07zlv"
      }
    },
    {
      "cell_type": "markdown",
      "source": [
        "<a style='text-decoration:none;line-height:16px;display:flex;color:#5B5B62;padding:10px;justify-content:end;' href='https://deepnote.com?utm_source=created-in-deepnote-cell&projectId=3de7a0f0-ff24-4715-89ca-acd1ae05c009' target=\"_blank\">\n",
        "<img alt='Created in deepnote.com' style='display:inline;max-height:16px;margin:0px;margin-right:7.5px;' src='data:image/svg+xml;base64,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' > </img>\n",
        "Created in <span style='font-weight:600;margin-left:4px;'>Deepnote</span></a>"
      ],
      "metadata": {
        "tags": [],
        "created_in_deepnote_cell": true,
        "deepnote_cell_type": "markdown",
        "id": "H1g9E3_17zlv"
      }
    }
  ],
  "nbformat": 4,
  "nbformat_minor": 0,
  "metadata": {
    "deepnote": {},
    "orig_nbformat": 2,
    "deepnote_notebook_id": "88b2472436c4402aae2b795f43084f24",
    "deepnote_persisted_session": {
      "createdAt": "2022-11-18T03:49:17.093Z"
    },
    "deepnote_execution_queue": [],
    "colab": {
      "provenance": [],
      "include_colab_link": true
    },
    "language_info": {
      "name": "python"
    },
    "kernelspec": {
      "name": "python3",
      "display_name": "Python 3"
    },
    "gpuClass": "standard"
  }
}